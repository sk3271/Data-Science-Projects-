{
 "cells": [
  {
   "cell_type": "code",
   "execution_count": 1,
   "id": "70b01e3a",
   "metadata": {
    "execution": {
     "iopub.execute_input": "2023-02-03T23:19:22.479917Z",
     "iopub.status.busy": "2023-02-03T23:19:22.478874Z",
     "iopub.status.idle": "2023-02-03T23:19:23.654886Z",
     "shell.execute_reply": "2023-02-03T23:19:23.653516Z"
    },
    "papermill": {
     "duration": 1.211046,
     "end_time": "2023-02-03T23:19:23.658198",
     "exception": false,
     "start_time": "2023-02-03T23:19:22.447152",
     "status": "completed"
    },
    "tags": []
   },
   "outputs": [],
   "source": [
    "import pandas as pd\n",
    "import numpy as np\n",
    "import seaborn as sns \n",
    "import matplotlib.ticker as mtick  \n",
    "import matplotlib.pyplot as plt\n",
    "%matplotlib inline\n"
   ]
  },
  {
   "cell_type": "code",
   "execution_count": 2,
   "id": "17d65ddd",
   "metadata": {
    "execution": {
     "iopub.execute_input": "2023-02-03T23:19:23.720478Z",
     "iopub.status.busy": "2023-02-03T23:19:23.720058Z",
     "iopub.status.idle": "2023-02-03T23:19:23.768258Z",
     "shell.execute_reply": "2023-02-03T23:19:23.767003Z"
    },
    "papermill": {
     "duration": 0.083025,
     "end_time": "2023-02-03T23:19:23.771178",
     "exception": false,
     "start_time": "2023-02-03T23:19:23.688153",
     "status": "completed"
    },
    "tags": []
   },
   "outputs": [
    {
     "data": {
      "text/html": [
       "<div>\n",
       "<style scoped>\n",
       "    .dataframe tbody tr th:only-of-type {\n",
       "        vertical-align: middle;\n",
       "    }\n",
       "\n",
       "    .dataframe tbody tr th {\n",
       "        vertical-align: top;\n",
       "    }\n",
       "\n",
       "    .dataframe thead th {\n",
       "        text-align: right;\n",
       "    }\n",
       "</style>\n",
       "<table border=\"1\" class=\"dataframe\">\n",
       "  <thead>\n",
       "    <tr style=\"text-align: right;\">\n",
       "      <th></th>\n",
       "      <th>age;\"job\";\"marital\";\"education\";\"default\";\"balance\";\"housing\";\"loan\";\"contact\";\"day\";\"month\";\"duration\";\"campaign\";\"pdays\";\"previous\";\"poutcome\";\"y\"</th>\n",
       "    </tr>\n",
       "  </thead>\n",
       "  <tbody>\n",
       "    <tr>\n",
       "      <th>0</th>\n",
       "      <td>30;\"unemployed\";\"married\";\"primary\";\"no\";1787;...</td>\n",
       "    </tr>\n",
       "    <tr>\n",
       "      <th>1</th>\n",
       "      <td>33;\"services\";\"married\";\"secondary\";\"no\";4789;...</td>\n",
       "    </tr>\n",
       "    <tr>\n",
       "      <th>2</th>\n",
       "      <td>35;\"management\";\"single\";\"tertiary\";\"no\";1350;...</td>\n",
       "    </tr>\n",
       "    <tr>\n",
       "      <th>3</th>\n",
       "      <td>30;\"management\";\"married\";\"tertiary\";\"no\";1476...</td>\n",
       "    </tr>\n",
       "    <tr>\n",
       "      <th>4</th>\n",
       "      <td>59;\"blue-collar\";\"married\";\"secondary\";\"no\";0;...</td>\n",
       "    </tr>\n",
       "    <tr>\n",
       "      <th>...</th>\n",
       "      <td>...</td>\n",
       "    </tr>\n",
       "    <tr>\n",
       "      <th>4516</th>\n",
       "      <td>33;\"services\";\"married\";\"secondary\";\"no\";-333;...</td>\n",
       "    </tr>\n",
       "    <tr>\n",
       "      <th>4517</th>\n",
       "      <td>57;\"self-employed\";\"married\";\"tertiary\";\"yes\";...</td>\n",
       "    </tr>\n",
       "    <tr>\n",
       "      <th>4518</th>\n",
       "      <td>57;\"technician\";\"married\";\"secondary\";\"no\";295...</td>\n",
       "    </tr>\n",
       "    <tr>\n",
       "      <th>4519</th>\n",
       "      <td>28;\"blue-collar\";\"married\";\"secondary\";\"no\";11...</td>\n",
       "    </tr>\n",
       "    <tr>\n",
       "      <th>4520</th>\n",
       "      <td>44;\"entrepreneur\";\"single\";\"tertiary\";\"no\";113...</td>\n",
       "    </tr>\n",
       "  </tbody>\n",
       "</table>\n",
       "<p>4521 rows × 1 columns</p>\n",
       "</div>"
      ],
      "text/plain": [
       "     age;\"job\";\"marital\";\"education\";\"default\";\"balance\";\"housing\";\"loan\";\"contact\";\"day\";\"month\";\"duration\";\"campaign\";\"pdays\";\"previous\";\"poutcome\";\"y\"\n",
       "0     30;\"unemployed\";\"married\";\"primary\";\"no\";1787;...                                                                                                  \n",
       "1     33;\"services\";\"married\";\"secondary\";\"no\";4789;...                                                                                                  \n",
       "2     35;\"management\";\"single\";\"tertiary\";\"no\";1350;...                                                                                                  \n",
       "3     30;\"management\";\"married\";\"tertiary\";\"no\";1476...                                                                                                  \n",
       "4     59;\"blue-collar\";\"married\";\"secondary\";\"no\";0;...                                                                                                  \n",
       "...                                                 ...                                                                                                  \n",
       "4516  33;\"services\";\"married\";\"secondary\";\"no\";-333;...                                                                                                  \n",
       "4517  57;\"self-employed\";\"married\";\"tertiary\";\"yes\";...                                                                                                  \n",
       "4518  57;\"technician\";\"married\";\"secondary\";\"no\";295...                                                                                                  \n",
       "4519  28;\"blue-collar\";\"married\";\"secondary\";\"no\";11...                                                                                                  \n",
       "4520  44;\"entrepreneur\";\"single\";\"tertiary\";\"no\";113...                                                                                                  \n",
       "\n",
       "[4521 rows x 1 columns]"
      ]
     },
     "execution_count": 2,
     "metadata": {},
     "output_type": "execute_result"
    }
   ],
   "source": [
    "bank=pd.read_csv(\"C:\\\\Users\\\\ads\\\\Desktop\\\\bank (1).csv\")\n",
    "bank"
   ]
  },
  {
   "cell_type": "code",
   "execution_count": 3,
   "id": "da9ca59a",
   "metadata": {
    "execution": {
     "iopub.execute_input": "2023-02-03T23:19:23.834464Z",
     "iopub.status.busy": "2023-02-03T23:19:23.833478Z",
     "iopub.status.idle": "2023-02-03T23:19:23.867477Z",
     "shell.execute_reply": "2023-02-03T23:19:23.866298Z"
    },
    "papermill": {
     "duration": 0.068528,
     "end_time": "2023-02-03T23:19:23.869983",
     "exception": false,
     "start_time": "2023-02-03T23:19:23.801455",
     "status": "completed"
    },
    "tags": []
   },
   "outputs": [
    {
     "data": {
      "text/html": [
       "<div>\n",
       "<style scoped>\n",
       "    .dataframe tbody tr th:only-of-type {\n",
       "        vertical-align: middle;\n",
       "    }\n",
       "\n",
       "    .dataframe tbody tr th {\n",
       "        vertical-align: top;\n",
       "    }\n",
       "\n",
       "    .dataframe thead th {\n",
       "        text-align: right;\n",
       "    }\n",
       "</style>\n",
       "<table border=\"1\" class=\"dataframe\">\n",
       "  <thead>\n",
       "    <tr style=\"text-align: right;\">\n",
       "      <th></th>\n",
       "      <th>age</th>\n",
       "      <th>job</th>\n",
       "      <th>marital</th>\n",
       "      <th>education</th>\n",
       "      <th>default</th>\n",
       "      <th>balance</th>\n",
       "      <th>housing</th>\n",
       "      <th>loan</th>\n",
       "      <th>contact</th>\n",
       "      <th>day</th>\n",
       "      <th>month</th>\n",
       "      <th>duration</th>\n",
       "      <th>campaign</th>\n",
       "      <th>pdays</th>\n",
       "      <th>previous</th>\n",
       "      <th>poutcome</th>\n",
       "      <th>y</th>\n",
       "    </tr>\n",
       "  </thead>\n",
       "  <tbody>\n",
       "    <tr>\n",
       "      <th>0</th>\n",
       "      <td>30</td>\n",
       "      <td>unemployed</td>\n",
       "      <td>married</td>\n",
       "      <td>primary</td>\n",
       "      <td>no</td>\n",
       "      <td>1787</td>\n",
       "      <td>no</td>\n",
       "      <td>no</td>\n",
       "      <td>cellular</td>\n",
       "      <td>19</td>\n",
       "      <td>oct</td>\n",
       "      <td>79</td>\n",
       "      <td>1</td>\n",
       "      <td>-1</td>\n",
       "      <td>0</td>\n",
       "      <td>unknown</td>\n",
       "      <td>no</td>\n",
       "    </tr>\n",
       "    <tr>\n",
       "      <th>1</th>\n",
       "      <td>33</td>\n",
       "      <td>services</td>\n",
       "      <td>married</td>\n",
       "      <td>secondary</td>\n",
       "      <td>no</td>\n",
       "      <td>4789</td>\n",
       "      <td>yes</td>\n",
       "      <td>yes</td>\n",
       "      <td>cellular</td>\n",
       "      <td>11</td>\n",
       "      <td>may</td>\n",
       "      <td>220</td>\n",
       "      <td>1</td>\n",
       "      <td>339</td>\n",
       "      <td>4</td>\n",
       "      <td>failure</td>\n",
       "      <td>no</td>\n",
       "    </tr>\n",
       "    <tr>\n",
       "      <th>2</th>\n",
       "      <td>35</td>\n",
       "      <td>management</td>\n",
       "      <td>single</td>\n",
       "      <td>tertiary</td>\n",
       "      <td>no</td>\n",
       "      <td>1350</td>\n",
       "      <td>yes</td>\n",
       "      <td>no</td>\n",
       "      <td>cellular</td>\n",
       "      <td>16</td>\n",
       "      <td>apr</td>\n",
       "      <td>185</td>\n",
       "      <td>1</td>\n",
       "      <td>330</td>\n",
       "      <td>1</td>\n",
       "      <td>failure</td>\n",
       "      <td>no</td>\n",
       "    </tr>\n",
       "    <tr>\n",
       "      <th>3</th>\n",
       "      <td>30</td>\n",
       "      <td>management</td>\n",
       "      <td>married</td>\n",
       "      <td>tertiary</td>\n",
       "      <td>no</td>\n",
       "      <td>1476</td>\n",
       "      <td>yes</td>\n",
       "      <td>yes</td>\n",
       "      <td>unknown</td>\n",
       "      <td>3</td>\n",
       "      <td>jun</td>\n",
       "      <td>199</td>\n",
       "      <td>4</td>\n",
       "      <td>-1</td>\n",
       "      <td>0</td>\n",
       "      <td>unknown</td>\n",
       "      <td>no</td>\n",
       "    </tr>\n",
       "    <tr>\n",
       "      <th>4</th>\n",
       "      <td>59</td>\n",
       "      <td>blue-collar</td>\n",
       "      <td>married</td>\n",
       "      <td>secondary</td>\n",
       "      <td>no</td>\n",
       "      <td>0</td>\n",
       "      <td>yes</td>\n",
       "      <td>no</td>\n",
       "      <td>unknown</td>\n",
       "      <td>5</td>\n",
       "      <td>may</td>\n",
       "      <td>226</td>\n",
       "      <td>1</td>\n",
       "      <td>-1</td>\n",
       "      <td>0</td>\n",
       "      <td>unknown</td>\n",
       "      <td>no</td>\n",
       "    </tr>\n",
       "  </tbody>\n",
       "</table>\n",
       "</div>"
      ],
      "text/plain": [
       "   age          job  marital  education default  balance housing loan  \\\n",
       "0   30   unemployed  married    primary      no     1787      no   no   \n",
       "1   33     services  married  secondary      no     4789     yes  yes   \n",
       "2   35   management   single   tertiary      no     1350     yes   no   \n",
       "3   30   management  married   tertiary      no     1476     yes  yes   \n",
       "4   59  blue-collar  married  secondary      no        0     yes   no   \n",
       "\n",
       "    contact  day month  duration  campaign  pdays  previous poutcome   y  \n",
       "0  cellular   19   oct        79         1     -1         0  unknown  no  \n",
       "1  cellular   11   may       220         1    339         4  failure  no  \n",
       "2  cellular   16   apr       185         1    330         1  failure  no  \n",
       "3   unknown    3   jun       199         4     -1         0  unknown  no  \n",
       "4   unknown    5   may       226         1     -1         0  unknown  no  "
      ]
     },
     "execution_count": 3,
     "metadata": {},
     "output_type": "execute_result"
    }
   ],
   "source": [
    "bank = pd.read_csv(\"C:\\\\Users\\\\ads\\\\Desktop\\\\bank (1).csv\",sep=\";\")\n",
    "bank.head()"
   ]
  },
  {
   "cell_type": "code",
   "execution_count": 4,
   "id": "27a0cf92",
   "metadata": {
    "execution": {
     "iopub.execute_input": "2023-02-03T23:19:23.933281Z",
     "iopub.status.busy": "2023-02-03T23:19:23.932617Z",
     "iopub.status.idle": "2023-02-03T23:19:23.939453Z",
     "shell.execute_reply": "2023-02-03T23:19:23.938508Z"
    },
    "papermill": {
     "duration": 0.041136,
     "end_time": "2023-02-03T23:19:23.941699",
     "exception": false,
     "start_time": "2023-02-03T23:19:23.900563",
     "status": "completed"
    },
    "tags": []
   },
   "outputs": [
    {
     "data": {
      "text/plain": [
       "(4521, 17)"
      ]
     },
     "execution_count": 4,
     "metadata": {},
     "output_type": "execute_result"
    }
   ],
   "source": [
    "bank.shape"
   ]
  },
  {
   "cell_type": "markdown",
   "id": "26c0ce4a",
   "metadata": {
    "papermill": {
     "duration": 0.030273,
     "end_time": "2023-02-03T23:19:24.003056",
     "exception": false,
     "start_time": "2023-02-03T23:19:23.972783",
     "status": "completed"
    },
    "tags": []
   },
   "source": [
    "Initially we have 4521 rows and 17 columns"
   ]
  },
  {
   "cell_type": "code",
   "execution_count": 5,
   "id": "1a587d1c",
   "metadata": {
    "execution": {
     "iopub.execute_input": "2023-02-03T23:19:24.065440Z",
     "iopub.status.busy": "2023-02-03T23:19:24.065004Z",
     "iopub.status.idle": "2023-02-03T23:19:24.071705Z",
     "shell.execute_reply": "2023-02-03T23:19:24.070506Z"
    },
    "papermill": {
     "duration": 0.040744,
     "end_time": "2023-02-03T23:19:24.074168",
     "exception": false,
     "start_time": "2023-02-03T23:19:24.033424",
     "status": "completed"
    },
    "tags": []
   },
   "outputs": [
    {
     "data": {
      "text/plain": [
       "array(['age', 'job', 'marital', 'education', 'default', 'balance',\n",
       "       'housing', 'loan', 'contact', 'day', 'month', 'duration',\n",
       "       'campaign', 'pdays', 'previous', 'poutcome', 'y'], dtype=object)"
      ]
     },
     "execution_count": 5,
     "metadata": {},
     "output_type": "execute_result"
    }
   ],
   "source": [
    "bank.columns.values"
   ]
  },
  {
   "cell_type": "code",
   "execution_count": 6,
   "id": "74d12d73",
   "metadata": {
    "execution": {
     "iopub.execute_input": "2023-02-03T23:19:24.137994Z",
     "iopub.status.busy": "2023-02-03T23:19:24.136713Z",
     "iopub.status.idle": "2023-02-03T23:19:24.182011Z",
     "shell.execute_reply": "2023-02-03T23:19:24.180812Z"
    },
    "papermill": {
     "duration": 0.079755,
     "end_time": "2023-02-03T23:19:24.184622",
     "exception": false,
     "start_time": "2023-02-03T23:19:24.104867",
     "status": "completed"
    },
    "tags": []
   },
   "outputs": [
    {
     "data": {
      "text/html": [
       "<div>\n",
       "<style scoped>\n",
       "    .dataframe tbody tr th:only-of-type {\n",
       "        vertical-align: middle;\n",
       "    }\n",
       "\n",
       "    .dataframe tbody tr th {\n",
       "        vertical-align: top;\n",
       "    }\n",
       "\n",
       "    .dataframe thead th {\n",
       "        text-align: right;\n",
       "    }\n",
       "</style>\n",
       "<table border=\"1\" class=\"dataframe\">\n",
       "  <thead>\n",
       "    <tr style=\"text-align: right;\">\n",
       "      <th></th>\n",
       "      <th>age</th>\n",
       "      <th>balance</th>\n",
       "      <th>day</th>\n",
       "      <th>duration</th>\n",
       "      <th>campaign</th>\n",
       "      <th>pdays</th>\n",
       "      <th>previous</th>\n",
       "    </tr>\n",
       "  </thead>\n",
       "  <tbody>\n",
       "    <tr>\n",
       "      <th>count</th>\n",
       "      <td>4521.000000</td>\n",
       "      <td>4521.000000</td>\n",
       "      <td>4521.000000</td>\n",
       "      <td>4521.000000</td>\n",
       "      <td>4521.000000</td>\n",
       "      <td>4521.000000</td>\n",
       "      <td>4521.000000</td>\n",
       "    </tr>\n",
       "    <tr>\n",
       "      <th>mean</th>\n",
       "      <td>41.170095</td>\n",
       "      <td>1422.657819</td>\n",
       "      <td>15.915284</td>\n",
       "      <td>263.961292</td>\n",
       "      <td>2.793630</td>\n",
       "      <td>39.766645</td>\n",
       "      <td>0.542579</td>\n",
       "    </tr>\n",
       "    <tr>\n",
       "      <th>std</th>\n",
       "      <td>10.576211</td>\n",
       "      <td>3009.638142</td>\n",
       "      <td>8.247667</td>\n",
       "      <td>259.856633</td>\n",
       "      <td>3.109807</td>\n",
       "      <td>100.121124</td>\n",
       "      <td>1.693562</td>\n",
       "    </tr>\n",
       "    <tr>\n",
       "      <th>min</th>\n",
       "      <td>19.000000</td>\n",
       "      <td>-3313.000000</td>\n",
       "      <td>1.000000</td>\n",
       "      <td>4.000000</td>\n",
       "      <td>1.000000</td>\n",
       "      <td>-1.000000</td>\n",
       "      <td>0.000000</td>\n",
       "    </tr>\n",
       "    <tr>\n",
       "      <th>25%</th>\n",
       "      <td>33.000000</td>\n",
       "      <td>69.000000</td>\n",
       "      <td>9.000000</td>\n",
       "      <td>104.000000</td>\n",
       "      <td>1.000000</td>\n",
       "      <td>-1.000000</td>\n",
       "      <td>0.000000</td>\n",
       "    </tr>\n",
       "    <tr>\n",
       "      <th>50%</th>\n",
       "      <td>39.000000</td>\n",
       "      <td>444.000000</td>\n",
       "      <td>16.000000</td>\n",
       "      <td>185.000000</td>\n",
       "      <td>2.000000</td>\n",
       "      <td>-1.000000</td>\n",
       "      <td>0.000000</td>\n",
       "    </tr>\n",
       "    <tr>\n",
       "      <th>75%</th>\n",
       "      <td>49.000000</td>\n",
       "      <td>1480.000000</td>\n",
       "      <td>21.000000</td>\n",
       "      <td>329.000000</td>\n",
       "      <td>3.000000</td>\n",
       "      <td>-1.000000</td>\n",
       "      <td>0.000000</td>\n",
       "    </tr>\n",
       "    <tr>\n",
       "      <th>max</th>\n",
       "      <td>87.000000</td>\n",
       "      <td>71188.000000</td>\n",
       "      <td>31.000000</td>\n",
       "      <td>3025.000000</td>\n",
       "      <td>50.000000</td>\n",
       "      <td>871.000000</td>\n",
       "      <td>25.000000</td>\n",
       "    </tr>\n",
       "  </tbody>\n",
       "</table>\n",
       "</div>"
      ],
      "text/plain": [
       "               age       balance          day     duration     campaign  \\\n",
       "count  4521.000000   4521.000000  4521.000000  4521.000000  4521.000000   \n",
       "mean     41.170095   1422.657819    15.915284   263.961292     2.793630   \n",
       "std      10.576211   3009.638142     8.247667   259.856633     3.109807   \n",
       "min      19.000000  -3313.000000     1.000000     4.000000     1.000000   \n",
       "25%      33.000000     69.000000     9.000000   104.000000     1.000000   \n",
       "50%      39.000000    444.000000    16.000000   185.000000     2.000000   \n",
       "75%      49.000000   1480.000000    21.000000   329.000000     3.000000   \n",
       "max      87.000000  71188.000000    31.000000  3025.000000    50.000000   \n",
       "\n",
       "             pdays     previous  \n",
       "count  4521.000000  4521.000000  \n",
       "mean     39.766645     0.542579  \n",
       "std     100.121124     1.693562  \n",
       "min      -1.000000     0.000000  \n",
       "25%      -1.000000     0.000000  \n",
       "50%      -1.000000     0.000000  \n",
       "75%      -1.000000     0.000000  \n",
       "max     871.000000    25.000000  "
      ]
     },
     "execution_count": 6,
     "metadata": {},
     "output_type": "execute_result"
    }
   ],
   "source": [
    "bank.describe()"
   ]
  },
  {
   "cell_type": "code",
   "execution_count": 7,
   "id": "3b318dd1",
   "metadata": {
    "execution": {
     "iopub.execute_input": "2023-02-03T23:19:24.249092Z",
     "iopub.status.busy": "2023-02-03T23:19:24.248655Z",
     "iopub.status.idle": "2023-02-03T23:19:24.268805Z",
     "shell.execute_reply": "2023-02-03T23:19:24.267178Z"
    },
    "papermill": {
     "duration": 0.055306,
     "end_time": "2023-02-03T23:19:24.271493",
     "exception": false,
     "start_time": "2023-02-03T23:19:24.216187",
     "status": "completed"
    },
    "tags": []
   },
   "outputs": [
    {
     "name": "stdout",
     "output_type": "stream",
     "text": [
      "<class 'pandas.core.frame.DataFrame'>\n",
      "RangeIndex: 4521 entries, 0 to 4520\n",
      "Data columns (total 17 columns):\n",
      " #   Column     Non-Null Count  Dtype \n",
      "---  ------     --------------  ----- \n",
      " 0   age        4521 non-null   int64 \n",
      " 1   job        4521 non-null   object\n",
      " 2   marital    4521 non-null   object\n",
      " 3   education  4521 non-null   object\n",
      " 4   default    4521 non-null   object\n",
      " 5   balance    4521 non-null   int64 \n",
      " 6   housing    4521 non-null   object\n",
      " 7   loan       4521 non-null   object\n",
      " 8   contact    4521 non-null   object\n",
      " 9   day        4521 non-null   int64 \n",
      " 10  month      4521 non-null   object\n",
      " 11  duration   4521 non-null   int64 \n",
      " 12  campaign   4521 non-null   int64 \n",
      " 13  pdays      4521 non-null   int64 \n",
      " 14  previous   4521 non-null   int64 \n",
      " 15  poutcome   4521 non-null   object\n",
      " 16  y          4521 non-null   object\n",
      "dtypes: int64(7), object(10)\n",
      "memory usage: 600.6+ KB\n"
     ]
    }
   ],
   "source": [
    "bank.info()"
   ]
  },
  {
   "cell_type": "markdown",
   "id": "40e76618",
   "metadata": {
    "papermill": {
     "duration": 0.030517,
     "end_time": "2023-02-03T23:19:24.334122",
     "exception": false,
     "start_time": "2023-02-03T23:19:24.303605",
     "status": "completed"
    },
    "tags": []
   },
   "source": [
    "We have 7 features of int value attributes and 10 of object data types"
   ]
  },
  {
   "cell_type": "code",
   "execution_count": 8,
   "id": "4bce1b9e",
   "metadata": {
    "execution": {
     "iopub.execute_input": "2023-02-03T23:19:24.400239Z",
     "iopub.status.busy": "2023-02-03T23:19:24.399538Z",
     "iopub.status.idle": "2023-02-03T23:19:24.410869Z",
     "shell.execute_reply": "2023-02-03T23:19:24.409805Z"
    },
    "papermill": {
     "duration": 0.047535,
     "end_time": "2023-02-03T23:19:24.413211",
     "exception": false,
     "start_time": "2023-02-03T23:19:24.365676",
     "status": "completed"
    },
    "tags": []
   },
   "outputs": [
    {
     "data": {
      "text/plain": [
       "age          0\n",
       "job          0\n",
       "marital      0\n",
       "education    0\n",
       "default      0\n",
       "balance      0\n",
       "housing      0\n",
       "loan         0\n",
       "contact      0\n",
       "day          0\n",
       "month        0\n",
       "duration     0\n",
       "campaign     0\n",
       "pdays        0\n",
       "previous     0\n",
       "poutcome     0\n",
       "y            0\n",
       "dtype: int64"
      ]
     },
     "execution_count": 8,
     "metadata": {},
     "output_type": "execute_result"
    }
   ],
   "source": [
    "bank.isnull().sum()"
   ]
  },
  {
   "cell_type": "markdown",
   "id": "bfc252a0",
   "metadata": {
    "papermill": {
     "duration": 0.030759,
     "end_time": "2023-02-03T23:19:24.474856",
     "exception": false,
     "start_time": "2023-02-03T23:19:24.444097",
     "status": "completed"
    },
    "tags": []
   },
   "source": [
    "No Null values in given dataset"
   ]
  },
  {
   "cell_type": "code",
   "execution_count": 9,
   "id": "88a97917",
   "metadata": {
    "execution": {
     "iopub.execute_input": "2023-02-03T23:19:24.551218Z",
     "iopub.status.busy": "2023-02-03T23:19:24.550253Z",
     "iopub.status.idle": "2023-02-03T23:19:24.570009Z",
     "shell.execute_reply": "2023-02-03T23:19:24.569136Z"
    },
    "papermill": {
     "duration": 0.065236,
     "end_time": "2023-02-03T23:19:24.573457",
     "exception": false,
     "start_time": "2023-02-03T23:19:24.508221",
     "status": "completed"
    },
    "tags": []
   },
   "outputs": [
    {
     "data": {
      "text/plain": [
       "0"
      ]
     },
     "execution_count": 9,
     "metadata": {},
     "output_type": "execute_result"
    }
   ],
   "source": [
    "bank.duplicated().sum()"
   ]
  },
  {
   "cell_type": "markdown",
   "id": "9ffb8217",
   "metadata": {
    "papermill": {
     "duration": 0.032227,
     "end_time": "2023-02-03T23:19:24.643863",
     "exception": false,
     "start_time": "2023-02-03T23:19:24.611636",
     "status": "completed"
    },
    "tags": []
   },
   "source": [
    "No duplicate values in given dataset"
   ]
  },
  {
   "cell_type": "code",
   "execution_count": 10,
   "id": "dfe24d79",
   "metadata": {
    "execution": {
     "iopub.execute_input": "2023-02-03T23:19:24.707377Z",
     "iopub.status.busy": "2023-02-03T23:19:24.706948Z",
     "iopub.status.idle": "2023-02-03T23:19:24.715353Z",
     "shell.execute_reply": "2023-02-03T23:19:24.714348Z"
    },
    "papermill": {
     "duration": 0.042836,
     "end_time": "2023-02-03T23:19:24.717556",
     "exception": false,
     "start_time": "2023-02-03T23:19:24.674720",
     "status": "completed"
    },
    "tags": []
   },
   "outputs": [
    {
     "data": {
      "text/plain": [
       "no     4000\n",
       "yes     521\n",
       "Name: y, dtype: int64"
      ]
     },
     "execution_count": 10,
     "metadata": {},
     "output_type": "execute_result"
    }
   ],
   "source": [
    "bank['y'].value_counts()"
   ]
  },
  {
   "cell_type": "code",
   "execution_count": 11,
   "id": "101fe764",
   "metadata": {
    "execution": {
     "iopub.execute_input": "2023-02-03T23:19:24.782438Z",
     "iopub.status.busy": "2023-02-03T23:19:24.781662Z",
     "iopub.status.idle": "2023-02-03T23:19:24.791594Z",
     "shell.execute_reply": "2023-02-03T23:19:24.790635Z"
    },
    "papermill": {
     "duration": 0.044379,
     "end_time": "2023-02-03T23:19:24.793894",
     "exception": false,
     "start_time": "2023-02-03T23:19:24.749515",
     "status": "completed"
    },
    "tags": []
   },
   "outputs": [
    {
     "data": {
      "text/plain": [
       "no     88.476001\n",
       "yes    11.523999\n",
       "Name: y, dtype: float64"
      ]
     },
     "execution_count": 11,
     "metadata": {},
     "output_type": "execute_result"
    }
   ],
   "source": [
    "100*bank['y'].value_counts()/len(bank['y'])"
   ]
  },
  {
   "cell_type": "markdown",
   "id": "9d4beaa8",
   "metadata": {
    "papermill": {
     "duration": 0.03093,
     "end_time": "2023-02-03T23:19:24.917871",
     "exception": false,
     "start_time": "2023-02-03T23:19:24.886941",
     "status": "completed"
    },
    "tags": []
   },
   "source": [
    "We'll copy the data in another dataframe to avoid data loss of orignal data. "
   ]
  },
  {
   "cell_type": "code",
   "execution_count": 12,
   "id": "4070621f",
   "metadata": {
    "execution": {
     "iopub.execute_input": "2023-02-03T23:19:24.982567Z",
     "iopub.status.busy": "2023-02-03T23:19:24.982127Z",
     "iopub.status.idle": "2023-02-03T23:19:24.987646Z",
     "shell.execute_reply": "2023-02-03T23:19:24.986550Z"
    },
    "papermill": {
     "duration": 0.040388,
     "end_time": "2023-02-03T23:19:24.989831",
     "exception": false,
     "start_time": "2023-02-03T23:19:24.949443",
     "status": "completed"
    },
    "tags": []
   },
   "outputs": [],
   "source": [
    "churn = bank.copy()"
   ]
  },
  {
   "cell_type": "code",
   "execution_count": 13,
   "id": "2987c88a",
   "metadata": {
    "execution": {
     "iopub.execute_input": "2023-02-03T23:19:25.054055Z",
     "iopub.status.busy": "2023-02-03T23:19:25.053625Z",
     "iopub.status.idle": "2023-02-03T23:19:25.072971Z",
     "shell.execute_reply": "2023-02-03T23:19:25.071908Z"
    },
    "papermill": {
     "duration": 0.054135,
     "end_time": "2023-02-03T23:19:25.075131",
     "exception": false,
     "start_time": "2023-02-03T23:19:25.020996",
     "status": "completed"
    },
    "tags": []
   },
   "outputs": [
    {
     "data": {
      "text/html": [
       "<div>\n",
       "<style scoped>\n",
       "    .dataframe tbody tr th:only-of-type {\n",
       "        vertical-align: middle;\n",
       "    }\n",
       "\n",
       "    .dataframe tbody tr th {\n",
       "        vertical-align: top;\n",
       "    }\n",
       "\n",
       "    .dataframe thead th {\n",
       "        text-align: right;\n",
       "    }\n",
       "</style>\n",
       "<table border=\"1\" class=\"dataframe\">\n",
       "  <thead>\n",
       "    <tr style=\"text-align: right;\">\n",
       "      <th></th>\n",
       "      <th>age</th>\n",
       "      <th>job</th>\n",
       "      <th>marital</th>\n",
       "      <th>education</th>\n",
       "      <th>default</th>\n",
       "      <th>balance</th>\n",
       "      <th>housing</th>\n",
       "      <th>loan</th>\n",
       "      <th>contact</th>\n",
       "      <th>day</th>\n",
       "      <th>month</th>\n",
       "      <th>duration</th>\n",
       "      <th>campaign</th>\n",
       "      <th>pdays</th>\n",
       "      <th>previous</th>\n",
       "      <th>poutcome</th>\n",
       "      <th>y</th>\n",
       "    </tr>\n",
       "  </thead>\n",
       "  <tbody>\n",
       "    <tr>\n",
       "      <th>0</th>\n",
       "      <td>30</td>\n",
       "      <td>unemployed</td>\n",
       "      <td>married</td>\n",
       "      <td>primary</td>\n",
       "      <td>no</td>\n",
       "      <td>1787</td>\n",
       "      <td>no</td>\n",
       "      <td>no</td>\n",
       "      <td>cellular</td>\n",
       "      <td>19</td>\n",
       "      <td>oct</td>\n",
       "      <td>79</td>\n",
       "      <td>1</td>\n",
       "      <td>-1</td>\n",
       "      <td>0</td>\n",
       "      <td>unknown</td>\n",
       "      <td>no</td>\n",
       "    </tr>\n",
       "    <tr>\n",
       "      <th>1</th>\n",
       "      <td>33</td>\n",
       "      <td>services</td>\n",
       "      <td>married</td>\n",
       "      <td>secondary</td>\n",
       "      <td>no</td>\n",
       "      <td>4789</td>\n",
       "      <td>yes</td>\n",
       "      <td>yes</td>\n",
       "      <td>cellular</td>\n",
       "      <td>11</td>\n",
       "      <td>may</td>\n",
       "      <td>220</td>\n",
       "      <td>1</td>\n",
       "      <td>339</td>\n",
       "      <td>4</td>\n",
       "      <td>failure</td>\n",
       "      <td>no</td>\n",
       "    </tr>\n",
       "    <tr>\n",
       "      <th>2</th>\n",
       "      <td>35</td>\n",
       "      <td>management</td>\n",
       "      <td>single</td>\n",
       "      <td>tertiary</td>\n",
       "      <td>no</td>\n",
       "      <td>1350</td>\n",
       "      <td>yes</td>\n",
       "      <td>no</td>\n",
       "      <td>cellular</td>\n",
       "      <td>16</td>\n",
       "      <td>apr</td>\n",
       "      <td>185</td>\n",
       "      <td>1</td>\n",
       "      <td>330</td>\n",
       "      <td>1</td>\n",
       "      <td>failure</td>\n",
       "      <td>no</td>\n",
       "    </tr>\n",
       "    <tr>\n",
       "      <th>3</th>\n",
       "      <td>30</td>\n",
       "      <td>management</td>\n",
       "      <td>married</td>\n",
       "      <td>tertiary</td>\n",
       "      <td>no</td>\n",
       "      <td>1476</td>\n",
       "      <td>yes</td>\n",
       "      <td>yes</td>\n",
       "      <td>unknown</td>\n",
       "      <td>3</td>\n",
       "      <td>jun</td>\n",
       "      <td>199</td>\n",
       "      <td>4</td>\n",
       "      <td>-1</td>\n",
       "      <td>0</td>\n",
       "      <td>unknown</td>\n",
       "      <td>no</td>\n",
       "    </tr>\n",
       "    <tr>\n",
       "      <th>4</th>\n",
       "      <td>59</td>\n",
       "      <td>blue-collar</td>\n",
       "      <td>married</td>\n",
       "      <td>secondary</td>\n",
       "      <td>no</td>\n",
       "      <td>0</td>\n",
       "      <td>yes</td>\n",
       "      <td>no</td>\n",
       "      <td>unknown</td>\n",
       "      <td>5</td>\n",
       "      <td>may</td>\n",
       "      <td>226</td>\n",
       "      <td>1</td>\n",
       "      <td>-1</td>\n",
       "      <td>0</td>\n",
       "      <td>unknown</td>\n",
       "      <td>no</td>\n",
       "    </tr>\n",
       "  </tbody>\n",
       "</table>\n",
       "</div>"
      ],
      "text/plain": [
       "   age          job  marital  education default  balance housing loan  \\\n",
       "0   30   unemployed  married    primary      no     1787      no   no   \n",
       "1   33     services  married  secondary      no     4789     yes  yes   \n",
       "2   35   management   single   tertiary      no     1350     yes   no   \n",
       "3   30   management  married   tertiary      no     1476     yes  yes   \n",
       "4   59  blue-collar  married  secondary      no        0     yes   no   \n",
       "\n",
       "    contact  day month  duration  campaign  pdays  previous poutcome   y  \n",
       "0  cellular   19   oct        79         1     -1         0  unknown  no  \n",
       "1  cellular   11   may       220         1    339         4  failure  no  \n",
       "2  cellular   16   apr       185         1    330         1  failure  no  \n",
       "3   unknown    3   jun       199         4     -1         0  unknown  no  \n",
       "4   unknown    5   may       226         1     -1         0  unknown  no  "
      ]
     },
     "execution_count": 13,
     "metadata": {},
     "output_type": "execute_result"
    }
   ],
   "source": [
    "churn.head()"
   ]
  },
  {
   "cell_type": "markdown",
   "id": "f8812147",
   "metadata": {
    "papermill": {
     "duration": 0.031274,
     "end_time": "2023-02-03T23:19:25.138203",
     "exception": false,
     "start_time": "2023-02-03T23:19:25.106929",
     "status": "completed"
    },
    "tags": []
   },
   "source": [
    "# **Data Cleaning**"
   ]
  },
  {
   "cell_type": "markdown",
   "id": "16a1fe94",
   "metadata": {
    "papermill": {
     "duration": 0.031041,
     "end_time": "2023-02-03T23:19:25.200965",
     "exception": false,
     "start_time": "2023-02-03T23:19:25.169924",
     "status": "completed"
    },
    "tags": []
   },
   "source": [
    "We can drop 'day' & 'month' columns as 'pdays' gives the number of days that passed by after the client was last contacted from a previous campaign"
   ]
  },
  {
   "cell_type": "code",
   "execution_count": 14,
   "id": "b2e287a2",
   "metadata": {
    "execution": {
     "iopub.execute_input": "2023-02-03T23:19:25.266243Z",
     "iopub.status.busy": "2023-02-03T23:19:25.265843Z",
     "iopub.status.idle": "2023-02-03T23:19:25.273359Z",
     "shell.execute_reply": "2023-02-03T23:19:25.272411Z"
    },
    "papermill": {
     "duration": 0.043027,
     "end_time": "2023-02-03T23:19:25.275679",
     "exception": false,
     "start_time": "2023-02-03T23:19:25.232652",
     "status": "completed"
    },
    "tags": []
   },
   "outputs": [],
   "source": [
    "churn.drop([\"day\",\"month\"],axis =1, inplace = True)"
   ]
  },
  {
   "cell_type": "code",
   "execution_count": 15,
   "id": "47dd5280",
   "metadata": {
    "execution": {
     "iopub.execute_input": "2023-02-03T23:19:25.406214Z",
     "iopub.status.busy": "2023-02-03T23:19:25.405278Z",
     "iopub.status.idle": "2023-02-03T23:19:25.429988Z",
     "shell.execute_reply": "2023-02-03T23:19:25.429096Z"
    },
    "papermill": {
     "duration": 0.060621,
     "end_time": "2023-02-03T23:19:25.432176",
     "exception": false,
     "start_time": "2023-02-03T23:19:25.371555",
     "status": "completed"
    },
    "tags": []
   },
   "outputs": [
    {
     "data": {
      "text/plain": [
       "age             0\n",
       "job            38\n",
       "marital         0\n",
       "education     187\n",
       "default         0\n",
       "balance         0\n",
       "housing         0\n",
       "loan            0\n",
       "contact      1324\n",
       "duration        0\n",
       "campaign        0\n",
       "pdays           0\n",
       "previous        0\n",
       "poutcome     3705\n",
       "y               0\n",
       "dtype: int64"
      ]
     },
     "execution_count": 15,
     "metadata": {},
     "output_type": "execute_result"
    }
   ],
   "source": [
    "for i in churn.columns:\n",
    "    churn[i] = np.where(churn[i] == \"unknown\", np.nan, churn[i])\n",
    "churn.isna().sum()"
   ]
  },
  {
   "cell_type": "code",
   "execution_count": 16,
   "id": "4d4a74ec",
   "metadata": {
    "execution": {
     "iopub.execute_input": "2023-02-03T23:19:25.498322Z",
     "iopub.status.busy": "2023-02-03T23:19:25.497518Z",
     "iopub.status.idle": "2023-02-03T23:19:25.504492Z",
     "shell.execute_reply": "2023-02-03T23:19:25.503703Z"
    },
    "papermill": {
     "duration": 0.04238,
     "end_time": "2023-02-03T23:19:25.506498",
     "exception": false,
     "start_time": "2023-02-03T23:19:25.464118",
     "status": "completed"
    },
    "tags": []
   },
   "outputs": [
    {
     "data": {
      "text/plain": [
       "81.95089581950896"
      ]
     },
     "execution_count": 16,
     "metadata": {},
     "output_type": "execute_result"
    }
   ],
   "source": [
    "(3705/churn.poutcome.shape[0])*100"
   ]
  },
  {
   "cell_type": "markdown",
   "id": "d23eff7e",
   "metadata": {
    "papermill": {
     "duration": 0.031506,
     "end_time": "2023-02-03T23:19:25.569817",
     "exception": false,
     "start_time": "2023-02-03T23:19:25.538311",
     "status": "completed"
    },
    "tags": []
   },
   "source": [
    "After replacing unknown values as null we find 'poutcome' has 3705 null entries, we can simply drop it."
   ]
  },
  {
   "cell_type": "code",
   "execution_count": 17,
   "id": "6fed44ce",
   "metadata": {
    "execution": {
     "iopub.execute_input": "2023-02-03T23:19:25.637567Z",
     "iopub.status.busy": "2023-02-03T23:19:25.636876Z",
     "iopub.status.idle": "2023-02-03T23:19:25.643607Z",
     "shell.execute_reply": "2023-02-03T23:19:25.642483Z"
    },
    "papermill": {
     "duration": 0.043128,
     "end_time": "2023-02-03T23:19:25.646048",
     "exception": false,
     "start_time": "2023-02-03T23:19:25.602920",
     "status": "completed"
    },
    "tags": []
   },
   "outputs": [
    {
     "data": {
      "text/plain": [
       "29.285556292855563"
      ]
     },
     "execution_count": 17,
     "metadata": {},
     "output_type": "execute_result"
    }
   ],
   "source": [
    "(1324/churn.contact.shape[0])*100"
   ]
  },
  {
   "cell_type": "markdown",
   "id": "438f0766",
   "metadata": {
    "papermill": {
     "duration": 0.031871,
     "end_time": "2023-02-03T23:19:25.709980",
     "exception": false,
     "start_time": "2023-02-03T23:19:25.678109",
     "status": "completed"
    },
    "tags": []
   },
   "source": [
    "Similarly it doesnt matter if 'contact' was through cellular or telephone it doesnt affect the target variable, so we can drop this feature"
   ]
  },
  {
   "cell_type": "code",
   "execution_count": 18,
   "id": "46fc5e44",
   "metadata": {
    "execution": {
     "iopub.execute_input": "2023-02-03T23:19:25.777258Z",
     "iopub.status.busy": "2023-02-03T23:19:25.776178Z",
     "iopub.status.idle": "2023-02-03T23:19:25.784604Z",
     "shell.execute_reply": "2023-02-03T23:19:25.783787Z"
    },
    "papermill": {
     "duration": 0.044852,
     "end_time": "2023-02-03T23:19:25.786749",
     "exception": false,
     "start_time": "2023-02-03T23:19:25.741897",
     "status": "completed"
    },
    "tags": []
   },
   "outputs": [],
   "source": [
    "churn.drop(\"poutcome\", inplace = True, axis = 1)"
   ]
  },
  {
   "cell_type": "code",
   "execution_count": 19,
   "id": "6d6afc67",
   "metadata": {
    "execution": {
     "iopub.execute_input": "2023-02-03T23:19:25.852872Z",
     "iopub.status.busy": "2023-02-03T23:19:25.852182Z",
     "iopub.status.idle": "2023-02-03T23:19:25.857874Z",
     "shell.execute_reply": "2023-02-03T23:19:25.857076Z"
    },
    "papermill": {
     "duration": 0.041309,
     "end_time": "2023-02-03T23:19:25.859920",
     "exception": false,
     "start_time": "2023-02-03T23:19:25.818611",
     "status": "completed"
    },
    "tags": []
   },
   "outputs": [],
   "source": [
    "churn.drop(\"contact\", inplace = True, axis = 1)"
   ]
  },
  {
   "cell_type": "markdown",
   "id": "1f1cbcd7",
   "metadata": {
    "papermill": {
     "duration": 0.045776,
     "end_time": "2023-02-03T23:19:25.946681",
     "exception": false,
     "start_time": "2023-02-03T23:19:25.900905",
     "status": "completed"
    },
    "tags": []
   },
   "source": [
    "# **Data Pre-processing**"
   ]
  },
  {
   "cell_type": "markdown",
   "id": "bf1cf4f5",
   "metadata": {
    "papermill": {
     "duration": 0.037338,
     "end_time": "2023-02-03T23:19:26.023091",
     "exception": false,
     "start_time": "2023-02-03T23:19:25.985753",
     "status": "completed"
    },
    "tags": []
   },
   "source": [
    "As 'job' & 'education' has lower null values we'll fill  them using fillna method instead of dropping"
   ]
  },
  {
   "cell_type": "code",
   "execution_count": 20,
   "id": "03017097",
   "metadata": {
    "execution": {
     "iopub.execute_input": "2023-02-03T23:19:26.091324Z",
     "iopub.status.busy": "2023-02-03T23:19:26.090915Z",
     "iopub.status.idle": "2023-02-03T23:19:26.099599Z",
     "shell.execute_reply": "2023-02-03T23:19:26.098802Z"
    },
    "papermill": {
     "duration": 0.045841,
     "end_time": "2023-02-03T23:19:26.101999",
     "exception": false,
     "start_time": "2023-02-03T23:19:26.056158",
     "status": "completed"
    },
    "tags": []
   },
   "outputs": [],
   "source": [
    "churn[\"job\"].fillna(method = \"ffill\",inplace=True)"
   ]
  },
  {
   "cell_type": "code",
   "execution_count": 21,
   "id": "970ad485",
   "metadata": {
    "execution": {
     "iopub.execute_input": "2023-02-03T23:19:26.179788Z",
     "iopub.status.busy": "2023-02-03T23:19:26.178948Z",
     "iopub.status.idle": "2023-02-03T23:19:26.185223Z",
     "shell.execute_reply": "2023-02-03T23:19:26.184421Z"
    },
    "papermill": {
     "duration": 0.045597,
     "end_time": "2023-02-03T23:19:26.187536",
     "exception": false,
     "start_time": "2023-02-03T23:19:26.141939",
     "status": "completed"
    },
    "tags": []
   },
   "outputs": [],
   "source": [
    "churn[\"education\"].fillna(method = \"ffill\",inplace= True)"
   ]
  },
  {
   "cell_type": "markdown",
   "id": "e1739186",
   "metadata": {
    "papermill": {
     "duration": 0.041771,
     "end_time": "2023-02-03T23:19:26.261532",
     "exception": false,
     "start_time": "2023-02-03T23:19:26.219761",
     "status": "completed"
    },
    "tags": []
   },
   "source": [
    "Now we need to convert all categorical data to numerical data. This will allow us to perform calculations on our data"
   ]
  },
  {
   "cell_type": "markdown",
   "id": "9c3791dd",
   "metadata": {
    "papermill": {
     "duration": 0.032923,
     "end_time": "2023-02-03T23:19:26.331268",
     "exception": false,
     "start_time": "2023-02-03T23:19:26.298345",
     "status": "completed"
    },
    "tags": []
   },
   "source": [
    "I decided to replace yes and no as 1 & 0 respectively, by defining  a map function including the target variable"
   ]
  },
  {
   "cell_type": "code",
   "execution_count": 22,
   "id": "5a3d692f",
   "metadata": {
    "execution": {
     "iopub.execute_input": "2023-02-03T23:19:26.399356Z",
     "iopub.status.busy": "2023-02-03T23:19:26.398562Z",
     "iopub.status.idle": "2023-02-03T23:19:26.403632Z",
     "shell.execute_reply": "2023-02-03T23:19:26.402825Z"
    },
    "papermill": {
     "duration": 0.041986,
     "end_time": "2023-02-03T23:19:26.405984",
     "exception": false,
     "start_time": "2023-02-03T23:19:26.363998",
     "status": "completed"
    },
    "tags": []
   },
   "outputs": [],
   "source": [
    "varlist=['default','housing','loan','y']"
   ]
  },
  {
   "cell_type": "code",
   "execution_count": 23,
   "id": "09ac3235",
   "metadata": {
    "execution": {
     "iopub.execute_input": "2023-02-03T23:19:26.474137Z",
     "iopub.status.busy": "2023-02-03T23:19:26.473294Z",
     "iopub.status.idle": "2023-02-03T23:19:26.478739Z",
     "shell.execute_reply": "2023-02-03T23:19:26.477822Z"
    },
    "papermill": {
     "duration": 0.042226,
     "end_time": "2023-02-03T23:19:26.481176",
     "exception": false,
     "start_time": "2023-02-03T23:19:26.438950",
     "status": "completed"
    },
    "tags": []
   },
   "outputs": [],
   "source": [
    "def binary_map(q):\n",
    "    return q.map({'yes':1,'no':0})"
   ]
  },
  {
   "cell_type": "code",
   "execution_count": 24,
   "id": "6a6a8085",
   "metadata": {
    "execution": {
     "iopub.execute_input": "2023-02-03T23:19:26.549655Z",
     "iopub.status.busy": "2023-02-03T23:19:26.548898Z",
     "iopub.status.idle": "2023-02-03T23:19:26.561231Z",
     "shell.execute_reply": "2023-02-03T23:19:26.560329Z"
    },
    "papermill": {
     "duration": 0.049354,
     "end_time": "2023-02-03T23:19:26.563746",
     "exception": false,
     "start_time": "2023-02-03T23:19:26.514392",
     "status": "completed"
    },
    "tags": []
   },
   "outputs": [],
   "source": [
    "churn[varlist]=churn[varlist].apply(binary_map)"
   ]
  },
  {
   "cell_type": "code",
   "execution_count": 25,
   "id": "ef9bd988",
   "metadata": {
    "execution": {
     "iopub.execute_input": "2023-02-03T23:19:26.630528Z",
     "iopub.status.busy": "2023-02-03T23:19:26.629722Z",
     "iopub.status.idle": "2023-02-03T23:19:26.649405Z",
     "shell.execute_reply": "2023-02-03T23:19:26.648192Z"
    },
    "papermill": {
     "duration": 0.056025,
     "end_time": "2023-02-03T23:19:26.651917",
     "exception": false,
     "start_time": "2023-02-03T23:19:26.595892",
     "status": "completed"
    },
    "tags": []
   },
   "outputs": [
    {
     "data": {
      "text/html": [
       "<div>\n",
       "<style scoped>\n",
       "    .dataframe tbody tr th:only-of-type {\n",
       "        vertical-align: middle;\n",
       "    }\n",
       "\n",
       "    .dataframe tbody tr th {\n",
       "        vertical-align: top;\n",
       "    }\n",
       "\n",
       "    .dataframe thead th {\n",
       "        text-align: right;\n",
       "    }\n",
       "</style>\n",
       "<table border=\"1\" class=\"dataframe\">\n",
       "  <thead>\n",
       "    <tr style=\"text-align: right;\">\n",
       "      <th></th>\n",
       "      <th>age</th>\n",
       "      <th>job</th>\n",
       "      <th>marital</th>\n",
       "      <th>education</th>\n",
       "      <th>default</th>\n",
       "      <th>balance</th>\n",
       "      <th>housing</th>\n",
       "      <th>loan</th>\n",
       "      <th>duration</th>\n",
       "      <th>campaign</th>\n",
       "      <th>pdays</th>\n",
       "      <th>previous</th>\n",
       "      <th>y</th>\n",
       "    </tr>\n",
       "  </thead>\n",
       "  <tbody>\n",
       "    <tr>\n",
       "      <th>0</th>\n",
       "      <td>30.0</td>\n",
       "      <td>unemployed</td>\n",
       "      <td>married</td>\n",
       "      <td>primary</td>\n",
       "      <td>0</td>\n",
       "      <td>1787.0</td>\n",
       "      <td>0</td>\n",
       "      <td>0</td>\n",
       "      <td>79.0</td>\n",
       "      <td>1.0</td>\n",
       "      <td>-1.0</td>\n",
       "      <td>0.0</td>\n",
       "      <td>0</td>\n",
       "    </tr>\n",
       "    <tr>\n",
       "      <th>1</th>\n",
       "      <td>33.0</td>\n",
       "      <td>services</td>\n",
       "      <td>married</td>\n",
       "      <td>secondary</td>\n",
       "      <td>0</td>\n",
       "      <td>4789.0</td>\n",
       "      <td>1</td>\n",
       "      <td>1</td>\n",
       "      <td>220.0</td>\n",
       "      <td>1.0</td>\n",
       "      <td>339.0</td>\n",
       "      <td>4.0</td>\n",
       "      <td>0</td>\n",
       "    </tr>\n",
       "    <tr>\n",
       "      <th>2</th>\n",
       "      <td>35.0</td>\n",
       "      <td>management</td>\n",
       "      <td>single</td>\n",
       "      <td>tertiary</td>\n",
       "      <td>0</td>\n",
       "      <td>1350.0</td>\n",
       "      <td>1</td>\n",
       "      <td>0</td>\n",
       "      <td>185.0</td>\n",
       "      <td>1.0</td>\n",
       "      <td>330.0</td>\n",
       "      <td>1.0</td>\n",
       "      <td>0</td>\n",
       "    </tr>\n",
       "    <tr>\n",
       "      <th>3</th>\n",
       "      <td>30.0</td>\n",
       "      <td>management</td>\n",
       "      <td>married</td>\n",
       "      <td>tertiary</td>\n",
       "      <td>0</td>\n",
       "      <td>1476.0</td>\n",
       "      <td>1</td>\n",
       "      <td>1</td>\n",
       "      <td>199.0</td>\n",
       "      <td>4.0</td>\n",
       "      <td>-1.0</td>\n",
       "      <td>0.0</td>\n",
       "      <td>0</td>\n",
       "    </tr>\n",
       "    <tr>\n",
       "      <th>4</th>\n",
       "      <td>59.0</td>\n",
       "      <td>blue-collar</td>\n",
       "      <td>married</td>\n",
       "      <td>secondary</td>\n",
       "      <td>0</td>\n",
       "      <td>0.0</td>\n",
       "      <td>1</td>\n",
       "      <td>0</td>\n",
       "      <td>226.0</td>\n",
       "      <td>1.0</td>\n",
       "      <td>-1.0</td>\n",
       "      <td>0.0</td>\n",
       "      <td>0</td>\n",
       "    </tr>\n",
       "  </tbody>\n",
       "</table>\n",
       "</div>"
      ],
      "text/plain": [
       "    age          job  marital  education  default  balance  housing  loan  \\\n",
       "0  30.0   unemployed  married    primary        0   1787.0        0     0   \n",
       "1  33.0     services  married  secondary        0   4789.0        1     1   \n",
       "2  35.0   management   single   tertiary        0   1350.0        1     0   \n",
       "3  30.0   management  married   tertiary        0   1476.0        1     1   \n",
       "4  59.0  blue-collar  married  secondary        0      0.0        1     0   \n",
       "\n",
       "   duration  campaign  pdays  previous  y  \n",
       "0      79.0       1.0   -1.0       0.0  0  \n",
       "1     220.0       1.0  339.0       4.0  0  \n",
       "2     185.0       1.0  330.0       1.0  0  \n",
       "3     199.0       4.0   -1.0       0.0  0  \n",
       "4     226.0       1.0   -1.0       0.0  0  "
      ]
     },
     "execution_count": 25,
     "metadata": {},
     "output_type": "execute_result"
    }
   ],
   "source": [
    "churn.head()"
   ]
  },
  {
   "cell_type": "code",
   "execution_count": 26,
   "id": "4b098d24",
   "metadata": {
    "execution": {
     "iopub.execute_input": "2023-02-03T23:19:26.854620Z",
     "iopub.status.busy": "2023-02-03T23:19:26.853812Z",
     "iopub.status.idle": "2023-02-03T23:19:27.006098Z",
     "shell.execute_reply": "2023-02-03T23:19:27.004956Z"
    },
    "papermill": {
     "duration": 0.188777,
     "end_time": "2023-02-03T23:19:27.008888",
     "exception": false,
     "start_time": "2023-02-03T23:19:26.820111",
     "status": "completed"
    },
    "tags": []
   },
   "outputs": [],
   "source": [
    "from sklearn.preprocessing import OneHotEncoder"
   ]
  },
  {
   "cell_type": "code",
   "execution_count": 27,
   "id": "a5a0c6f9",
   "metadata": {
    "execution": {
     "iopub.execute_input": "2023-02-03T23:19:27.075637Z",
     "iopub.status.busy": "2023-02-03T23:19:27.074901Z",
     "iopub.status.idle": "2023-02-03T23:19:27.090759Z",
     "shell.execute_reply": "2023-02-03T23:19:27.089583Z"
    },
    "papermill": {
     "duration": 0.051979,
     "end_time": "2023-02-03T23:19:27.093344",
     "exception": false,
     "start_time": "2023-02-03T23:19:27.041365",
     "status": "completed"
    },
    "tags": []
   },
   "outputs": [],
   "source": [
    "one = OneHotEncoder()\n",
    "churn[list(churn[\"job\"].unique())] = one.fit_transform(churn[[\"job\"]]).A"
   ]
  },
  {
   "cell_type": "code",
   "execution_count": 28,
   "id": "440c8cc8",
   "metadata": {
    "execution": {
     "iopub.execute_input": "2023-02-03T23:19:27.160113Z",
     "iopub.status.busy": "2023-02-03T23:19:27.159367Z",
     "iopub.status.idle": "2023-02-03T23:19:27.203543Z",
     "shell.execute_reply": "2023-02-03T23:19:27.202413Z"
    },
    "papermill": {
     "duration": 0.080916,
     "end_time": "2023-02-03T23:19:27.206505",
     "exception": false,
     "start_time": "2023-02-03T23:19:27.125589",
     "status": "completed"
    },
    "tags": []
   },
   "outputs": [
    {
     "data": {
      "text/html": [
       "<div>\n",
       "<style scoped>\n",
       "    .dataframe tbody tr th:only-of-type {\n",
       "        vertical-align: middle;\n",
       "    }\n",
       "\n",
       "    .dataframe tbody tr th {\n",
       "        vertical-align: top;\n",
       "    }\n",
       "\n",
       "    .dataframe thead th {\n",
       "        text-align: right;\n",
       "    }\n",
       "</style>\n",
       "<table border=\"1\" class=\"dataframe\">\n",
       "  <thead>\n",
       "    <tr style=\"text-align: right;\">\n",
       "      <th></th>\n",
       "      <th>age</th>\n",
       "      <th>marital</th>\n",
       "      <th>education</th>\n",
       "      <th>default</th>\n",
       "      <th>balance</th>\n",
       "      <th>housing</th>\n",
       "      <th>loan</th>\n",
       "      <th>duration</th>\n",
       "      <th>campaign</th>\n",
       "      <th>pdays</th>\n",
       "      <th>...</th>\n",
       "      <th>services</th>\n",
       "      <th>management</th>\n",
       "      <th>blue-collar</th>\n",
       "      <th>self-employed</th>\n",
       "      <th>technician</th>\n",
       "      <th>entrepreneur</th>\n",
       "      <th>admin.</th>\n",
       "      <th>student</th>\n",
       "      <th>housemaid</th>\n",
       "      <th>retired</th>\n",
       "    </tr>\n",
       "  </thead>\n",
       "  <tbody>\n",
       "    <tr>\n",
       "      <th>0</th>\n",
       "      <td>30.0</td>\n",
       "      <td>married</td>\n",
       "      <td>primary</td>\n",
       "      <td>0</td>\n",
       "      <td>1787.0</td>\n",
       "      <td>0</td>\n",
       "      <td>0</td>\n",
       "      <td>79.0</td>\n",
       "      <td>1.0</td>\n",
       "      <td>-1.0</td>\n",
       "      <td>...</td>\n",
       "      <td>0.0</td>\n",
       "      <td>0.0</td>\n",
       "      <td>0.0</td>\n",
       "      <td>0.0</td>\n",
       "      <td>0.0</td>\n",
       "      <td>0.0</td>\n",
       "      <td>0.0</td>\n",
       "      <td>0.0</td>\n",
       "      <td>0.0</td>\n",
       "      <td>1.0</td>\n",
       "    </tr>\n",
       "    <tr>\n",
       "      <th>1</th>\n",
       "      <td>33.0</td>\n",
       "      <td>married</td>\n",
       "      <td>secondary</td>\n",
       "      <td>0</td>\n",
       "      <td>4789.0</td>\n",
       "      <td>1</td>\n",
       "      <td>1</td>\n",
       "      <td>220.0</td>\n",
       "      <td>1.0</td>\n",
       "      <td>339.0</td>\n",
       "      <td>...</td>\n",
       "      <td>0.0</td>\n",
       "      <td>0.0</td>\n",
       "      <td>0.0</td>\n",
       "      <td>0.0</td>\n",
       "      <td>0.0</td>\n",
       "      <td>0.0</td>\n",
       "      <td>1.0</td>\n",
       "      <td>0.0</td>\n",
       "      <td>0.0</td>\n",
       "      <td>0.0</td>\n",
       "    </tr>\n",
       "    <tr>\n",
       "      <th>2</th>\n",
       "      <td>35.0</td>\n",
       "      <td>single</td>\n",
       "      <td>tertiary</td>\n",
       "      <td>0</td>\n",
       "      <td>1350.0</td>\n",
       "      <td>1</td>\n",
       "      <td>0</td>\n",
       "      <td>185.0</td>\n",
       "      <td>1.0</td>\n",
       "      <td>330.0</td>\n",
       "      <td>...</td>\n",
       "      <td>0.0</td>\n",
       "      <td>0.0</td>\n",
       "      <td>0.0</td>\n",
       "      <td>1.0</td>\n",
       "      <td>0.0</td>\n",
       "      <td>0.0</td>\n",
       "      <td>0.0</td>\n",
       "      <td>0.0</td>\n",
       "      <td>0.0</td>\n",
       "      <td>0.0</td>\n",
       "    </tr>\n",
       "    <tr>\n",
       "      <th>3</th>\n",
       "      <td>30.0</td>\n",
       "      <td>married</td>\n",
       "      <td>tertiary</td>\n",
       "      <td>0</td>\n",
       "      <td>1476.0</td>\n",
       "      <td>1</td>\n",
       "      <td>1</td>\n",
       "      <td>199.0</td>\n",
       "      <td>4.0</td>\n",
       "      <td>-1.0</td>\n",
       "      <td>...</td>\n",
       "      <td>0.0</td>\n",
       "      <td>0.0</td>\n",
       "      <td>0.0</td>\n",
       "      <td>1.0</td>\n",
       "      <td>0.0</td>\n",
       "      <td>0.0</td>\n",
       "      <td>0.0</td>\n",
       "      <td>0.0</td>\n",
       "      <td>0.0</td>\n",
       "      <td>0.0</td>\n",
       "    </tr>\n",
       "    <tr>\n",
       "      <th>4</th>\n",
       "      <td>59.0</td>\n",
       "      <td>married</td>\n",
       "      <td>secondary</td>\n",
       "      <td>0</td>\n",
       "      <td>0.0</td>\n",
       "      <td>1</td>\n",
       "      <td>0</td>\n",
       "      <td>226.0</td>\n",
       "      <td>1.0</td>\n",
       "      <td>-1.0</td>\n",
       "      <td>...</td>\n",
       "      <td>1.0</td>\n",
       "      <td>0.0</td>\n",
       "      <td>0.0</td>\n",
       "      <td>0.0</td>\n",
       "      <td>0.0</td>\n",
       "      <td>0.0</td>\n",
       "      <td>0.0</td>\n",
       "      <td>0.0</td>\n",
       "      <td>0.0</td>\n",
       "      <td>0.0</td>\n",
       "    </tr>\n",
       "    <tr>\n",
       "      <th>...</th>\n",
       "      <td>...</td>\n",
       "      <td>...</td>\n",
       "      <td>...</td>\n",
       "      <td>...</td>\n",
       "      <td>...</td>\n",
       "      <td>...</td>\n",
       "      <td>...</td>\n",
       "      <td>...</td>\n",
       "      <td>...</td>\n",
       "      <td>...</td>\n",
       "      <td>...</td>\n",
       "      <td>...</td>\n",
       "      <td>...</td>\n",
       "      <td>...</td>\n",
       "      <td>...</td>\n",
       "      <td>...</td>\n",
       "      <td>...</td>\n",
       "      <td>...</td>\n",
       "      <td>...</td>\n",
       "      <td>...</td>\n",
       "      <td>...</td>\n",
       "    </tr>\n",
       "    <tr>\n",
       "      <th>4516</th>\n",
       "      <td>33.0</td>\n",
       "      <td>married</td>\n",
       "      <td>secondary</td>\n",
       "      <td>0</td>\n",
       "      <td>-333.0</td>\n",
       "      <td>1</td>\n",
       "      <td>0</td>\n",
       "      <td>329.0</td>\n",
       "      <td>5.0</td>\n",
       "      <td>-1.0</td>\n",
       "      <td>...</td>\n",
       "      <td>0.0</td>\n",
       "      <td>0.0</td>\n",
       "      <td>0.0</td>\n",
       "      <td>0.0</td>\n",
       "      <td>0.0</td>\n",
       "      <td>0.0</td>\n",
       "      <td>1.0</td>\n",
       "      <td>0.0</td>\n",
       "      <td>0.0</td>\n",
       "      <td>0.0</td>\n",
       "    </tr>\n",
       "    <tr>\n",
       "      <th>4517</th>\n",
       "      <td>57.0</td>\n",
       "      <td>married</td>\n",
       "      <td>tertiary</td>\n",
       "      <td>1</td>\n",
       "      <td>-3313.0</td>\n",
       "      <td>1</td>\n",
       "      <td>1</td>\n",
       "      <td>153.0</td>\n",
       "      <td>1.0</td>\n",
       "      <td>-1.0</td>\n",
       "      <td>...</td>\n",
       "      <td>0.0</td>\n",
       "      <td>0.0</td>\n",
       "      <td>0.0</td>\n",
       "      <td>0.0</td>\n",
       "      <td>0.0</td>\n",
       "      <td>1.0</td>\n",
       "      <td>0.0</td>\n",
       "      <td>0.0</td>\n",
       "      <td>0.0</td>\n",
       "      <td>0.0</td>\n",
       "    </tr>\n",
       "    <tr>\n",
       "      <th>4518</th>\n",
       "      <td>57.0</td>\n",
       "      <td>married</td>\n",
       "      <td>secondary</td>\n",
       "      <td>0</td>\n",
       "      <td>295.0</td>\n",
       "      <td>0</td>\n",
       "      <td>0</td>\n",
       "      <td>151.0</td>\n",
       "      <td>11.0</td>\n",
       "      <td>-1.0</td>\n",
       "      <td>...</td>\n",
       "      <td>0.0</td>\n",
       "      <td>0.0</td>\n",
       "      <td>0.0</td>\n",
       "      <td>0.0</td>\n",
       "      <td>0.0</td>\n",
       "      <td>0.0</td>\n",
       "      <td>0.0</td>\n",
       "      <td>0.0</td>\n",
       "      <td>1.0</td>\n",
       "      <td>0.0</td>\n",
       "    </tr>\n",
       "    <tr>\n",
       "      <th>4519</th>\n",
       "      <td>28.0</td>\n",
       "      <td>married</td>\n",
       "      <td>secondary</td>\n",
       "      <td>0</td>\n",
       "      <td>1137.0</td>\n",
       "      <td>0</td>\n",
       "      <td>0</td>\n",
       "      <td>129.0</td>\n",
       "      <td>4.0</td>\n",
       "      <td>211.0</td>\n",
       "      <td>...</td>\n",
       "      <td>1.0</td>\n",
       "      <td>0.0</td>\n",
       "      <td>0.0</td>\n",
       "      <td>0.0</td>\n",
       "      <td>0.0</td>\n",
       "      <td>0.0</td>\n",
       "      <td>0.0</td>\n",
       "      <td>0.0</td>\n",
       "      <td>0.0</td>\n",
       "      <td>0.0</td>\n",
       "    </tr>\n",
       "    <tr>\n",
       "      <th>4520</th>\n",
       "      <td>44.0</td>\n",
       "      <td>single</td>\n",
       "      <td>tertiary</td>\n",
       "      <td>0</td>\n",
       "      <td>1136.0</td>\n",
       "      <td>1</td>\n",
       "      <td>1</td>\n",
       "      <td>345.0</td>\n",
       "      <td>2.0</td>\n",
       "      <td>249.0</td>\n",
       "      <td>...</td>\n",
       "      <td>0.0</td>\n",
       "      <td>1.0</td>\n",
       "      <td>0.0</td>\n",
       "      <td>0.0</td>\n",
       "      <td>0.0</td>\n",
       "      <td>0.0</td>\n",
       "      <td>0.0</td>\n",
       "      <td>0.0</td>\n",
       "      <td>0.0</td>\n",
       "      <td>0.0</td>\n",
       "    </tr>\n",
       "  </tbody>\n",
       "</table>\n",
       "<p>4521 rows × 23 columns</p>\n",
       "</div>"
      ],
      "text/plain": [
       "       age  marital  education  default  balance  housing  loan  duration  \\\n",
       "0     30.0  married    primary        0   1787.0        0     0      79.0   \n",
       "1     33.0  married  secondary        0   4789.0        1     1     220.0   \n",
       "2     35.0   single   tertiary        0   1350.0        1     0     185.0   \n",
       "3     30.0  married   tertiary        0   1476.0        1     1     199.0   \n",
       "4     59.0  married  secondary        0      0.0        1     0     226.0   \n",
       "...    ...      ...        ...      ...      ...      ...   ...       ...   \n",
       "4516  33.0  married  secondary        0   -333.0        1     0     329.0   \n",
       "4517  57.0  married   tertiary        1  -3313.0        1     1     153.0   \n",
       "4518  57.0  married  secondary        0    295.0        0     0     151.0   \n",
       "4519  28.0  married  secondary        0   1137.0        0     0     129.0   \n",
       "4520  44.0   single   tertiary        0   1136.0        1     1     345.0   \n",
       "\n",
       "      campaign  pdays  ...  services  management  blue-collar  self-employed  \\\n",
       "0          1.0   -1.0  ...       0.0         0.0          0.0            0.0   \n",
       "1          1.0  339.0  ...       0.0         0.0          0.0            0.0   \n",
       "2          1.0  330.0  ...       0.0         0.0          0.0            1.0   \n",
       "3          4.0   -1.0  ...       0.0         0.0          0.0            1.0   \n",
       "4          1.0   -1.0  ...       1.0         0.0          0.0            0.0   \n",
       "...        ...    ...  ...       ...         ...          ...            ...   \n",
       "4516       5.0   -1.0  ...       0.0         0.0          0.0            0.0   \n",
       "4517       1.0   -1.0  ...       0.0         0.0          0.0            0.0   \n",
       "4518      11.0   -1.0  ...       0.0         0.0          0.0            0.0   \n",
       "4519       4.0  211.0  ...       1.0         0.0          0.0            0.0   \n",
       "4520       2.0  249.0  ...       0.0         1.0          0.0            0.0   \n",
       "\n",
       "      technician  entrepreneur  admin.  student  housemaid  retired  \n",
       "0            0.0           0.0     0.0      0.0        0.0      1.0  \n",
       "1            0.0           0.0     1.0      0.0        0.0      0.0  \n",
       "2            0.0           0.0     0.0      0.0        0.0      0.0  \n",
       "3            0.0           0.0     0.0      0.0        0.0      0.0  \n",
       "4            0.0           0.0     0.0      0.0        0.0      0.0  \n",
       "...          ...           ...     ...      ...        ...      ...  \n",
       "4516         0.0           0.0     1.0      0.0        0.0      0.0  \n",
       "4517         0.0           1.0     0.0      0.0        0.0      0.0  \n",
       "4518         0.0           0.0     0.0      0.0        1.0      0.0  \n",
       "4519         0.0           0.0     0.0      0.0        0.0      0.0  \n",
       "4520         0.0           0.0     0.0      0.0        0.0      0.0  \n",
       "\n",
       "[4521 rows x 23 columns]"
      ]
     },
     "execution_count": 28,
     "metadata": {},
     "output_type": "execute_result"
    }
   ],
   "source": [
    "churn.drop(\"job\",axis = 1, inplace = True)\n",
    "churn"
   ]
  },
  {
   "cell_type": "code",
   "execution_count": 29,
   "id": "fae4ecf6",
   "metadata": {
    "execution": {
     "iopub.execute_input": "2023-02-03T23:19:27.274981Z",
     "iopub.status.busy": "2023-02-03T23:19:27.274335Z",
     "iopub.status.idle": "2023-02-03T23:19:27.287249Z",
     "shell.execute_reply": "2023-02-03T23:19:27.286351Z"
    },
    "papermill": {
     "duration": 0.049729,
     "end_time": "2023-02-03T23:19:27.289602",
     "exception": false,
     "start_time": "2023-02-03T23:19:27.239873",
     "status": "completed"
    },
    "tags": []
   },
   "outputs": [
    {
     "data": {
      "text/html": [
       "<div>\n",
       "<style scoped>\n",
       "    .dataframe tbody tr th:only-of-type {\n",
       "        vertical-align: middle;\n",
       "    }\n",
       "\n",
       "    .dataframe tbody tr th {\n",
       "        vertical-align: top;\n",
       "    }\n",
       "\n",
       "    .dataframe thead th {\n",
       "        text-align: right;\n",
       "    }\n",
       "</style>\n",
       "<table border=\"1\" class=\"dataframe\">\n",
       "  <thead>\n",
       "    <tr style=\"text-align: right;\">\n",
       "      <th></th>\n",
       "      <th>primary</th>\n",
       "      <th>secondary</th>\n",
       "      <th>tertiary</th>\n",
       "    </tr>\n",
       "  </thead>\n",
       "  <tbody>\n",
       "    <tr>\n",
       "      <th>0</th>\n",
       "      <td>1</td>\n",
       "      <td>0</td>\n",
       "      <td>0</td>\n",
       "    </tr>\n",
       "    <tr>\n",
       "      <th>1</th>\n",
       "      <td>0</td>\n",
       "      <td>1</td>\n",
       "      <td>0</td>\n",
       "    </tr>\n",
       "    <tr>\n",
       "      <th>2</th>\n",
       "      <td>0</td>\n",
       "      <td>0</td>\n",
       "      <td>1</td>\n",
       "    </tr>\n",
       "    <tr>\n",
       "      <th>3</th>\n",
       "      <td>0</td>\n",
       "      <td>0</td>\n",
       "      <td>1</td>\n",
       "    </tr>\n",
       "    <tr>\n",
       "      <th>4</th>\n",
       "      <td>0</td>\n",
       "      <td>1</td>\n",
       "      <td>0</td>\n",
       "    </tr>\n",
       "    <tr>\n",
       "      <th>...</th>\n",
       "      <td>...</td>\n",
       "      <td>...</td>\n",
       "      <td>...</td>\n",
       "    </tr>\n",
       "    <tr>\n",
       "      <th>4516</th>\n",
       "      <td>0</td>\n",
       "      <td>1</td>\n",
       "      <td>0</td>\n",
       "    </tr>\n",
       "    <tr>\n",
       "      <th>4517</th>\n",
       "      <td>0</td>\n",
       "      <td>0</td>\n",
       "      <td>1</td>\n",
       "    </tr>\n",
       "    <tr>\n",
       "      <th>4518</th>\n",
       "      <td>0</td>\n",
       "      <td>1</td>\n",
       "      <td>0</td>\n",
       "    </tr>\n",
       "    <tr>\n",
       "      <th>4519</th>\n",
       "      <td>0</td>\n",
       "      <td>1</td>\n",
       "      <td>0</td>\n",
       "    </tr>\n",
       "    <tr>\n",
       "      <th>4520</th>\n",
       "      <td>0</td>\n",
       "      <td>0</td>\n",
       "      <td>1</td>\n",
       "    </tr>\n",
       "  </tbody>\n",
       "</table>\n",
       "<p>4521 rows × 3 columns</p>\n",
       "</div>"
      ],
      "text/plain": [
       "      primary  secondary  tertiary\n",
       "0           1          0         0\n",
       "1           0          1         0\n",
       "2           0          0         1\n",
       "3           0          0         1\n",
       "4           0          1         0\n",
       "...       ...        ...       ...\n",
       "4516        0          1         0\n",
       "4517        0          0         1\n",
       "4518        0          1         0\n",
       "4519        0          1         0\n",
       "4520        0          0         1\n",
       "\n",
       "[4521 rows x 3 columns]"
      ]
     },
     "execution_count": 29,
     "metadata": {},
     "output_type": "execute_result"
    }
   ],
   "source": [
    "edu=pd.get_dummies(churn['education'])\n",
    "edu"
   ]
  },
  {
   "cell_type": "code",
   "execution_count": 30,
   "id": "0f5f6c4e",
   "metadata": {
    "execution": {
     "iopub.execute_input": "2023-02-03T23:19:27.360063Z",
     "iopub.status.busy": "2023-02-03T23:19:27.359407Z",
     "iopub.status.idle": "2023-02-03T23:19:27.366169Z",
     "shell.execute_reply": "2023-02-03T23:19:27.365080Z"
    },
    "papermill": {
     "duration": 0.045517,
     "end_time": "2023-02-03T23:19:27.368985",
     "exception": false,
     "start_time": "2023-02-03T23:19:27.323468",
     "status": "completed"
    },
    "tags": []
   },
   "outputs": [],
   "source": [
    "edu=pd.get_dummies(churn['education'],drop_first=True)"
   ]
  },
  {
   "cell_type": "markdown",
   "id": "1276c2c9",
   "metadata": {
    "papermill": {
     "duration": 0.033181,
     "end_time": "2023-02-03T23:19:27.439120",
     "exception": false,
     "start_time": "2023-02-03T23:19:27.405939",
     "status": "completed"
    },
    "tags": []
   },
   "source": [
    "we can drop the primary column as it can be predicted with the help of other dummy variables"
   ]
  },
  {
   "cell_type": "code",
   "execution_count": 31,
   "id": "1cd13682",
   "metadata": {
    "execution": {
     "iopub.execute_input": "2023-02-03T23:19:27.511202Z",
     "iopub.status.busy": "2023-02-03T23:19:27.510079Z",
     "iopub.status.idle": "2023-02-03T23:19:27.516554Z",
     "shell.execute_reply": "2023-02-03T23:19:27.515644Z"
    },
    "papermill": {
     "duration": 0.044767,
     "end_time": "2023-02-03T23:19:27.518762",
     "exception": false,
     "start_time": "2023-02-03T23:19:27.473995",
     "status": "completed"
    },
    "tags": []
   },
   "outputs": [],
   "source": [
    "status=pd.get_dummies(churn['marital'])"
   ]
  },
  {
   "cell_type": "code",
   "execution_count": 32,
   "id": "9308ba0f",
   "metadata": {
    "execution": {
     "iopub.execute_input": "2023-02-03T23:19:27.587752Z",
     "iopub.status.busy": "2023-02-03T23:19:27.586945Z",
     "iopub.status.idle": "2023-02-03T23:19:27.599467Z",
     "shell.execute_reply": "2023-02-03T23:19:27.598377Z"
    },
    "papermill": {
     "duration": 0.049639,
     "end_time": "2023-02-03T23:19:27.601841",
     "exception": false,
     "start_time": "2023-02-03T23:19:27.552202",
     "status": "completed"
    },
    "tags": []
   },
   "outputs": [
    {
     "data": {
      "text/html": [
       "<div>\n",
       "<style scoped>\n",
       "    .dataframe tbody tr th:only-of-type {\n",
       "        vertical-align: middle;\n",
       "    }\n",
       "\n",
       "    .dataframe tbody tr th {\n",
       "        vertical-align: top;\n",
       "    }\n",
       "\n",
       "    .dataframe thead th {\n",
       "        text-align: right;\n",
       "    }\n",
       "</style>\n",
       "<table border=\"1\" class=\"dataframe\">\n",
       "  <thead>\n",
       "    <tr style=\"text-align: right;\">\n",
       "      <th></th>\n",
       "      <th>divorced</th>\n",
       "      <th>married</th>\n",
       "      <th>single</th>\n",
       "    </tr>\n",
       "  </thead>\n",
       "  <tbody>\n",
       "    <tr>\n",
       "      <th>0</th>\n",
       "      <td>0</td>\n",
       "      <td>1</td>\n",
       "      <td>0</td>\n",
       "    </tr>\n",
       "    <tr>\n",
       "      <th>1</th>\n",
       "      <td>0</td>\n",
       "      <td>1</td>\n",
       "      <td>0</td>\n",
       "    </tr>\n",
       "    <tr>\n",
       "      <th>2</th>\n",
       "      <td>0</td>\n",
       "      <td>0</td>\n",
       "      <td>1</td>\n",
       "    </tr>\n",
       "    <tr>\n",
       "      <th>3</th>\n",
       "      <td>0</td>\n",
       "      <td>1</td>\n",
       "      <td>0</td>\n",
       "    </tr>\n",
       "    <tr>\n",
       "      <th>4</th>\n",
       "      <td>0</td>\n",
       "      <td>1</td>\n",
       "      <td>0</td>\n",
       "    </tr>\n",
       "    <tr>\n",
       "      <th>...</th>\n",
       "      <td>...</td>\n",
       "      <td>...</td>\n",
       "      <td>...</td>\n",
       "    </tr>\n",
       "    <tr>\n",
       "      <th>4516</th>\n",
       "      <td>0</td>\n",
       "      <td>1</td>\n",
       "      <td>0</td>\n",
       "    </tr>\n",
       "    <tr>\n",
       "      <th>4517</th>\n",
       "      <td>0</td>\n",
       "      <td>1</td>\n",
       "      <td>0</td>\n",
       "    </tr>\n",
       "    <tr>\n",
       "      <th>4518</th>\n",
       "      <td>0</td>\n",
       "      <td>1</td>\n",
       "      <td>0</td>\n",
       "    </tr>\n",
       "    <tr>\n",
       "      <th>4519</th>\n",
       "      <td>0</td>\n",
       "      <td>1</td>\n",
       "      <td>0</td>\n",
       "    </tr>\n",
       "    <tr>\n",
       "      <th>4520</th>\n",
       "      <td>0</td>\n",
       "      <td>0</td>\n",
       "      <td>1</td>\n",
       "    </tr>\n",
       "  </tbody>\n",
       "</table>\n",
       "<p>4521 rows × 3 columns</p>\n",
       "</div>"
      ],
      "text/plain": [
       "      divorced  married  single\n",
       "0            0        1       0\n",
       "1            0        1       0\n",
       "2            0        0       1\n",
       "3            0        1       0\n",
       "4            0        1       0\n",
       "...        ...      ...     ...\n",
       "4516         0        1       0\n",
       "4517         0        1       0\n",
       "4518         0        1       0\n",
       "4519         0        1       0\n",
       "4520         0        0       1\n",
       "\n",
       "[4521 rows x 3 columns]"
      ]
     },
     "execution_count": 32,
     "metadata": {},
     "output_type": "execute_result"
    }
   ],
   "source": [
    "status"
   ]
  },
  {
   "cell_type": "code",
   "execution_count": 33,
   "id": "07e7c576",
   "metadata": {
    "execution": {
     "iopub.execute_input": "2023-02-03T23:19:27.671477Z",
     "iopub.status.busy": "2023-02-03T23:19:27.670690Z",
     "iopub.status.idle": "2023-02-03T23:19:27.677911Z",
     "shell.execute_reply": "2023-02-03T23:19:27.676799Z"
    },
    "papermill": {
     "duration": 0.044421,
     "end_time": "2023-02-03T23:19:27.680236",
     "exception": false,
     "start_time": "2023-02-03T23:19:27.635815",
     "status": "completed"
    },
    "tags": []
   },
   "outputs": [],
   "source": [
    "status=pd.get_dummies(churn['marital'],drop_first=True)"
   ]
  },
  {
   "cell_type": "code",
   "execution_count": 34,
   "id": "43c99955",
   "metadata": {
    "execution": {
     "iopub.execute_input": "2023-02-03T23:19:27.748967Z",
     "iopub.status.busy": "2023-02-03T23:19:27.747859Z",
     "iopub.status.idle": "2023-02-03T23:19:27.759721Z",
     "shell.execute_reply": "2023-02-03T23:19:27.758602Z"
    },
    "papermill": {
     "duration": 0.048801,
     "end_time": "2023-02-03T23:19:27.762254",
     "exception": false,
     "start_time": "2023-02-03T23:19:27.713453",
     "status": "completed"
    },
    "tags": []
   },
   "outputs": [
    {
     "data": {
      "text/html": [
       "<div>\n",
       "<style scoped>\n",
       "    .dataframe tbody tr th:only-of-type {\n",
       "        vertical-align: middle;\n",
       "    }\n",
       "\n",
       "    .dataframe tbody tr th {\n",
       "        vertical-align: top;\n",
       "    }\n",
       "\n",
       "    .dataframe thead th {\n",
       "        text-align: right;\n",
       "    }\n",
       "</style>\n",
       "<table border=\"1\" class=\"dataframe\">\n",
       "  <thead>\n",
       "    <tr style=\"text-align: right;\">\n",
       "      <th></th>\n",
       "      <th>married</th>\n",
       "      <th>single</th>\n",
       "    </tr>\n",
       "  </thead>\n",
       "  <tbody>\n",
       "    <tr>\n",
       "      <th>0</th>\n",
       "      <td>1</td>\n",
       "      <td>0</td>\n",
       "    </tr>\n",
       "    <tr>\n",
       "      <th>1</th>\n",
       "      <td>1</td>\n",
       "      <td>0</td>\n",
       "    </tr>\n",
       "    <tr>\n",
       "      <th>2</th>\n",
       "      <td>0</td>\n",
       "      <td>1</td>\n",
       "    </tr>\n",
       "    <tr>\n",
       "      <th>3</th>\n",
       "      <td>1</td>\n",
       "      <td>0</td>\n",
       "    </tr>\n",
       "    <tr>\n",
       "      <th>4</th>\n",
       "      <td>1</td>\n",
       "      <td>0</td>\n",
       "    </tr>\n",
       "    <tr>\n",
       "      <th>...</th>\n",
       "      <td>...</td>\n",
       "      <td>...</td>\n",
       "    </tr>\n",
       "    <tr>\n",
       "      <th>4516</th>\n",
       "      <td>1</td>\n",
       "      <td>0</td>\n",
       "    </tr>\n",
       "    <tr>\n",
       "      <th>4517</th>\n",
       "      <td>1</td>\n",
       "      <td>0</td>\n",
       "    </tr>\n",
       "    <tr>\n",
       "      <th>4518</th>\n",
       "      <td>1</td>\n",
       "      <td>0</td>\n",
       "    </tr>\n",
       "    <tr>\n",
       "      <th>4519</th>\n",
       "      <td>1</td>\n",
       "      <td>0</td>\n",
       "    </tr>\n",
       "    <tr>\n",
       "      <th>4520</th>\n",
       "      <td>0</td>\n",
       "      <td>1</td>\n",
       "    </tr>\n",
       "  </tbody>\n",
       "</table>\n",
       "<p>4521 rows × 2 columns</p>\n",
       "</div>"
      ],
      "text/plain": [
       "      married  single\n",
       "0           1       0\n",
       "1           1       0\n",
       "2           0       1\n",
       "3           1       0\n",
       "4           1       0\n",
       "...       ...     ...\n",
       "4516        1       0\n",
       "4517        1       0\n",
       "4518        1       0\n",
       "4519        1       0\n",
       "4520        0       1\n",
       "\n",
       "[4521 rows x 2 columns]"
      ]
     },
     "execution_count": 34,
     "metadata": {},
     "output_type": "execute_result"
    }
   ],
   "source": [
    "status"
   ]
  },
  {
   "cell_type": "code",
   "execution_count": 35,
   "id": "d32845ec",
   "metadata": {
    "execution": {
     "iopub.execute_input": "2023-02-03T23:19:27.832492Z",
     "iopub.status.busy": "2023-02-03T23:19:27.832117Z",
     "iopub.status.idle": "2023-02-03T23:19:27.871645Z",
     "shell.execute_reply": "2023-02-03T23:19:27.870431Z"
    },
    "papermill": {
     "duration": 0.076986,
     "end_time": "2023-02-03T23:19:27.874105",
     "exception": false,
     "start_time": "2023-02-03T23:19:27.797119",
     "status": "completed"
    },
    "tags": []
   },
   "outputs": [
    {
     "data": {
      "text/html": [
       "<div>\n",
       "<style scoped>\n",
       "    .dataframe tbody tr th:only-of-type {\n",
       "        vertical-align: middle;\n",
       "    }\n",
       "\n",
       "    .dataframe tbody tr th {\n",
       "        vertical-align: top;\n",
       "    }\n",
       "\n",
       "    .dataframe thead th {\n",
       "        text-align: right;\n",
       "    }\n",
       "</style>\n",
       "<table border=\"1\" class=\"dataframe\">\n",
       "  <thead>\n",
       "    <tr style=\"text-align: right;\">\n",
       "      <th></th>\n",
       "      <th>age</th>\n",
       "      <th>marital</th>\n",
       "      <th>education</th>\n",
       "      <th>default</th>\n",
       "      <th>balance</th>\n",
       "      <th>housing</th>\n",
       "      <th>loan</th>\n",
       "      <th>duration</th>\n",
       "      <th>campaign</th>\n",
       "      <th>pdays</th>\n",
       "      <th>...</th>\n",
       "      <th>technician</th>\n",
       "      <th>entrepreneur</th>\n",
       "      <th>admin.</th>\n",
       "      <th>student</th>\n",
       "      <th>housemaid</th>\n",
       "      <th>retired</th>\n",
       "      <th>secondary</th>\n",
       "      <th>tertiary</th>\n",
       "      <th>married</th>\n",
       "      <th>single</th>\n",
       "    </tr>\n",
       "  </thead>\n",
       "  <tbody>\n",
       "    <tr>\n",
       "      <th>0</th>\n",
       "      <td>30.0</td>\n",
       "      <td>married</td>\n",
       "      <td>primary</td>\n",
       "      <td>0</td>\n",
       "      <td>1787.0</td>\n",
       "      <td>0</td>\n",
       "      <td>0</td>\n",
       "      <td>79.0</td>\n",
       "      <td>1.0</td>\n",
       "      <td>-1.0</td>\n",
       "      <td>...</td>\n",
       "      <td>0.0</td>\n",
       "      <td>0.0</td>\n",
       "      <td>0.0</td>\n",
       "      <td>0.0</td>\n",
       "      <td>0.0</td>\n",
       "      <td>1.0</td>\n",
       "      <td>0</td>\n",
       "      <td>0</td>\n",
       "      <td>1</td>\n",
       "      <td>0</td>\n",
       "    </tr>\n",
       "    <tr>\n",
       "      <th>1</th>\n",
       "      <td>33.0</td>\n",
       "      <td>married</td>\n",
       "      <td>secondary</td>\n",
       "      <td>0</td>\n",
       "      <td>4789.0</td>\n",
       "      <td>1</td>\n",
       "      <td>1</td>\n",
       "      <td>220.0</td>\n",
       "      <td>1.0</td>\n",
       "      <td>339.0</td>\n",
       "      <td>...</td>\n",
       "      <td>0.0</td>\n",
       "      <td>0.0</td>\n",
       "      <td>1.0</td>\n",
       "      <td>0.0</td>\n",
       "      <td>0.0</td>\n",
       "      <td>0.0</td>\n",
       "      <td>1</td>\n",
       "      <td>0</td>\n",
       "      <td>1</td>\n",
       "      <td>0</td>\n",
       "    </tr>\n",
       "    <tr>\n",
       "      <th>2</th>\n",
       "      <td>35.0</td>\n",
       "      <td>single</td>\n",
       "      <td>tertiary</td>\n",
       "      <td>0</td>\n",
       "      <td>1350.0</td>\n",
       "      <td>1</td>\n",
       "      <td>0</td>\n",
       "      <td>185.0</td>\n",
       "      <td>1.0</td>\n",
       "      <td>330.0</td>\n",
       "      <td>...</td>\n",
       "      <td>0.0</td>\n",
       "      <td>0.0</td>\n",
       "      <td>0.0</td>\n",
       "      <td>0.0</td>\n",
       "      <td>0.0</td>\n",
       "      <td>0.0</td>\n",
       "      <td>0</td>\n",
       "      <td>1</td>\n",
       "      <td>0</td>\n",
       "      <td>1</td>\n",
       "    </tr>\n",
       "    <tr>\n",
       "      <th>3</th>\n",
       "      <td>30.0</td>\n",
       "      <td>married</td>\n",
       "      <td>tertiary</td>\n",
       "      <td>0</td>\n",
       "      <td>1476.0</td>\n",
       "      <td>1</td>\n",
       "      <td>1</td>\n",
       "      <td>199.0</td>\n",
       "      <td>4.0</td>\n",
       "      <td>-1.0</td>\n",
       "      <td>...</td>\n",
       "      <td>0.0</td>\n",
       "      <td>0.0</td>\n",
       "      <td>0.0</td>\n",
       "      <td>0.0</td>\n",
       "      <td>0.0</td>\n",
       "      <td>0.0</td>\n",
       "      <td>0</td>\n",
       "      <td>1</td>\n",
       "      <td>1</td>\n",
       "      <td>0</td>\n",
       "    </tr>\n",
       "    <tr>\n",
       "      <th>4</th>\n",
       "      <td>59.0</td>\n",
       "      <td>married</td>\n",
       "      <td>secondary</td>\n",
       "      <td>0</td>\n",
       "      <td>0.0</td>\n",
       "      <td>1</td>\n",
       "      <td>0</td>\n",
       "      <td>226.0</td>\n",
       "      <td>1.0</td>\n",
       "      <td>-1.0</td>\n",
       "      <td>...</td>\n",
       "      <td>0.0</td>\n",
       "      <td>0.0</td>\n",
       "      <td>0.0</td>\n",
       "      <td>0.0</td>\n",
       "      <td>0.0</td>\n",
       "      <td>0.0</td>\n",
       "      <td>1</td>\n",
       "      <td>0</td>\n",
       "      <td>1</td>\n",
       "      <td>0</td>\n",
       "    </tr>\n",
       "    <tr>\n",
       "      <th>...</th>\n",
       "      <td>...</td>\n",
       "      <td>...</td>\n",
       "      <td>...</td>\n",
       "      <td>...</td>\n",
       "      <td>...</td>\n",
       "      <td>...</td>\n",
       "      <td>...</td>\n",
       "      <td>...</td>\n",
       "      <td>...</td>\n",
       "      <td>...</td>\n",
       "      <td>...</td>\n",
       "      <td>...</td>\n",
       "      <td>...</td>\n",
       "      <td>...</td>\n",
       "      <td>...</td>\n",
       "      <td>...</td>\n",
       "      <td>...</td>\n",
       "      <td>...</td>\n",
       "      <td>...</td>\n",
       "      <td>...</td>\n",
       "      <td>...</td>\n",
       "    </tr>\n",
       "    <tr>\n",
       "      <th>4516</th>\n",
       "      <td>33.0</td>\n",
       "      <td>married</td>\n",
       "      <td>secondary</td>\n",
       "      <td>0</td>\n",
       "      <td>-333.0</td>\n",
       "      <td>1</td>\n",
       "      <td>0</td>\n",
       "      <td>329.0</td>\n",
       "      <td>5.0</td>\n",
       "      <td>-1.0</td>\n",
       "      <td>...</td>\n",
       "      <td>0.0</td>\n",
       "      <td>0.0</td>\n",
       "      <td>1.0</td>\n",
       "      <td>0.0</td>\n",
       "      <td>0.0</td>\n",
       "      <td>0.0</td>\n",
       "      <td>1</td>\n",
       "      <td>0</td>\n",
       "      <td>1</td>\n",
       "      <td>0</td>\n",
       "    </tr>\n",
       "    <tr>\n",
       "      <th>4517</th>\n",
       "      <td>57.0</td>\n",
       "      <td>married</td>\n",
       "      <td>tertiary</td>\n",
       "      <td>1</td>\n",
       "      <td>-3313.0</td>\n",
       "      <td>1</td>\n",
       "      <td>1</td>\n",
       "      <td>153.0</td>\n",
       "      <td>1.0</td>\n",
       "      <td>-1.0</td>\n",
       "      <td>...</td>\n",
       "      <td>0.0</td>\n",
       "      <td>1.0</td>\n",
       "      <td>0.0</td>\n",
       "      <td>0.0</td>\n",
       "      <td>0.0</td>\n",
       "      <td>0.0</td>\n",
       "      <td>0</td>\n",
       "      <td>1</td>\n",
       "      <td>1</td>\n",
       "      <td>0</td>\n",
       "    </tr>\n",
       "    <tr>\n",
       "      <th>4518</th>\n",
       "      <td>57.0</td>\n",
       "      <td>married</td>\n",
       "      <td>secondary</td>\n",
       "      <td>0</td>\n",
       "      <td>295.0</td>\n",
       "      <td>0</td>\n",
       "      <td>0</td>\n",
       "      <td>151.0</td>\n",
       "      <td>11.0</td>\n",
       "      <td>-1.0</td>\n",
       "      <td>...</td>\n",
       "      <td>0.0</td>\n",
       "      <td>0.0</td>\n",
       "      <td>0.0</td>\n",
       "      <td>0.0</td>\n",
       "      <td>1.0</td>\n",
       "      <td>0.0</td>\n",
       "      <td>1</td>\n",
       "      <td>0</td>\n",
       "      <td>1</td>\n",
       "      <td>0</td>\n",
       "    </tr>\n",
       "    <tr>\n",
       "      <th>4519</th>\n",
       "      <td>28.0</td>\n",
       "      <td>married</td>\n",
       "      <td>secondary</td>\n",
       "      <td>0</td>\n",
       "      <td>1137.0</td>\n",
       "      <td>0</td>\n",
       "      <td>0</td>\n",
       "      <td>129.0</td>\n",
       "      <td>4.0</td>\n",
       "      <td>211.0</td>\n",
       "      <td>...</td>\n",
       "      <td>0.0</td>\n",
       "      <td>0.0</td>\n",
       "      <td>0.0</td>\n",
       "      <td>0.0</td>\n",
       "      <td>0.0</td>\n",
       "      <td>0.0</td>\n",
       "      <td>1</td>\n",
       "      <td>0</td>\n",
       "      <td>1</td>\n",
       "      <td>0</td>\n",
       "    </tr>\n",
       "    <tr>\n",
       "      <th>4520</th>\n",
       "      <td>44.0</td>\n",
       "      <td>single</td>\n",
       "      <td>tertiary</td>\n",
       "      <td>0</td>\n",
       "      <td>1136.0</td>\n",
       "      <td>1</td>\n",
       "      <td>1</td>\n",
       "      <td>345.0</td>\n",
       "      <td>2.0</td>\n",
       "      <td>249.0</td>\n",
       "      <td>...</td>\n",
       "      <td>0.0</td>\n",
       "      <td>0.0</td>\n",
       "      <td>0.0</td>\n",
       "      <td>0.0</td>\n",
       "      <td>0.0</td>\n",
       "      <td>0.0</td>\n",
       "      <td>0</td>\n",
       "      <td>1</td>\n",
       "      <td>0</td>\n",
       "      <td>1</td>\n",
       "    </tr>\n",
       "  </tbody>\n",
       "</table>\n",
       "<p>4521 rows × 27 columns</p>\n",
       "</div>"
      ],
      "text/plain": [
       "       age  marital  education  default  balance  housing  loan  duration  \\\n",
       "0     30.0  married    primary        0   1787.0        0     0      79.0   \n",
       "1     33.0  married  secondary        0   4789.0        1     1     220.0   \n",
       "2     35.0   single   tertiary        0   1350.0        1     0     185.0   \n",
       "3     30.0  married   tertiary        0   1476.0        1     1     199.0   \n",
       "4     59.0  married  secondary        0      0.0        1     0     226.0   \n",
       "...    ...      ...        ...      ...      ...      ...   ...       ...   \n",
       "4516  33.0  married  secondary        0   -333.0        1     0     329.0   \n",
       "4517  57.0  married   tertiary        1  -3313.0        1     1     153.0   \n",
       "4518  57.0  married  secondary        0    295.0        0     0     151.0   \n",
       "4519  28.0  married  secondary        0   1137.0        0     0     129.0   \n",
       "4520  44.0   single   tertiary        0   1136.0        1     1     345.0   \n",
       "\n",
       "      campaign  pdays  ...  technician  entrepreneur  admin.  student  \\\n",
       "0          1.0   -1.0  ...         0.0           0.0     0.0      0.0   \n",
       "1          1.0  339.0  ...         0.0           0.0     1.0      0.0   \n",
       "2          1.0  330.0  ...         0.0           0.0     0.0      0.0   \n",
       "3          4.0   -1.0  ...         0.0           0.0     0.0      0.0   \n",
       "4          1.0   -1.0  ...         0.0           0.0     0.0      0.0   \n",
       "...        ...    ...  ...         ...           ...     ...      ...   \n",
       "4516       5.0   -1.0  ...         0.0           0.0     1.0      0.0   \n",
       "4517       1.0   -1.0  ...         0.0           1.0     0.0      0.0   \n",
       "4518      11.0   -1.0  ...         0.0           0.0     0.0      0.0   \n",
       "4519       4.0  211.0  ...         0.0           0.0     0.0      0.0   \n",
       "4520       2.0  249.0  ...         0.0           0.0     0.0      0.0   \n",
       "\n",
       "      housemaid  retired  secondary  tertiary  married  single  \n",
       "0           0.0      1.0          0         0        1       0  \n",
       "1           0.0      0.0          1         0        1       0  \n",
       "2           0.0      0.0          0         1        0       1  \n",
       "3           0.0      0.0          0         1        1       0  \n",
       "4           0.0      0.0          1         0        1       0  \n",
       "...         ...      ...        ...       ...      ...     ...  \n",
       "4516        0.0      0.0          1         0        1       0  \n",
       "4517        0.0      0.0          0         1        1       0  \n",
       "4518        1.0      0.0          1         0        1       0  \n",
       "4519        0.0      0.0          1         0        1       0  \n",
       "4520        0.0      0.0          0         1        0       1  \n",
       "\n",
       "[4521 rows x 27 columns]"
      ]
     },
     "execution_count": 35,
     "metadata": {},
     "output_type": "execute_result"
    }
   ],
   "source": [
    "churn=pd.concat([churn,edu,status],axis=1)\n",
    "churn"
   ]
  },
  {
   "cell_type": "code",
   "execution_count": 36,
   "id": "5dd583e4",
   "metadata": {
    "execution": {
     "iopub.execute_input": "2023-02-03T23:19:27.945277Z",
     "iopub.status.busy": "2023-02-03T23:19:27.944862Z",
     "iopub.status.idle": "2023-02-03T23:19:27.983844Z",
     "shell.execute_reply": "2023-02-03T23:19:27.982951Z"
    },
    "papermill": {
     "duration": 0.077574,
     "end_time": "2023-02-03T23:19:27.986013",
     "exception": false,
     "start_time": "2023-02-03T23:19:27.908439",
     "status": "completed"
    },
    "tags": []
   },
   "outputs": [
    {
     "data": {
      "text/html": [
       "<div>\n",
       "<style scoped>\n",
       "    .dataframe tbody tr th:only-of-type {\n",
       "        vertical-align: middle;\n",
       "    }\n",
       "\n",
       "    .dataframe tbody tr th {\n",
       "        vertical-align: top;\n",
       "    }\n",
       "\n",
       "    .dataframe thead th {\n",
       "        text-align: right;\n",
       "    }\n",
       "</style>\n",
       "<table border=\"1\" class=\"dataframe\">\n",
       "  <thead>\n",
       "    <tr style=\"text-align: right;\">\n",
       "      <th></th>\n",
       "      <th>age</th>\n",
       "      <th>default</th>\n",
       "      <th>balance</th>\n",
       "      <th>housing</th>\n",
       "      <th>loan</th>\n",
       "      <th>duration</th>\n",
       "      <th>campaign</th>\n",
       "      <th>pdays</th>\n",
       "      <th>previous</th>\n",
       "      <th>y</th>\n",
       "      <th>...</th>\n",
       "      <th>technician</th>\n",
       "      <th>entrepreneur</th>\n",
       "      <th>admin.</th>\n",
       "      <th>student</th>\n",
       "      <th>housemaid</th>\n",
       "      <th>retired</th>\n",
       "      <th>secondary</th>\n",
       "      <th>tertiary</th>\n",
       "      <th>married</th>\n",
       "      <th>single</th>\n",
       "    </tr>\n",
       "  </thead>\n",
       "  <tbody>\n",
       "    <tr>\n",
       "      <th>0</th>\n",
       "      <td>30.0</td>\n",
       "      <td>0</td>\n",
       "      <td>1787.0</td>\n",
       "      <td>0</td>\n",
       "      <td>0</td>\n",
       "      <td>79.0</td>\n",
       "      <td>1.0</td>\n",
       "      <td>-1.0</td>\n",
       "      <td>0.0</td>\n",
       "      <td>0</td>\n",
       "      <td>...</td>\n",
       "      <td>0.0</td>\n",
       "      <td>0.0</td>\n",
       "      <td>0.0</td>\n",
       "      <td>0.0</td>\n",
       "      <td>0.0</td>\n",
       "      <td>1.0</td>\n",
       "      <td>0</td>\n",
       "      <td>0</td>\n",
       "      <td>1</td>\n",
       "      <td>0</td>\n",
       "    </tr>\n",
       "    <tr>\n",
       "      <th>1</th>\n",
       "      <td>33.0</td>\n",
       "      <td>0</td>\n",
       "      <td>4789.0</td>\n",
       "      <td>1</td>\n",
       "      <td>1</td>\n",
       "      <td>220.0</td>\n",
       "      <td>1.0</td>\n",
       "      <td>339.0</td>\n",
       "      <td>4.0</td>\n",
       "      <td>0</td>\n",
       "      <td>...</td>\n",
       "      <td>0.0</td>\n",
       "      <td>0.0</td>\n",
       "      <td>1.0</td>\n",
       "      <td>0.0</td>\n",
       "      <td>0.0</td>\n",
       "      <td>0.0</td>\n",
       "      <td>1</td>\n",
       "      <td>0</td>\n",
       "      <td>1</td>\n",
       "      <td>0</td>\n",
       "    </tr>\n",
       "    <tr>\n",
       "      <th>2</th>\n",
       "      <td>35.0</td>\n",
       "      <td>0</td>\n",
       "      <td>1350.0</td>\n",
       "      <td>1</td>\n",
       "      <td>0</td>\n",
       "      <td>185.0</td>\n",
       "      <td>1.0</td>\n",
       "      <td>330.0</td>\n",
       "      <td>1.0</td>\n",
       "      <td>0</td>\n",
       "      <td>...</td>\n",
       "      <td>0.0</td>\n",
       "      <td>0.0</td>\n",
       "      <td>0.0</td>\n",
       "      <td>0.0</td>\n",
       "      <td>0.0</td>\n",
       "      <td>0.0</td>\n",
       "      <td>0</td>\n",
       "      <td>1</td>\n",
       "      <td>0</td>\n",
       "      <td>1</td>\n",
       "    </tr>\n",
       "    <tr>\n",
       "      <th>3</th>\n",
       "      <td>30.0</td>\n",
       "      <td>0</td>\n",
       "      <td>1476.0</td>\n",
       "      <td>1</td>\n",
       "      <td>1</td>\n",
       "      <td>199.0</td>\n",
       "      <td>4.0</td>\n",
       "      <td>-1.0</td>\n",
       "      <td>0.0</td>\n",
       "      <td>0</td>\n",
       "      <td>...</td>\n",
       "      <td>0.0</td>\n",
       "      <td>0.0</td>\n",
       "      <td>0.0</td>\n",
       "      <td>0.0</td>\n",
       "      <td>0.0</td>\n",
       "      <td>0.0</td>\n",
       "      <td>0</td>\n",
       "      <td>1</td>\n",
       "      <td>1</td>\n",
       "      <td>0</td>\n",
       "    </tr>\n",
       "    <tr>\n",
       "      <th>4</th>\n",
       "      <td>59.0</td>\n",
       "      <td>0</td>\n",
       "      <td>0.0</td>\n",
       "      <td>1</td>\n",
       "      <td>0</td>\n",
       "      <td>226.0</td>\n",
       "      <td>1.0</td>\n",
       "      <td>-1.0</td>\n",
       "      <td>0.0</td>\n",
       "      <td>0</td>\n",
       "      <td>...</td>\n",
       "      <td>0.0</td>\n",
       "      <td>0.0</td>\n",
       "      <td>0.0</td>\n",
       "      <td>0.0</td>\n",
       "      <td>0.0</td>\n",
       "      <td>0.0</td>\n",
       "      <td>1</td>\n",
       "      <td>0</td>\n",
       "      <td>1</td>\n",
       "      <td>0</td>\n",
       "    </tr>\n",
       "    <tr>\n",
       "      <th>...</th>\n",
       "      <td>...</td>\n",
       "      <td>...</td>\n",
       "      <td>...</td>\n",
       "      <td>...</td>\n",
       "      <td>...</td>\n",
       "      <td>...</td>\n",
       "      <td>...</td>\n",
       "      <td>...</td>\n",
       "      <td>...</td>\n",
       "      <td>...</td>\n",
       "      <td>...</td>\n",
       "      <td>...</td>\n",
       "      <td>...</td>\n",
       "      <td>...</td>\n",
       "      <td>...</td>\n",
       "      <td>...</td>\n",
       "      <td>...</td>\n",
       "      <td>...</td>\n",
       "      <td>...</td>\n",
       "      <td>...</td>\n",
       "      <td>...</td>\n",
       "    </tr>\n",
       "    <tr>\n",
       "      <th>4516</th>\n",
       "      <td>33.0</td>\n",
       "      <td>0</td>\n",
       "      <td>-333.0</td>\n",
       "      <td>1</td>\n",
       "      <td>0</td>\n",
       "      <td>329.0</td>\n",
       "      <td>5.0</td>\n",
       "      <td>-1.0</td>\n",
       "      <td>0.0</td>\n",
       "      <td>0</td>\n",
       "      <td>...</td>\n",
       "      <td>0.0</td>\n",
       "      <td>0.0</td>\n",
       "      <td>1.0</td>\n",
       "      <td>0.0</td>\n",
       "      <td>0.0</td>\n",
       "      <td>0.0</td>\n",
       "      <td>1</td>\n",
       "      <td>0</td>\n",
       "      <td>1</td>\n",
       "      <td>0</td>\n",
       "    </tr>\n",
       "    <tr>\n",
       "      <th>4517</th>\n",
       "      <td>57.0</td>\n",
       "      <td>1</td>\n",
       "      <td>-3313.0</td>\n",
       "      <td>1</td>\n",
       "      <td>1</td>\n",
       "      <td>153.0</td>\n",
       "      <td>1.0</td>\n",
       "      <td>-1.0</td>\n",
       "      <td>0.0</td>\n",
       "      <td>0</td>\n",
       "      <td>...</td>\n",
       "      <td>0.0</td>\n",
       "      <td>1.0</td>\n",
       "      <td>0.0</td>\n",
       "      <td>0.0</td>\n",
       "      <td>0.0</td>\n",
       "      <td>0.0</td>\n",
       "      <td>0</td>\n",
       "      <td>1</td>\n",
       "      <td>1</td>\n",
       "      <td>0</td>\n",
       "    </tr>\n",
       "    <tr>\n",
       "      <th>4518</th>\n",
       "      <td>57.0</td>\n",
       "      <td>0</td>\n",
       "      <td>295.0</td>\n",
       "      <td>0</td>\n",
       "      <td>0</td>\n",
       "      <td>151.0</td>\n",
       "      <td>11.0</td>\n",
       "      <td>-1.0</td>\n",
       "      <td>0.0</td>\n",
       "      <td>0</td>\n",
       "      <td>...</td>\n",
       "      <td>0.0</td>\n",
       "      <td>0.0</td>\n",
       "      <td>0.0</td>\n",
       "      <td>0.0</td>\n",
       "      <td>1.0</td>\n",
       "      <td>0.0</td>\n",
       "      <td>1</td>\n",
       "      <td>0</td>\n",
       "      <td>1</td>\n",
       "      <td>0</td>\n",
       "    </tr>\n",
       "    <tr>\n",
       "      <th>4519</th>\n",
       "      <td>28.0</td>\n",
       "      <td>0</td>\n",
       "      <td>1137.0</td>\n",
       "      <td>0</td>\n",
       "      <td>0</td>\n",
       "      <td>129.0</td>\n",
       "      <td>4.0</td>\n",
       "      <td>211.0</td>\n",
       "      <td>3.0</td>\n",
       "      <td>0</td>\n",
       "      <td>...</td>\n",
       "      <td>0.0</td>\n",
       "      <td>0.0</td>\n",
       "      <td>0.0</td>\n",
       "      <td>0.0</td>\n",
       "      <td>0.0</td>\n",
       "      <td>0.0</td>\n",
       "      <td>1</td>\n",
       "      <td>0</td>\n",
       "      <td>1</td>\n",
       "      <td>0</td>\n",
       "    </tr>\n",
       "    <tr>\n",
       "      <th>4520</th>\n",
       "      <td>44.0</td>\n",
       "      <td>0</td>\n",
       "      <td>1136.0</td>\n",
       "      <td>1</td>\n",
       "      <td>1</td>\n",
       "      <td>345.0</td>\n",
       "      <td>2.0</td>\n",
       "      <td>249.0</td>\n",
       "      <td>7.0</td>\n",
       "      <td>0</td>\n",
       "      <td>...</td>\n",
       "      <td>0.0</td>\n",
       "      <td>0.0</td>\n",
       "      <td>0.0</td>\n",
       "      <td>0.0</td>\n",
       "      <td>0.0</td>\n",
       "      <td>0.0</td>\n",
       "      <td>0</td>\n",
       "      <td>1</td>\n",
       "      <td>0</td>\n",
       "      <td>1</td>\n",
       "    </tr>\n",
       "  </tbody>\n",
       "</table>\n",
       "<p>4521 rows × 25 columns</p>\n",
       "</div>"
      ],
      "text/plain": [
       "       age  default  balance  housing  loan  duration  campaign  pdays  \\\n",
       "0     30.0        0   1787.0        0     0      79.0       1.0   -1.0   \n",
       "1     33.0        0   4789.0        1     1     220.0       1.0  339.0   \n",
       "2     35.0        0   1350.0        1     0     185.0       1.0  330.0   \n",
       "3     30.0        0   1476.0        1     1     199.0       4.0   -1.0   \n",
       "4     59.0        0      0.0        1     0     226.0       1.0   -1.0   \n",
       "...    ...      ...      ...      ...   ...       ...       ...    ...   \n",
       "4516  33.0        0   -333.0        1     0     329.0       5.0   -1.0   \n",
       "4517  57.0        1  -3313.0        1     1     153.0       1.0   -1.0   \n",
       "4518  57.0        0    295.0        0     0     151.0      11.0   -1.0   \n",
       "4519  28.0        0   1137.0        0     0     129.0       4.0  211.0   \n",
       "4520  44.0        0   1136.0        1     1     345.0       2.0  249.0   \n",
       "\n",
       "      previous  y  ...  technician  entrepreneur  admin.  student  housemaid  \\\n",
       "0          0.0  0  ...         0.0           0.0     0.0      0.0        0.0   \n",
       "1          4.0  0  ...         0.0           0.0     1.0      0.0        0.0   \n",
       "2          1.0  0  ...         0.0           0.0     0.0      0.0        0.0   \n",
       "3          0.0  0  ...         0.0           0.0     0.0      0.0        0.0   \n",
       "4          0.0  0  ...         0.0           0.0     0.0      0.0        0.0   \n",
       "...        ... ..  ...         ...           ...     ...      ...        ...   \n",
       "4516       0.0  0  ...         0.0           0.0     1.0      0.0        0.0   \n",
       "4517       0.0  0  ...         0.0           1.0     0.0      0.0        0.0   \n",
       "4518       0.0  0  ...         0.0           0.0     0.0      0.0        1.0   \n",
       "4519       3.0  0  ...         0.0           0.0     0.0      0.0        0.0   \n",
       "4520       7.0  0  ...         0.0           0.0     0.0      0.0        0.0   \n",
       "\n",
       "      retired  secondary  tertiary  married  single  \n",
       "0         1.0          0         0        1       0  \n",
       "1         0.0          1         0        1       0  \n",
       "2         0.0          0         1        0       1  \n",
       "3         0.0          0         1        1       0  \n",
       "4         0.0          1         0        1       0  \n",
       "...       ...        ...       ...      ...     ...  \n",
       "4516      0.0          1         0        1       0  \n",
       "4517      0.0          0         1        1       0  \n",
       "4518      0.0          1         0        1       0  \n",
       "4519      0.0          1         0        1       0  \n",
       "4520      0.0          0         1        0       1  \n",
       "\n",
       "[4521 rows x 25 columns]"
      ]
     },
     "execution_count": 36,
     "metadata": {},
     "output_type": "execute_result"
    }
   ],
   "source": [
    "churn.drop(\"marital\",axis = 1, inplace = True)\n",
    "churn.drop(\"education\",axis = 1, inplace = True)\n",
    "churn"
   ]
  },
  {
   "cell_type": "markdown",
   "id": "11bd2045",
   "metadata": {
    "papermill": {
     "duration": 0.033914,
     "end_time": "2023-02-03T23:19:28.054382",
     "exception": false,
     "start_time": "2023-02-03T23:19:28.020468",
     "status": "completed"
    },
    "tags": []
   },
   "source": [
    "# **Univariate analysis**"
   ]
  },
  {
   "cell_type": "code",
   "execution_count": 37,
   "id": "76655c24",
   "metadata": {
    "execution": {
     "iopub.execute_input": "2023-02-03T23:19:28.124785Z",
     "iopub.status.busy": "2023-02-03T23:19:28.124119Z",
     "iopub.status.idle": "2023-02-03T23:19:28.129100Z",
     "shell.execute_reply": "2023-02-03T23:19:28.128117Z"
    },
    "papermill": {
     "duration": 0.042962,
     "end_time": "2023-02-03T23:19:28.131420",
     "exception": false,
     "start_time": "2023-02-03T23:19:28.088458",
     "status": "completed"
    },
    "tags": []
   },
   "outputs": [],
   "source": [
    "churn_d = churn.copy()"
   ]
  },
  {
   "cell_type": "code",
   "execution_count": 38,
   "id": "de8bdbe4",
   "metadata": {
    "execution": {
     "iopub.execute_input": "2023-02-03T23:19:28.201613Z",
     "iopub.status.busy": "2023-02-03T23:19:28.201169Z",
     "iopub.status.idle": "2023-02-03T23:19:31.851135Z",
     "shell.execute_reply": "2023-02-03T23:19:31.850131Z"
    },
    "papermill": {
     "duration": 3.688269,
     "end_time": "2023-02-03T23:19:31.853769",
     "exception": false,
     "start_time": "2023-02-03T23:19:28.165500",
     "status": "completed"
    },
    "tags": []
   },
   "outputs": [
    {
     "data": {
      "image/png": "[encoded data removed]",
      "text/plain": [
       "<Figure size 640x480 with 1 Axes>"
      ]
     },
     "metadata": {},
     "output_type": "display_data"
    },
    {
     "data": {
      "image/png": "[encoded data removed]",
      "text/plain": [
       "<Figure size 640x480 with 1 Axes>"
      ]
     },
     "metadata": {},
     "output_type": "display_data"
    },
    {
     "data": {
      "image/png": "[encoded data removed]",
      "text/plain": [
       "<Figure size 640x480 with 1 Axes>"
      ]
     },
     "metadata": {},
     "output_type": "display_data"
    },
    {
     "data": {
      "image/png": "[encoded data removed]",
      "text/plain": [
       "<Figure size 640x480 with 1 Axes>"
      ]
     },
     "metadata": {},
     "output_type": "display_data"
    },
    {
     "data": {
      "image/png": "[encoded data removed]",
      "text/plain": [
       "<Figure size 640x480 with 1 Axes>"
      ]
     },
     "metadata": {},
     "output_type": "display_data"
    },
    {
     "data": {
      "image/png": "[encoded data removed]",
      "text/plain": [
       "<Figure size 640x480 with 1 Axes>"
      ]
     },
     "metadata": {},
     "output_type": "display_data"
    },
    {
     "data": {
      "image/png": "[encoded data removed]",
      "text/plain": [
       "<Figure size 640x480 with 1 Axes>"
      ]
     },
     "metadata": {},
     "output_type": "display_data"
    },
    {
     "data": {
      "image/png": "[encoded data removed]",
      "text/plain": [
       "<Figure size 640x480 with 1 Axes>"
      ]
     },
     "metadata": {},
     "output_type": "display_data"
    },
    {
     "data": {
      "image/png": "[encoded data removed]",
      "text/plain": [
       "<Figure size 640x480 with 1 Axes>"
      ]
     },
     "metadata": {},
     "output_type": "display_data"
    },
    {
     "data": {
      "image/png": "[encoded data removed]",
      "text/plain": [
       "<Figure size 640x480 with 1 Axes>"
      ]
     },
     "metadata": {},
     "output_type": "display_data"
    },
    {
     "data": {
      "image/png": "[encoded data removed]",
      "text/plain": [
       "<Figure size 640x480 with 1 Axes>"
      ]
     },
     "metadata": {},
     "output_type": "display_data"
    },
    {
     "data": {
      "image/png": "[encoded data removed]",
      "text/plain": [
       "<Figure size 640x480 with 1 Axes>"
      ]
     },
     "metadata": {},
     "output_type": "display_data"
    },
    {
     "data": {
      "image/png": "[encoded data removed]",
      "text/plain": [
       "<Figure size 640x480 with 1 Axes>"
      ]
     },
     "metadata": {},
     "output_type": "display_data"
    },
    {
     "data": {
      "image/png": "[encoded data removed]",
      "text/plain": [
       "<Figure size 640x480 with 1 Axes>"
      ]
     },
     "metadata": {},
     "output_type": "display_data"
    },
    {
     "data": {
      "image/png": "[encoded data removed]",
      "text/plain": [
       "<Figure size 640x480 with 1 Axes>"
      ]
     },
     "metadata": {},
     "output_type": "display_data"
    },
    {
     "data": {
      "image/png": "[encoded data removed]",
      "text/plain": [
       "<Figure size 640x480 with 1 Axes>"
      ]
     },
     "metadata": {},
     "output_type": "display_data"
    },
    {
     "data": {
      "image/png": "[encoded data removed]",
      "text/plain": [
       "<Figure size 640x480 with 1 Axes>"
      ]
     },
     "metadata": {},
     "output_type": "display_data"
    },
    {
     "data": {
      "image/png": "[encoded data removed]",
      "text/plain": [
       "<Figure size 640x480 with 1 Axes>"
      ]
     },
     "metadata": {},
     "output_type": "display_data"
    }
   ],
   "source": [
    "for i,predictor in enumerate(churn_d.drop(columns=['y','age','campaign','previous', 'balance', 'duration','pdays'])):\n",
    "    plt.figure(i)\n",
    "    sns.countplot(data=churn_d, x=predictor, hue='y')"
   ]
  },
  {
   "cell_type": "code",
   "execution_count": 39,
   "id": "a9b65df5",
   "metadata": {
    "execution": {
     "iopub.execute_input": "2023-02-03T23:19:31.934870Z",
     "iopub.status.busy": "2023-02-03T23:19:31.934010Z",
     "iopub.status.idle": "2023-02-03T23:19:32.312019Z",
     "shell.execute_reply": "2023-02-03T23:19:32.310807Z"
    },
    "papermill": {
     "duration": 0.421298,
     "end_time": "2023-02-03T23:19:32.314406",
     "exception": false,
     "start_time": "2023-02-03T23:19:31.893108",
     "status": "completed"
    },
    "tags": []
   },
   "outputs": [
    {
     "data": {
      "text/plain": [
       "<AxesSubplot: >"
      ]
     },
     "execution_count": 39,
     "metadata": {},
     "output_type": "execute_result"
    },
    {
     "data": {
      "image/png": "[encoded data removed]",
      "text/plain": [
       "<Figure size 2000x800 with 1 Axes>"
      ]
     },
     "metadata": {},
     "output_type": "display_data"
    }
   ],
   "source": [
    "plt.figure(figsize=(20,8))\n",
    "churn_d.corr()['y'].sort_values(ascending = False).plot(kind='bar')"
   ]
  },
  {
   "cell_type": "code",
   "execution_count": 40,
   "id": "83e9f0aa",
   "metadata": {
    "execution": {
     "iopub.execute_input": "2023-02-03T23:19:33.225913Z",
     "iopub.status.busy": "2023-02-03T23:19:33.225497Z",
     "iopub.status.idle": "2023-02-03T23:19:33.289928Z",
     "shell.execute_reply": "2023-02-03T23:19:33.288798Z"
    },
    "papermill": {
     "duration": 0.108046,
     "end_time": "2023-02-03T23:19:33.292575",
     "exception": false,
     "start_time": "2023-02-03T23:19:33.184529",
     "status": "completed"
    },
    "tags": []
   },
   "outputs": [],
   "source": [
    "churn_d.to_csv('churn_model.csv')"
   ]
  },
  {
   "cell_type": "markdown",
   "id": "13125c4c",
   "metadata": {
    "papermill": {
     "duration": 0.040412,
     "end_time": "2023-02-03T23:19:33.372415",
     "exception": false,
     "start_time": "2023-02-03T23:19:33.332003",
     "status": "completed"
    },
    "tags": []
   },
   "source": [
    "# # **Model Building**"
   ]
  },
  {
   "cell_type": "code",
   "execution_count": 41,
   "id": "340650f7",
   "metadata": {
    "execution": {
     "iopub.execute_input": "2023-02-03T23:19:33.453379Z",
     "iopub.status.busy": "2023-02-03T23:19:33.452978Z",
     "iopub.status.idle": "2023-02-03T23:19:33.967163Z",
     "shell.execute_reply": "2023-02-03T23:19:33.966074Z"
    },
    "papermill": {
     "duration": 0.557613,
     "end_time": "2023-02-03T23:19:33.969970",
     "exception": false,
     "start_time": "2023-02-03T23:19:33.412357",
     "status": "completed"
    },
    "tags": []
   },
   "outputs": [],
   "source": [
    "import pandas as pd\n",
    "from sklearn import metrics\n",
    "from sklearn.model_selection import train_test_split\n",
    "from sklearn.metrics import recall_score\n",
    "from sklearn.metrics import classification_report\n",
    "from sklearn.metrics import confusion_matrix\n",
    "from sklearn.tree import DecisionTreeClassifier\n",
    "from sklearn.ensemble import RandomForestClassifier\n",
    "from sklearn.linear_model import LogisticRegression\n",
    "from imblearn.combine import SMOTEENN"
   ]
  },
  {
   "cell_type": "code",
   "execution_count": 42,
   "id": "04b64587",
   "metadata": {
    "execution": {
     "iopub.execute_input": "2023-02-03T23:19:34.052057Z",
     "iopub.status.busy": "2023-02-03T23:19:34.051393Z",
     "iopub.status.idle": "2023-02-03T23:19:34.093091Z",
     "shell.execute_reply": "2023-02-03T23:19:34.091896Z"
    },
    "papermill": {
     "duration": 0.084645,
     "end_time": "2023-02-03T23:19:34.095484",
     "exception": false,
     "start_time": "2023-02-03T23:19:34.010839",
     "status": "completed"
    },
    "tags": []
   },
   "outputs": [
    {
     "data": {
      "text/html": [
       "<div>\n",
       "<style scoped>\n",
       "    .dataframe tbody tr th:only-of-type {\n",
       "        vertical-align: middle;\n",
       "    }\n",
       "\n",
       "    .dataframe tbody tr th {\n",
       "        vertical-align: top;\n",
       "    }\n",
       "\n",
       "    .dataframe thead th {\n",
       "        text-align: right;\n",
       "    }\n",
       "</style>\n",
       "<table border=\"1\" class=\"dataframe\">\n",
       "  <thead>\n",
       "    <tr style=\"text-align: right;\">\n",
       "      <th></th>\n",
       "      <th>Unnamed: 0</th>\n",
       "      <th>age</th>\n",
       "      <th>default</th>\n",
       "      <th>balance</th>\n",
       "      <th>housing</th>\n",
       "      <th>loan</th>\n",
       "      <th>duration</th>\n",
       "      <th>campaign</th>\n",
       "      <th>pdays</th>\n",
       "      <th>previous</th>\n",
       "      <th>...</th>\n",
       "      <th>technician</th>\n",
       "      <th>entrepreneur</th>\n",
       "      <th>admin.</th>\n",
       "      <th>student</th>\n",
       "      <th>housemaid</th>\n",
       "      <th>retired</th>\n",
       "      <th>secondary</th>\n",
       "      <th>tertiary</th>\n",
       "      <th>married</th>\n",
       "      <th>single</th>\n",
       "    </tr>\n",
       "  </thead>\n",
       "  <tbody>\n",
       "    <tr>\n",
       "      <th>0</th>\n",
       "      <td>0</td>\n",
       "      <td>30.0</td>\n",
       "      <td>0</td>\n",
       "      <td>1787.0</td>\n",
       "      <td>0</td>\n",
       "      <td>0</td>\n",
       "      <td>79.0</td>\n",
       "      <td>1.0</td>\n",
       "      <td>-1.0</td>\n",
       "      <td>0.0</td>\n",
       "      <td>...</td>\n",
       "      <td>0.0</td>\n",
       "      <td>0.0</td>\n",
       "      <td>0.0</td>\n",
       "      <td>0.0</td>\n",
       "      <td>0.0</td>\n",
       "      <td>1.0</td>\n",
       "      <td>0</td>\n",
       "      <td>0</td>\n",
       "      <td>1</td>\n",
       "      <td>0</td>\n",
       "    </tr>\n",
       "    <tr>\n",
       "      <th>1</th>\n",
       "      <td>1</td>\n",
       "      <td>33.0</td>\n",
       "      <td>0</td>\n",
       "      <td>4789.0</td>\n",
       "      <td>1</td>\n",
       "      <td>1</td>\n",
       "      <td>220.0</td>\n",
       "      <td>1.0</td>\n",
       "      <td>339.0</td>\n",
       "      <td>4.0</td>\n",
       "      <td>...</td>\n",
       "      <td>0.0</td>\n",
       "      <td>0.0</td>\n",
       "      <td>1.0</td>\n",
       "      <td>0.0</td>\n",
       "      <td>0.0</td>\n",
       "      <td>0.0</td>\n",
       "      <td>1</td>\n",
       "      <td>0</td>\n",
       "      <td>1</td>\n",
       "      <td>0</td>\n",
       "    </tr>\n",
       "    <tr>\n",
       "      <th>2</th>\n",
       "      <td>2</td>\n",
       "      <td>35.0</td>\n",
       "      <td>0</td>\n",
       "      <td>1350.0</td>\n",
       "      <td>1</td>\n",
       "      <td>0</td>\n",
       "      <td>185.0</td>\n",
       "      <td>1.0</td>\n",
       "      <td>330.0</td>\n",
       "      <td>1.0</td>\n",
       "      <td>...</td>\n",
       "      <td>0.0</td>\n",
       "      <td>0.0</td>\n",
       "      <td>0.0</td>\n",
       "      <td>0.0</td>\n",
       "      <td>0.0</td>\n",
       "      <td>0.0</td>\n",
       "      <td>0</td>\n",
       "      <td>1</td>\n",
       "      <td>0</td>\n",
       "      <td>1</td>\n",
       "    </tr>\n",
       "    <tr>\n",
       "      <th>3</th>\n",
       "      <td>3</td>\n",
       "      <td>30.0</td>\n",
       "      <td>0</td>\n",
       "      <td>1476.0</td>\n",
       "      <td>1</td>\n",
       "      <td>1</td>\n",
       "      <td>199.0</td>\n",
       "      <td>4.0</td>\n",
       "      <td>-1.0</td>\n",
       "      <td>0.0</td>\n",
       "      <td>...</td>\n",
       "      <td>0.0</td>\n",
       "      <td>0.0</td>\n",
       "      <td>0.0</td>\n",
       "      <td>0.0</td>\n",
       "      <td>0.0</td>\n",
       "      <td>0.0</td>\n",
       "      <td>0</td>\n",
       "      <td>1</td>\n",
       "      <td>1</td>\n",
       "      <td>0</td>\n",
       "    </tr>\n",
       "    <tr>\n",
       "      <th>4</th>\n",
       "      <td>4</td>\n",
       "      <td>59.0</td>\n",
       "      <td>0</td>\n",
       "      <td>0.0</td>\n",
       "      <td>1</td>\n",
       "      <td>0</td>\n",
       "      <td>226.0</td>\n",
       "      <td>1.0</td>\n",
       "      <td>-1.0</td>\n",
       "      <td>0.0</td>\n",
       "      <td>...</td>\n",
       "      <td>0.0</td>\n",
       "      <td>0.0</td>\n",
       "      <td>0.0</td>\n",
       "      <td>0.0</td>\n",
       "      <td>0.0</td>\n",
       "      <td>0.0</td>\n",
       "      <td>1</td>\n",
       "      <td>0</td>\n",
       "      <td>1</td>\n",
       "      <td>0</td>\n",
       "    </tr>\n",
       "  </tbody>\n",
       "</table>\n",
       "<p>5 rows × 26 columns</p>\n",
       "</div>"
      ],
      "text/plain": [
       "   Unnamed: 0   age  default  balance  housing  loan  duration  campaign  \\\n",
       "0           0  30.0        0   1787.0        0     0      79.0       1.0   \n",
       "1           1  33.0        0   4789.0        1     1     220.0       1.0   \n",
       "2           2  35.0        0   1350.0        1     0     185.0       1.0   \n",
       "3           3  30.0        0   1476.0        1     1     199.0       4.0   \n",
       "4           4  59.0        0      0.0        1     0     226.0       1.0   \n",
       "\n",
       "   pdays  previous  ...  technician  entrepreneur  admin.  student  housemaid  \\\n",
       "0   -1.0       0.0  ...         0.0           0.0     0.0      0.0        0.0   \n",
       "1  339.0       4.0  ...         0.0           0.0     1.0      0.0        0.0   \n",
       "2  330.0       1.0  ...         0.0           0.0     0.0      0.0        0.0   \n",
       "3   -1.0       0.0  ...         0.0           0.0     0.0      0.0        0.0   \n",
       "4   -1.0       0.0  ...         0.0           0.0     0.0      0.0        0.0   \n",
       "\n",
       "   retired  secondary  tertiary  married  single  \n",
       "0      1.0          0         0        1       0  \n",
       "1      0.0          1         0        1       0  \n",
       "2      0.0          0         1        0       1  \n",
       "3      0.0          0         1        1       0  \n",
       "4      0.0          1         0        1       0  \n",
       "\n",
       "[5 rows x 26 columns]"
      ]
     },
     "execution_count": 42,
     "metadata": {},
     "output_type": "execute_result"
    }
   ],
   "source": [
    "df=pd.read_csv(\"churn_model.csv\")\n",
    "df.head()"
   ]
  },
  {
   "cell_type": "code",
   "execution_count": 43,
   "id": "0e55a1c6",
   "metadata": {
    "execution": {
     "iopub.execute_input": "2023-02-03T23:19:34.178544Z",
     "iopub.status.busy": "2023-02-03T23:19:34.178140Z",
     "iopub.status.idle": "2023-02-03T23:19:34.185032Z",
     "shell.execute_reply": "2023-02-03T23:19:34.183755Z"
    },
    "papermill": {
     "duration": 0.051383,
     "end_time": "2023-02-03T23:19:34.187394",
     "exception": false,
     "start_time": "2023-02-03T23:19:34.136011",
     "status": "completed"
    },
    "tags": []
   },
   "outputs": [],
   "source": [
    "df=df.drop('Unnamed: 0',axis=1)"
   ]
  },
  {
   "cell_type": "code",
   "execution_count": 44,
   "id": "d6168934",
   "metadata": {
    "execution": {
     "iopub.execute_input": "2023-02-03T23:19:34.269066Z",
     "iopub.status.busy": "2023-02-03T23:19:34.268616Z",
     "iopub.status.idle": "2023-02-03T23:19:34.307783Z",
     "shell.execute_reply": "2023-02-03T23:19:34.306621Z"
    },
    "papermill": {
     "duration": 0.082907,
     "end_time": "2023-02-03T23:19:34.310379",
     "exception": false,
     "start_time": "2023-02-03T23:19:34.227472",
     "status": "completed"
    },
    "tags": []
   },
   "outputs": [
    {
     "data": {
      "text/html": [
       "<div>\n",
       "<style scoped>\n",
       "    .dataframe tbody tr th:only-of-type {\n",
       "        vertical-align: middle;\n",
       "    }\n",
       "\n",
       "    .dataframe tbody tr th {\n",
       "        vertical-align: top;\n",
       "    }\n",
       "\n",
       "    .dataframe thead th {\n",
       "        text-align: right;\n",
       "    }\n",
       "</style>\n",
       "<table border=\"1\" class=\"dataframe\">\n",
       "  <thead>\n",
       "    <tr style=\"text-align: right;\">\n",
       "      <th></th>\n",
       "      <th>age</th>\n",
       "      <th>default</th>\n",
       "      <th>balance</th>\n",
       "      <th>housing</th>\n",
       "      <th>loan</th>\n",
       "      <th>duration</th>\n",
       "      <th>campaign</th>\n",
       "      <th>pdays</th>\n",
       "      <th>previous</th>\n",
       "      <th>unemployed</th>\n",
       "      <th>...</th>\n",
       "      <th>technician</th>\n",
       "      <th>entrepreneur</th>\n",
       "      <th>admin.</th>\n",
       "      <th>student</th>\n",
       "      <th>housemaid</th>\n",
       "      <th>retired</th>\n",
       "      <th>secondary</th>\n",
       "      <th>tertiary</th>\n",
       "      <th>married</th>\n",
       "      <th>single</th>\n",
       "    </tr>\n",
       "  </thead>\n",
       "  <tbody>\n",
       "    <tr>\n",
       "      <th>0</th>\n",
       "      <td>30.0</td>\n",
       "      <td>0</td>\n",
       "      <td>1787.0</td>\n",
       "      <td>0</td>\n",
       "      <td>0</td>\n",
       "      <td>79.0</td>\n",
       "      <td>1.0</td>\n",
       "      <td>-1.0</td>\n",
       "      <td>0.0</td>\n",
       "      <td>0.0</td>\n",
       "      <td>...</td>\n",
       "      <td>0.0</td>\n",
       "      <td>0.0</td>\n",
       "      <td>0.0</td>\n",
       "      <td>0.0</td>\n",
       "      <td>0.0</td>\n",
       "      <td>1.0</td>\n",
       "      <td>0</td>\n",
       "      <td>0</td>\n",
       "      <td>1</td>\n",
       "      <td>0</td>\n",
       "    </tr>\n",
       "    <tr>\n",
       "      <th>1</th>\n",
       "      <td>33.0</td>\n",
       "      <td>0</td>\n",
       "      <td>4789.0</td>\n",
       "      <td>1</td>\n",
       "      <td>1</td>\n",
       "      <td>220.0</td>\n",
       "      <td>1.0</td>\n",
       "      <td>339.0</td>\n",
       "      <td>4.0</td>\n",
       "      <td>0.0</td>\n",
       "      <td>...</td>\n",
       "      <td>0.0</td>\n",
       "      <td>0.0</td>\n",
       "      <td>1.0</td>\n",
       "      <td>0.0</td>\n",
       "      <td>0.0</td>\n",
       "      <td>0.0</td>\n",
       "      <td>1</td>\n",
       "      <td>0</td>\n",
       "      <td>1</td>\n",
       "      <td>0</td>\n",
       "    </tr>\n",
       "    <tr>\n",
       "      <th>2</th>\n",
       "      <td>35.0</td>\n",
       "      <td>0</td>\n",
       "      <td>1350.0</td>\n",
       "      <td>1</td>\n",
       "      <td>0</td>\n",
       "      <td>185.0</td>\n",
       "      <td>1.0</td>\n",
       "      <td>330.0</td>\n",
       "      <td>1.0</td>\n",
       "      <td>0.0</td>\n",
       "      <td>...</td>\n",
       "      <td>0.0</td>\n",
       "      <td>0.0</td>\n",
       "      <td>0.0</td>\n",
       "      <td>0.0</td>\n",
       "      <td>0.0</td>\n",
       "      <td>0.0</td>\n",
       "      <td>0</td>\n",
       "      <td>1</td>\n",
       "      <td>0</td>\n",
       "      <td>1</td>\n",
       "    </tr>\n",
       "    <tr>\n",
       "      <th>3</th>\n",
       "      <td>30.0</td>\n",
       "      <td>0</td>\n",
       "      <td>1476.0</td>\n",
       "      <td>1</td>\n",
       "      <td>1</td>\n",
       "      <td>199.0</td>\n",
       "      <td>4.0</td>\n",
       "      <td>-1.0</td>\n",
       "      <td>0.0</td>\n",
       "      <td>0.0</td>\n",
       "      <td>...</td>\n",
       "      <td>0.0</td>\n",
       "      <td>0.0</td>\n",
       "      <td>0.0</td>\n",
       "      <td>0.0</td>\n",
       "      <td>0.0</td>\n",
       "      <td>0.0</td>\n",
       "      <td>0</td>\n",
       "      <td>1</td>\n",
       "      <td>1</td>\n",
       "      <td>0</td>\n",
       "    </tr>\n",
       "    <tr>\n",
       "      <th>4</th>\n",
       "      <td>59.0</td>\n",
       "      <td>0</td>\n",
       "      <td>0.0</td>\n",
       "      <td>1</td>\n",
       "      <td>0</td>\n",
       "      <td>226.0</td>\n",
       "      <td>1.0</td>\n",
       "      <td>-1.0</td>\n",
       "      <td>0.0</td>\n",
       "      <td>0.0</td>\n",
       "      <td>...</td>\n",
       "      <td>0.0</td>\n",
       "      <td>0.0</td>\n",
       "      <td>0.0</td>\n",
       "      <td>0.0</td>\n",
       "      <td>0.0</td>\n",
       "      <td>0.0</td>\n",
       "      <td>1</td>\n",
       "      <td>0</td>\n",
       "      <td>1</td>\n",
       "      <td>0</td>\n",
       "    </tr>\n",
       "    <tr>\n",
       "      <th>...</th>\n",
       "      <td>...</td>\n",
       "      <td>...</td>\n",
       "      <td>...</td>\n",
       "      <td>...</td>\n",
       "      <td>...</td>\n",
       "      <td>...</td>\n",
       "      <td>...</td>\n",
       "      <td>...</td>\n",
       "      <td>...</td>\n",
       "      <td>...</td>\n",
       "      <td>...</td>\n",
       "      <td>...</td>\n",
       "      <td>...</td>\n",
       "      <td>...</td>\n",
       "      <td>...</td>\n",
       "      <td>...</td>\n",
       "      <td>...</td>\n",
       "      <td>...</td>\n",
       "      <td>...</td>\n",
       "      <td>...</td>\n",
       "      <td>...</td>\n",
       "    </tr>\n",
       "    <tr>\n",
       "      <th>4516</th>\n",
       "      <td>33.0</td>\n",
       "      <td>0</td>\n",
       "      <td>-333.0</td>\n",
       "      <td>1</td>\n",
       "      <td>0</td>\n",
       "      <td>329.0</td>\n",
       "      <td>5.0</td>\n",
       "      <td>-1.0</td>\n",
       "      <td>0.0</td>\n",
       "      <td>0.0</td>\n",
       "      <td>...</td>\n",
       "      <td>0.0</td>\n",
       "      <td>0.0</td>\n",
       "      <td>1.0</td>\n",
       "      <td>0.0</td>\n",
       "      <td>0.0</td>\n",
       "      <td>0.0</td>\n",
       "      <td>1</td>\n",
       "      <td>0</td>\n",
       "      <td>1</td>\n",
       "      <td>0</td>\n",
       "    </tr>\n",
       "    <tr>\n",
       "      <th>4517</th>\n",
       "      <td>57.0</td>\n",
       "      <td>1</td>\n",
       "      <td>-3313.0</td>\n",
       "      <td>1</td>\n",
       "      <td>1</td>\n",
       "      <td>153.0</td>\n",
       "      <td>1.0</td>\n",
       "      <td>-1.0</td>\n",
       "      <td>0.0</td>\n",
       "      <td>0.0</td>\n",
       "      <td>...</td>\n",
       "      <td>0.0</td>\n",
       "      <td>1.0</td>\n",
       "      <td>0.0</td>\n",
       "      <td>0.0</td>\n",
       "      <td>0.0</td>\n",
       "      <td>0.0</td>\n",
       "      <td>0</td>\n",
       "      <td>1</td>\n",
       "      <td>1</td>\n",
       "      <td>0</td>\n",
       "    </tr>\n",
       "    <tr>\n",
       "      <th>4518</th>\n",
       "      <td>57.0</td>\n",
       "      <td>0</td>\n",
       "      <td>295.0</td>\n",
       "      <td>0</td>\n",
       "      <td>0</td>\n",
       "      <td>151.0</td>\n",
       "      <td>11.0</td>\n",
       "      <td>-1.0</td>\n",
       "      <td>0.0</td>\n",
       "      <td>0.0</td>\n",
       "      <td>...</td>\n",
       "      <td>0.0</td>\n",
       "      <td>0.0</td>\n",
       "      <td>0.0</td>\n",
       "      <td>0.0</td>\n",
       "      <td>1.0</td>\n",
       "      <td>0.0</td>\n",
       "      <td>1</td>\n",
       "      <td>0</td>\n",
       "      <td>1</td>\n",
       "      <td>0</td>\n",
       "    </tr>\n",
       "    <tr>\n",
       "      <th>4519</th>\n",
       "      <td>28.0</td>\n",
       "      <td>0</td>\n",
       "      <td>1137.0</td>\n",
       "      <td>0</td>\n",
       "      <td>0</td>\n",
       "      <td>129.0</td>\n",
       "      <td>4.0</td>\n",
       "      <td>211.0</td>\n",
       "      <td>3.0</td>\n",
       "      <td>0.0</td>\n",
       "      <td>...</td>\n",
       "      <td>0.0</td>\n",
       "      <td>0.0</td>\n",
       "      <td>0.0</td>\n",
       "      <td>0.0</td>\n",
       "      <td>0.0</td>\n",
       "      <td>0.0</td>\n",
       "      <td>1</td>\n",
       "      <td>0</td>\n",
       "      <td>1</td>\n",
       "      <td>0</td>\n",
       "    </tr>\n",
       "    <tr>\n",
       "      <th>4520</th>\n",
       "      <td>44.0</td>\n",
       "      <td>0</td>\n",
       "      <td>1136.0</td>\n",
       "      <td>1</td>\n",
       "      <td>1</td>\n",
       "      <td>345.0</td>\n",
       "      <td>2.0</td>\n",
       "      <td>249.0</td>\n",
       "      <td>7.0</td>\n",
       "      <td>0.0</td>\n",
       "      <td>...</td>\n",
       "      <td>0.0</td>\n",
       "      <td>0.0</td>\n",
       "      <td>0.0</td>\n",
       "      <td>0.0</td>\n",
       "      <td>0.0</td>\n",
       "      <td>0.0</td>\n",
       "      <td>0</td>\n",
       "      <td>1</td>\n",
       "      <td>0</td>\n",
       "      <td>1</td>\n",
       "    </tr>\n",
       "  </tbody>\n",
       "</table>\n",
       "<p>4521 rows × 24 columns</p>\n",
       "</div>"
      ],
      "text/plain": [
       "       age  default  balance  housing  loan  duration  campaign  pdays  \\\n",
       "0     30.0        0   1787.0        0     0      79.0       1.0   -1.0   \n",
       "1     33.0        0   4789.0        1     1     220.0       1.0  339.0   \n",
       "2     35.0        0   1350.0        1     0     185.0       1.0  330.0   \n",
       "3     30.0        0   1476.0        1     1     199.0       4.0   -1.0   \n",
       "4     59.0        0      0.0        1     0     226.0       1.0   -1.0   \n",
       "...    ...      ...      ...      ...   ...       ...       ...    ...   \n",
       "4516  33.0        0   -333.0        1     0     329.0       5.0   -1.0   \n",
       "4517  57.0        1  -3313.0        1     1     153.0       1.0   -1.0   \n",
       "4518  57.0        0    295.0        0     0     151.0      11.0   -1.0   \n",
       "4519  28.0        0   1137.0        0     0     129.0       4.0  211.0   \n",
       "4520  44.0        0   1136.0        1     1     345.0       2.0  249.0   \n",
       "\n",
       "      previous  unemployed  ...  technician  entrepreneur  admin.  student  \\\n",
       "0          0.0         0.0  ...         0.0           0.0     0.0      0.0   \n",
       "1          4.0         0.0  ...         0.0           0.0     1.0      0.0   \n",
       "2          1.0         0.0  ...         0.0           0.0     0.0      0.0   \n",
       "3          0.0         0.0  ...         0.0           0.0     0.0      0.0   \n",
       "4          0.0         0.0  ...         0.0           0.0     0.0      0.0   \n",
       "...        ...         ...  ...         ...           ...     ...      ...   \n",
       "4516       0.0         0.0  ...         0.0           0.0     1.0      0.0   \n",
       "4517       0.0         0.0  ...         0.0           1.0     0.0      0.0   \n",
       "4518       0.0         0.0  ...         0.0           0.0     0.0      0.0   \n",
       "4519       3.0         0.0  ...         0.0           0.0     0.0      0.0   \n",
       "4520       7.0         0.0  ...         0.0           0.0     0.0      0.0   \n",
       "\n",
       "      housemaid  retired  secondary  tertiary  married  single  \n",
       "0           0.0      1.0          0         0        1       0  \n",
       "1           0.0      0.0          1         0        1       0  \n",
       "2           0.0      0.0          0         1        0       1  \n",
       "3           0.0      0.0          0         1        1       0  \n",
       "4           0.0      0.0          1         0        1       0  \n",
       "...         ...      ...        ...       ...      ...     ...  \n",
       "4516        0.0      0.0          1         0        1       0  \n",
       "4517        0.0      0.0          0         1        1       0  \n",
       "4518        1.0      0.0          1         0        1       0  \n",
       "4519        0.0      0.0          1         0        1       0  \n",
       "4520        0.0      0.0          0         1        0       1  \n",
       "\n",
       "[4521 rows x 24 columns]"
      ]
     },
     "execution_count": 44,
     "metadata": {},
     "output_type": "execute_result"
    }
   ],
   "source": [
    "x=df.drop('y',axis=1)\n",
    "x"
   ]
  },
  {
   "cell_type": "code",
   "execution_count": 45,
   "id": "429ca1d9",
   "metadata": {
    "execution": {
     "iopub.execute_input": "2023-02-03T23:19:34.393709Z",
     "iopub.status.busy": "2023-02-03T23:19:34.393291Z",
     "iopub.status.idle": "2023-02-03T23:19:34.402338Z",
     "shell.execute_reply": "2023-02-03T23:19:34.401353Z"
    },
    "papermill": {
     "duration": 0.052942,
     "end_time": "2023-02-03T23:19:34.404385",
     "exception": false,
     "start_time": "2023-02-03T23:19:34.351443",
     "status": "completed"
    },
    "tags": []
   },
   "outputs": [
    {
     "data": {
      "text/plain": [
       "0       0\n",
       "1       0\n",
       "2       0\n",
       "3       0\n",
       "4       0\n",
       "       ..\n",
       "4516    0\n",
       "4517    0\n",
       "4518    0\n",
       "4519    0\n",
       "4520    0\n",
       "Name: y, Length: 4521, dtype: int64"
      ]
     },
     "execution_count": 45,
     "metadata": {},
     "output_type": "execute_result"
    }
   ],
   "source": [
    "y=df['y']\n",
    "y"
   ]
  },
  {
   "cell_type": "markdown",
   "id": "3ca14c51",
   "metadata": {
    "papermill": {
     "duration": 0.040869,
     "end_time": "2023-02-03T23:19:34.485874",
     "exception": false,
     "start_time": "2023-02-03T23:19:34.445005",
     "status": "completed"
    },
    "tags": []
   },
   "source": [
    "# # # **Decision Tree Classifier**"
   ]
  },
  {
   "cell_type": "code",
   "execution_count": 46,
   "id": "c94150a8",
   "metadata": {
    "execution": {
     "iopub.execute_input": "2023-02-03T23:19:34.569942Z",
     "iopub.status.busy": "2023-02-03T23:19:34.569481Z",
     "iopub.status.idle": "2023-02-03T23:19:34.577695Z",
     "shell.execute_reply": "2023-02-03T23:19:34.576641Z"
    },
    "papermill": {
     "duration": 0.052687,
     "end_time": "2023-02-03T23:19:34.580046",
     "exception": false,
     "start_time": "2023-02-03T23:19:34.527359",
     "status": "completed"
    },
    "tags": []
   },
   "outputs": [],
   "source": [
    "x_train,x_test,y_train,y_test=train_test_split(x,y,test_size=0.2)"
   ]
  },
  {
   "cell_type": "code",
   "execution_count": 47,
   "id": "f41304e8",
   "metadata": {
    "execution": {
     "iopub.execute_input": "2023-02-03T23:19:34.663902Z",
     "iopub.status.busy": "2023-02-03T23:19:34.663426Z",
     "iopub.status.idle": "2023-02-03T23:19:34.686556Z",
     "shell.execute_reply": "2023-02-03T23:19:34.685635Z"
    },
    "papermill": {
     "duration": 0.067945,
     "end_time": "2023-02-03T23:19:34.688821",
     "exception": false,
     "start_time": "2023-02-03T23:19:34.620876",
     "status": "completed"
    },
    "tags": []
   },
   "outputs": [
    {
     "data": {
      "text/html": [
       "<style>#sk-container-id-1 {color: black;background-color: white;}#sk-container-id-1 pre{padding: 0;}#sk-container-id-1 div.sk-toggleable {background-color: white;}#sk-container-id-1 label.sk-toggleable__label {cursor: pointer;display: block;width: 100%;margin-bottom: 0;padding: 0.3em;box-sizing: border-box;text-align: center;}#sk-container-id-1 label.sk-toggleable__label-arrow:before {content: \"▸\";float: left;margin-right: 0.25em;color: #696969;}#sk-container-id-1 label.sk-toggleable__label-arrow:hover:before {color: black;}#sk-container-id-1 div.sk-estimator:hover label.sk-toggleable__label-arrow:before {color: black;}#sk-container-id-1 div.sk-toggleable__content {max-height: 0;max-width: 0;overflow: hidden;text-align: left;background-color: #f0f8ff;}#sk-container-id-1 div.sk-toggleable__content pre {margin: 0.2em;color: black;border-radius: 0.25em;background-color: #f0f8ff;}#sk-container-id-1 input.sk-toggleable__control:checked~div.sk-toggleable__content {max-height: 200px;max-width: 100%;overflow: auto;}#sk-container-id-1 input.sk-toggleable__control:checked~label.sk-toggleable__label-arrow:before {content: \"▾\";}#sk-container-id-1 div.sk-estimator input.sk-toggleable__control:checked~label.sk-toggleable__label {background-color: #d4ebff;}#sk-container-id-1 div.sk-label input.sk-toggleable__control:checked~label.sk-toggleable__label {background-color: #d4ebff;}#sk-container-id-1 input.sk-hidden--visually {border: 0;clip: rect(1px 1px 1px 1px);clip: rect(1px, 1px, 1px, 1px);height: 1px;margin: -1px;overflow: hidden;padding: 0;position: absolute;width: 1px;}#sk-container-id-1 div.sk-estimator {font-family: monospace;background-color: #f0f8ff;border: 1px dotted black;border-radius: 0.25em;box-sizing: border-box;margin-bottom: 0.5em;}#sk-container-id-1 div.sk-estimator:hover {background-color: #d4ebff;}#sk-container-id-1 div.sk-parallel-item::after {content: \"\";width: 100%;border-bottom: 1px solid gray;flex-grow: 1;}#sk-container-id-1 div.sk-label:hover label.sk-toggleable__label {background-color: #d4ebff;}#sk-container-id-1 div.sk-serial::before {content: \"\";position: absolute;border-left: 1px solid gray;box-sizing: border-box;top: 0;bottom: 0;left: 50%;z-index: 0;}#sk-container-id-1 div.sk-serial {display: flex;flex-direction: column;align-items: center;background-color: white;padding-right: 0.2em;padding-left: 0.2em;position: relative;}#sk-container-id-1 div.sk-item {position: relative;z-index: 1;}#sk-container-id-1 div.sk-parallel {display: flex;align-items: stretch;justify-content: center;background-color: white;position: relative;}#sk-container-id-1 div.sk-item::before, #sk-container-id-1 div.sk-parallel-item::before {content: \"\";position: absolute;border-left: 1px solid gray;box-sizing: border-box;top: 0;bottom: 0;left: 50%;z-index: -1;}#sk-container-id-1 div.sk-parallel-item {display: flex;flex-direction: column;z-index: 1;position: relative;background-color: white;}#sk-container-id-1 div.sk-parallel-item:first-child::after {align-self: flex-end;width: 50%;}#sk-container-id-1 div.sk-parallel-item:last-child::after {align-self: flex-start;width: 50%;}#sk-container-id-1 div.sk-parallel-item:only-child::after {width: 0;}#sk-container-id-1 div.sk-dashed-wrapped {border: 1px dashed gray;margin: 0 0.4em 0.5em 0.4em;box-sizing: border-box;padding-bottom: 0.4em;background-color: white;}#sk-container-id-1 div.sk-label label {font-family: monospace;font-weight: bold;display: inline-block;line-height: 1.2em;}#sk-container-id-1 div.sk-label-container {text-align: center;}#sk-container-id-1 div.sk-container {/* jupyter's `normalize.less` sets `[hidden] { display: none; }` but bootstrap.min.css set `[hidden] { display: none !important; }` so we also need the `!important` here to be able to override the default hidden behavior on the sphinx rendered scikit-learn.org. See: https://github.com/scikit-learn/scikit-learn/issues/21755 */display: inline-block !important;position: relative;}#sk-container-id-1 div.sk-text-repr-fallback {display: none;}</style><div id=\"sk-container-id-1\" class=\"sk-top-container\"><div class=\"sk-text-repr-fallback\"><pre>DecisionTreeClassifier(max_depth=6, min_samples_leaf=8, random_state=100)</pre><b>In a Jupyter environment, please rerun this cell to show the HTML representation or trust the notebook. <br />On GitHub, the HTML representation is unable to render, please try loading this page with nbviewer.org.</b></div><div class=\"sk-container\" hidden><div class=\"sk-item\"><div class=\"sk-estimator sk-toggleable\"><input class=\"sk-toggleable__control sk-hidden--visually\" id=\"sk-estimator-id-1\" type=\"checkbox\" checked><label for=\"sk-estimator-id-1\" class=\"sk-toggleable__label sk-toggleable__label-arrow\">DecisionTreeClassifier</label><div class=\"sk-toggleable__content\"><pre>DecisionTreeClassifier(max_depth=6, min_samples_leaf=8, random_state=100)</pre></div></div></div></div></div>"
      ],
      "text/plain": [
       "DecisionTreeClassifier(max_depth=6, min_samples_leaf=8, random_state=100)"
      ]
     },
     "execution_count": 47,
     "metadata": {},
     "output_type": "execute_result"
    }
   ],
   "source": [
    "model_dt=DecisionTreeClassifier(criterion = \"gini\",random_state = 100,max_depth=6, min_samples_leaf=8)\n",
    "model_dt.fit(x_train,y_train)"
   ]
  },
  {
   "cell_type": "code",
   "execution_count": 48,
   "id": "baa3cec7",
   "metadata": {
    "execution": {
     "iopub.execute_input": "2023-02-03T23:19:34.771786Z",
     "iopub.status.busy": "2023-02-03T23:19:34.771330Z",
     "iopub.status.idle": "2023-02-03T23:19:34.781870Z",
     "shell.execute_reply": "2023-02-03T23:19:34.780991Z"
    },
    "papermill": {
     "duration": 0.054558,
     "end_time": "2023-02-03T23:19:34.783980",
     "exception": false,
     "start_time": "2023-02-03T23:19:34.729422",
     "status": "completed"
    },
    "tags": []
   },
   "outputs": [],
   "source": [
    "y_pred=model_dt.predict(x_test)"
   ]
  },
  {
   "cell_type": "code",
   "execution_count": 49,
   "id": "93762585",
   "metadata": {
    "execution": {
     "iopub.execute_input": "2023-02-03T23:19:34.868737Z",
     "iopub.status.busy": "2023-02-03T23:19:34.868050Z",
     "iopub.status.idle": "2023-02-03T23:19:34.877073Z",
     "shell.execute_reply": "2023-02-03T23:19:34.876054Z"
    },
    "papermill": {
     "duration": 0.053589,
     "end_time": "2023-02-03T23:19:34.879227",
     "exception": false,
     "start_time": "2023-02-03T23:19:34.825638",
     "status": "completed"
    },
    "tags": []
   },
   "outputs": [
    {
     "data": {
      "text/plain": [
       "0.8961325966850828"
      ]
     },
     "execution_count": 49,
     "metadata": {},
     "output_type": "execute_result"
    }
   ],
   "source": [
    "model_dt.score(x_test,y_test)"
   ]
  },
  {
   "cell_type": "code",
   "execution_count": 50,
   "id": "9bb3fb7f",
   "metadata": {
    "execution": {
     "iopub.execute_input": "2023-02-03T23:19:34.962837Z",
     "iopub.status.busy": "2023-02-03T23:19:34.962387Z",
     "iopub.status.idle": "2023-02-03T23:19:34.974574Z",
     "shell.execute_reply": "2023-02-03T23:19:34.972633Z"
    },
    "papermill": {
     "duration": 0.057121,
     "end_time": "2023-02-03T23:19:34.977103",
     "exception": false,
     "start_time": "2023-02-03T23:19:34.919982",
     "status": "completed"
    },
    "tags": []
   },
   "outputs": [
    {
     "name": "stdout",
     "output_type": "stream",
     "text": [
      "              precision    recall  f1-score   support\n",
      "\n",
      "           0       0.92      0.97      0.94       804\n",
      "           1       0.56      0.35      0.43       101\n",
      "\n",
      "    accuracy                           0.90       905\n",
      "   macro avg       0.74      0.66      0.68       905\n",
      "weighted avg       0.88      0.90      0.89       905\n",
      "\n"
     ]
    }
   ],
   "source": [
    "print(classification_report(y_test, y_pred, labels=[0,1]))"
   ]
  },
  {
   "cell_type": "code",
   "execution_count": 51,
   "id": "f22aea06",
   "metadata": {
    "execution": {
     "iopub.execute_input": "2023-02-03T23:19:35.061764Z",
     "iopub.status.busy": "2023-02-03T23:19:35.061316Z",
     "iopub.status.idle": "2023-02-03T23:19:35.070658Z",
     "shell.execute_reply": "2023-02-03T23:19:35.069374Z"
    },
    "papermill": {
     "duration": 0.054072,
     "end_time": "2023-02-03T23:19:35.072934",
     "exception": false,
     "start_time": "2023-02-03T23:19:35.018862",
     "status": "completed"
    },
    "tags": []
   },
   "outputs": [
    {
     "name": "stdout",
     "output_type": "stream",
     "text": [
      "[[776  28]\n",
      " [ 66  35]]\n"
     ]
    }
   ],
   "source": [
    "print(metrics.confusion_matrix(y_test, y_pred))"
   ]
  },
  {
   "cell_type": "markdown",
   "id": "80ac2c0d",
   "metadata": {
    "papermill": {
     "duration": 0.040896,
     "end_time": "2023-02-03T23:19:35.238561",
     "exception": false,
     "start_time": "2023-02-03T23:19:35.197665",
     "status": "completed"
    },
    "tags": []
   },
   "source": [
    "As the data set were highly unbalanced, we will use upsampling in order to increase accuracy using SMOTEENN"
   ]
  },
  {
   "cell_type": "code",
   "execution_count": 52,
   "id": "a2898c92",
   "metadata": {
    "execution": {
     "iopub.execute_input": "2023-02-03T23:19:35.324230Z",
     "iopub.status.busy": "2023-02-03T23:19:35.323481Z",
     "iopub.status.idle": "2023-02-03T23:19:36.828881Z",
     "shell.execute_reply": "2023-02-03T23:19:36.827573Z"
    },
    "papermill": {
     "duration": 1.551719,
     "end_time": "2023-02-03T23:19:36.832104",
     "exception": false,
     "start_time": "2023-02-03T23:19:35.280385",
     "status": "completed"
    },
    "tags": []
   },
   "outputs": [],
   "source": [
    "sm = SMOTEENN()\n",
    "X_resampled, y_resampled = sm.fit_resample(x,y)"
   ]
  },
  {
   "cell_type": "code",
   "execution_count": 53,
   "id": "3bf0e2ad",
   "metadata": {
    "execution": {
     "iopub.execute_input": "2023-02-03T23:19:36.917538Z",
     "iopub.status.busy": "2023-02-03T23:19:36.916882Z",
     "iopub.status.idle": "2023-02-03T23:19:36.925410Z",
     "shell.execute_reply": "2023-02-03T23:19:36.924550Z"
    },
    "papermill": {
     "duration": 0.054113,
     "end_time": "2023-02-03T23:19:36.927824",
     "exception": false,
     "start_time": "2023-02-03T23:19:36.873711",
     "status": "completed"
    },
    "tags": []
   },
   "outputs": [],
   "source": [
    "xr_train,xr_test,yr_train,yr_test=train_test_split(X_resampled, y_resampled,test_size=0.20)"
   ]
  },
  {
   "cell_type": "code",
   "execution_count": 54,
   "id": "4a0a85dc",
   "metadata": {
    "execution": {
     "iopub.execute_input": "2023-02-03T23:19:37.013092Z",
     "iopub.status.busy": "2023-02-03T23:19:37.011812Z",
     "iopub.status.idle": "2023-02-03T23:19:37.017285Z",
     "shell.execute_reply": "2023-02-03T23:19:37.016320Z"
    },
    "papermill": {
     "duration": 0.05034,
     "end_time": "2023-02-03T23:19:37.019415",
     "exception": false,
     "start_time": "2023-02-03T23:19:36.969075",
     "status": "completed"
    },
    "tags": []
   },
   "outputs": [],
   "source": [
    "model_dt_smote=DecisionTreeClassifier(criterion = \"gini\",random_state = 100,max_depth=6, min_samples_leaf=8)"
   ]
  },
  {
   "cell_type": "code",
   "execution_count": 55,
   "id": "e2548054",
   "metadata": {
    "execution": {
     "iopub.execute_input": "2023-02-03T23:19:37.104052Z",
     "iopub.status.busy": "2023-02-03T23:19:37.102838Z",
     "iopub.status.idle": "2023-02-03T23:19:37.142291Z",
     "shell.execute_reply": "2023-02-03T23:19:37.140811Z"
    },
    "papermill": {
     "duration": 0.084743,
     "end_time": "2023-02-03T23:19:37.145062",
     "exception": false,
     "start_time": "2023-02-03T23:19:37.060319",
     "status": "completed"
    },
    "tags": []
   },
   "outputs": [
    {
     "name": "stdout",
     "output_type": "stream",
     "text": [
      "0.9059613769941226\n",
      "              precision    recall  f1-score   support\n",
      "\n",
      "           0       0.91      0.89      0.90       552\n",
      "           1       0.90      0.92      0.91       639\n",
      "\n",
      "    accuracy                           0.91      1191\n",
      "   macro avg       0.91      0.90      0.91      1191\n",
      "weighted avg       0.91      0.91      0.91      1191\n",
      "\n"
     ]
    }
   ],
   "source": [
    "model_dt_smote.fit(xr_train,yr_train)\n",
    "yr_predict = model_dt_smote.predict(xr_test)\n",
    "model_score_r = model_dt_smote.score(xr_test, yr_test)\n",
    "print(model_score_r)\n",
    "print(metrics.classification_report(yr_test, yr_predict))"
   ]
  },
  {
   "cell_type": "code",
   "execution_count": 56,
   "id": "2cf04beb",
   "metadata": {
    "execution": {
     "iopub.execute_input": "2023-02-03T23:19:37.231017Z",
     "iopub.status.busy": "2023-02-03T23:19:37.230359Z",
     "iopub.status.idle": "2023-02-03T23:19:37.239340Z",
     "shell.execute_reply": "2023-02-03T23:19:37.237931Z"
    },
    "papermill": {
     "duration": 0.055433,
     "end_time": "2023-02-03T23:19:37.241714",
     "exception": false,
     "start_time": "2023-02-03T23:19:37.186281",
     "status": "completed"
    },
    "tags": []
   },
   "outputs": [
    {
     "name": "stdout",
     "output_type": "stream",
     "text": [
      "[[490  62]\n",
      " [ 50 589]]\n"
     ]
    }
   ],
   "source": [
    "print(metrics.confusion_matrix(yr_test, yr_predict))"
   ]
  },
  {
   "cell_type": "markdown",
   "id": "c551107d",
   "metadata": {
    "papermill": {
     "duration": 0.041096,
     "end_time": "2023-02-03T23:19:37.324276",
     "exception": false,
     "start_time": "2023-02-03T23:19:37.283180",
     "status": "completed"
    },
    "tags": []
   },
   "source": [
    "This method gave 92.13% accuracy."
   ]
  },
  {
   "cell_type": "markdown",
   "id": "be6f3582",
   "metadata": {
    "papermill": {
     "duration": 0.041393,
     "end_time": "2023-02-03T23:19:37.407846",
     "exception": false,
     "start_time": "2023-02-03T23:19:37.366453",
     "status": "completed"
    },
    "tags": []
   },
   "source": [
    "# **Random Forest Classifier**"
   ]
  },
  {
   "cell_type": "code",
   "execution_count": 57,
   "id": "c453e720",
   "metadata": {
    "execution": {
     "iopub.execute_input": "2023-02-03T23:19:37.494360Z",
     "iopub.status.busy": "2023-02-03T23:19:37.493601Z",
     "iopub.status.idle": "2023-02-03T23:19:37.499645Z",
     "shell.execute_reply": "2023-02-03T23:19:37.498331Z"
    },
    "papermill": {
     "duration": 0.051997,
     "end_time": "2023-02-03T23:19:37.502226",
     "exception": false,
     "start_time": "2023-02-03T23:19:37.450229",
     "status": "completed"
    },
    "tags": []
   },
   "outputs": [],
   "source": [
    "model_rf=RandomForestClassifier(n_estimators=100, criterion='gini', random_state = 100,max_depth=6, min_samples_leaf=8)"
   ]
  },
  {
   "cell_type": "code",
   "execution_count": 58,
   "id": "7c64ad8e",
   "metadata": {
    "execution": {
     "iopub.execute_input": "2023-02-03T23:19:37.587774Z",
     "iopub.status.busy": "2023-02-03T23:19:37.586639Z",
     "iopub.status.idle": "2023-02-03T23:19:37.897284Z",
     "shell.execute_reply": "2023-02-03T23:19:37.896091Z"
    },
    "papermill": {
     "duration": 0.356226,
     "end_time": "2023-02-03T23:19:37.899910",
     "exception": false,
     "start_time": "2023-02-03T23:19:37.543684",
     "status": "completed"
    },
    "tags": []
   },
   "outputs": [
    {
     "data": {
      "text/html": [
       "<style>#sk-container-id-2 {color: black;background-color: white;}#sk-container-id-2 pre{padding: 0;}#sk-container-id-2 div.sk-toggleable {background-color: white;}#sk-container-id-2 label.sk-toggleable__label {cursor: pointer;display: block;width: 100%;margin-bottom: 0;padding: 0.3em;box-sizing: border-box;text-align: center;}#sk-container-id-2 label.sk-toggleable__label-arrow:before {content: \"▸\";float: left;margin-right: 0.25em;color: #696969;}#sk-container-id-2 label.sk-toggleable__label-arrow:hover:before {color: black;}#sk-container-id-2 div.sk-estimator:hover label.sk-toggleable__label-arrow:before {color: black;}#sk-container-id-2 div.sk-toggleable__content {max-height: 0;max-width: 0;overflow: hidden;text-align: left;background-color: #f0f8ff;}#sk-container-id-2 div.sk-toggleable__content pre {margin: 0.2em;color: black;border-radius: 0.25em;background-color: #f0f8ff;}#sk-container-id-2 input.sk-toggleable__control:checked~div.sk-toggleable__content {max-height: 200px;max-width: 100%;overflow: auto;}#sk-container-id-2 input.sk-toggleable__control:checked~label.sk-toggleable__label-arrow:before {content: \"▾\";}#sk-container-id-2 div.sk-estimator input.sk-toggleable__control:checked~label.sk-toggleable__label {background-color: #d4ebff;}#sk-container-id-2 div.sk-label input.sk-toggleable__control:checked~label.sk-toggleable__label {background-color: #d4ebff;}#sk-container-id-2 input.sk-hidden--visually {border: 0;clip: rect(1px 1px 1px 1px);clip: rect(1px, 1px, 1px, 1px);height: 1px;margin: -1px;overflow: hidden;padding: 0;position: absolute;width: 1px;}#sk-container-id-2 div.sk-estimator {font-family: monospace;background-color: #f0f8ff;border: 1px dotted black;border-radius: 0.25em;box-sizing: border-box;margin-bottom: 0.5em;}#sk-container-id-2 div.sk-estimator:hover {background-color: #d4ebff;}#sk-container-id-2 div.sk-parallel-item::after {content: \"\";width: 100%;border-bottom: 1px solid gray;flex-grow: 1;}#sk-container-id-2 div.sk-label:hover label.sk-toggleable__label {background-color: #d4ebff;}#sk-container-id-2 div.sk-serial::before {content: \"\";position: absolute;border-left: 1px solid gray;box-sizing: border-box;top: 0;bottom: 0;left: 50%;z-index: 0;}#sk-container-id-2 div.sk-serial {display: flex;flex-direction: column;align-items: center;background-color: white;padding-right: 0.2em;padding-left: 0.2em;position: relative;}#sk-container-id-2 div.sk-item {position: relative;z-index: 1;}#sk-container-id-2 div.sk-parallel {display: flex;align-items: stretch;justify-content: center;background-color: white;position: relative;}#sk-container-id-2 div.sk-item::before, #sk-container-id-2 div.sk-parallel-item::before {content: \"\";position: absolute;border-left: 1px solid gray;box-sizing: border-box;top: 0;bottom: 0;left: 50%;z-index: -1;}#sk-container-id-2 div.sk-parallel-item {display: flex;flex-direction: column;z-index: 1;position: relative;background-color: white;}#sk-container-id-2 div.sk-parallel-item:first-child::after {align-self: flex-end;width: 50%;}#sk-container-id-2 div.sk-parallel-item:last-child::after {align-self: flex-start;width: 50%;}#sk-container-id-2 div.sk-parallel-item:only-child::after {width: 0;}#sk-container-id-2 div.sk-dashed-wrapped {border: 1px dashed gray;margin: 0 0.4em 0.5em 0.4em;box-sizing: border-box;padding-bottom: 0.4em;background-color: white;}#sk-container-id-2 div.sk-label label {font-family: monospace;font-weight: bold;display: inline-block;line-height: 1.2em;}#sk-container-id-2 div.sk-label-container {text-align: center;}#sk-container-id-2 div.sk-container {/* jupyter's `normalize.less` sets `[hidden] { display: none; }` but bootstrap.min.css set `[hidden] { display: none !important; }` so we also need the `!important` here to be able to override the default hidden behavior on the sphinx rendered scikit-learn.org. See: https://github.com/scikit-learn/scikit-learn/issues/21755 */display: inline-block !important;position: relative;}#sk-container-id-2 div.sk-text-repr-fallback {display: none;}</style><div id=\"sk-container-id-2\" class=\"sk-top-container\"><div class=\"sk-text-repr-fallback\"><pre>RandomForestClassifier(max_depth=6, min_samples_leaf=8, random_state=100)</pre><b>In a Jupyter environment, please rerun this cell to show the HTML representation or trust the notebook. <br />On GitHub, the HTML representation is unable to render, please try loading this page with nbviewer.org.</b></div><div class=\"sk-container\" hidden><div class=\"sk-item\"><div class=\"sk-estimator sk-toggleable\"><input class=\"sk-toggleable__control sk-hidden--visually\" id=\"sk-estimator-id-2\" type=\"checkbox\" checked><label for=\"sk-estimator-id-2\" class=\"sk-toggleable__label sk-toggleable__label-arrow\">RandomForestClassifier</label><div class=\"sk-toggleable__content\"><pre>RandomForestClassifier(max_depth=6, min_samples_leaf=8, random_state=100)</pre></div></div></div></div></div>"
      ],
      "text/plain": [
       "RandomForestClassifier(max_depth=6, min_samples_leaf=8, random_state=100)"
      ]
     },
     "execution_count": 58,
     "metadata": {},
     "output_type": "execute_result"
    }
   ],
   "source": [
    "model_rf.fit(x_train,y_train)"
   ]
  },
  {
   "cell_type": "code",
   "execution_count": 59,
   "id": "886165a2",
   "metadata": {
    "execution": {
     "iopub.execute_input": "2023-02-03T23:19:37.986340Z",
     "iopub.status.busy": "2023-02-03T23:19:37.985910Z",
     "iopub.status.idle": "2023-02-03T23:19:38.016217Z",
     "shell.execute_reply": "2023-02-03T23:19:38.014868Z"
    },
    "papermill": {
     "duration": 0.077146,
     "end_time": "2023-02-03T23:19:38.018927",
     "exception": false,
     "start_time": "2023-02-03T23:19:37.941781",
     "status": "completed"
    },
    "tags": []
   },
   "outputs": [],
   "source": [
    "y_pred=model_rf.predict(x_test)"
   ]
  },
  {
   "cell_type": "code",
   "execution_count": 60,
   "id": "e9c990fd",
   "metadata": {
    "execution": {
     "iopub.execute_input": "2023-02-03T23:19:38.103269Z",
     "iopub.status.busy": "2023-02-03T23:19:38.102868Z",
     "iopub.status.idle": "2023-02-03T23:19:38.136178Z",
     "shell.execute_reply": "2023-02-03T23:19:38.135264Z"
    },
    "papermill": {
     "duration": 0.078136,
     "end_time": "2023-02-03T23:19:38.138457",
     "exception": false,
     "start_time": "2023-02-03T23:19:38.060321",
     "status": "completed"
    },
    "tags": []
   },
   "outputs": [
    {
     "data": {
      "text/plain": [
       "0.887292817679558"
      ]
     },
     "execution_count": 60,
     "metadata": {},
     "output_type": "execute_result"
    }
   ],
   "source": [
    "model_rf.score(x_test,y_test)"
   ]
  },
  {
   "cell_type": "code",
   "execution_count": 61,
   "id": "eae91045",
   "metadata": {
    "execution": {
     "iopub.execute_input": "2023-02-03T23:19:38.223910Z",
     "iopub.status.busy": "2023-02-03T23:19:38.223510Z",
     "iopub.status.idle": "2023-02-03T23:19:38.235188Z",
     "shell.execute_reply": "2023-02-03T23:19:38.233702Z"
    },
    "papermill": {
     "duration": 0.058173,
     "end_time": "2023-02-03T23:19:38.238129",
     "exception": false,
     "start_time": "2023-02-03T23:19:38.179956",
     "status": "completed"
    },
    "tags": []
   },
   "outputs": [
    {
     "name": "stdout",
     "output_type": "stream",
     "text": [
      "              precision    recall  f1-score   support\n",
      "\n",
      "           0       0.89      1.00      0.94       804\n",
      "           1       0.00      0.00      0.00       101\n",
      "\n",
      "    accuracy                           0.89       905\n",
      "   macro avg       0.44      0.50      0.47       905\n",
      "weighted avg       0.79      0.89      0.84       905\n",
      "\n"
     ]
    }
   ],
   "source": [
    "print(classification_report(y_test, y_pred, labels=[0,1]))"
   ]
  },
  {
   "cell_type": "code",
   "execution_count": 62,
   "id": "1a7b5eb3",
   "metadata": {
    "execution": {
     "iopub.execute_input": "2023-02-03T23:19:38.324790Z",
     "iopub.status.busy": "2023-02-03T23:19:38.324339Z",
     "iopub.status.idle": "2023-02-03T23:19:38.331920Z",
     "shell.execute_reply": "2023-02-03T23:19:38.330677Z"
    },
    "papermill": {
     "duration": 0.053909,
     "end_time": "2023-02-03T23:19:38.334511",
     "exception": false,
     "start_time": "2023-02-03T23:19:38.280602",
     "status": "completed"
    },
    "tags": []
   },
   "outputs": [
    {
     "name": "stdout",
     "output_type": "stream",
     "text": [
      "[[803   1]\n",
      " [101   0]]\n"
     ]
    }
   ],
   "source": [
    "print(metrics.confusion_matrix(y_test, y_pred))"
   ]
  },
  {
   "cell_type": "markdown",
   "id": "eb988377",
   "metadata": {
    "papermill": {
     "duration": 0.041293,
     "end_time": "2023-02-03T23:19:38.418040",
     "exception": false,
     "start_time": "2023-02-03T23:19:38.376747",
     "status": "completed"
    },
    "tags": []
   },
   "source": [
    "89.06% accuracy"
   ]
  },
  {
   "cell_type": "markdown",
   "id": "295eb548",
   "metadata": {
    "papermill": {
     "duration": 0.04147,
     "end_time": "2023-02-03T23:19:38.500795",
     "exception": false,
     "start_time": "2023-02-03T23:19:38.459325",
     "status": "completed"
    },
    "tags": []
   },
   "source": [
    "Let us again use the SMOTEENN samples of x & y for Random Forest"
   ]
  },
  {
   "cell_type": "code",
   "execution_count": 63,
   "id": "238fa43f",
   "metadata": {
    "execution": {
     "iopub.execute_input": "2023-02-03T23:19:38.585200Z",
     "iopub.status.busy": "2023-02-03T23:19:38.584820Z",
     "iopub.status.idle": "2023-02-03T23:19:38.592707Z",
     "shell.execute_reply": "2023-02-03T23:19:38.591699Z"
    },
    "papermill": {
     "duration": 0.052924,
     "end_time": "2023-02-03T23:19:38.595128",
     "exception": false,
     "start_time": "2023-02-03T23:19:38.542204",
     "status": "completed"
    },
    "tags": []
   },
   "outputs": [],
   "source": [
    "xr_train1,xr_test1,yr_train1,yr_test1=train_test_split(X_resampled, y_resampled,test_size=0.2)"
   ]
  },
  {
   "cell_type": "code",
   "execution_count": 64,
   "id": "7a21c154",
   "metadata": {
    "execution": {
     "iopub.execute_input": "2023-02-03T23:19:38.680330Z",
     "iopub.status.busy": "2023-02-03T23:19:38.679914Z",
     "iopub.status.idle": "2023-02-03T23:19:39.110145Z",
     "shell.execute_reply": "2023-02-03T23:19:39.108705Z"
    },
    "papermill": {
     "duration": 0.476545,
     "end_time": "2023-02-03T23:19:39.113107",
     "exception": false,
     "start_time": "2023-02-03T23:19:38.636562",
     "status": "completed"
    },
    "tags": []
   },
   "outputs": [
    {
     "data": {
      "text/html": [
       "<style>#sk-container-id-3 {color: black;background-color: white;}#sk-container-id-3 pre{padding: 0;}#sk-container-id-3 div.sk-toggleable {background-color: white;}#sk-container-id-3 label.sk-toggleable__label {cursor: pointer;display: block;width: 100%;margin-bottom: 0;padding: 0.3em;box-sizing: border-box;text-align: center;}#sk-container-id-3 label.sk-toggleable__label-arrow:before {content: \"▸\";float: left;margin-right: 0.25em;color: #696969;}#sk-container-id-3 label.sk-toggleable__label-arrow:hover:before {color: black;}#sk-container-id-3 div.sk-estimator:hover label.sk-toggleable__label-arrow:before {color: black;}#sk-container-id-3 div.sk-toggleable__content {max-height: 0;max-width: 0;overflow: hidden;text-align: left;background-color: #f0f8ff;}#sk-container-id-3 div.sk-toggleable__content pre {margin: 0.2em;color: black;border-radius: 0.25em;background-color: #f0f8ff;}#sk-container-id-3 input.sk-toggleable__control:checked~div.sk-toggleable__content {max-height: 200px;max-width: 100%;overflow: auto;}#sk-container-id-3 input.sk-toggleable__control:checked~label.sk-toggleable__label-arrow:before {content: \"▾\";}#sk-container-id-3 div.sk-estimator input.sk-toggleable__control:checked~label.sk-toggleable__label {background-color: #d4ebff;}#sk-container-id-3 div.sk-label input.sk-toggleable__control:checked~label.sk-toggleable__label {background-color: #d4ebff;}#sk-container-id-3 input.sk-hidden--visually {border: 0;clip: rect(1px 1px 1px 1px);clip: rect(1px, 1px, 1px, 1px);height: 1px;margin: -1px;overflow: hidden;padding: 0;position: absolute;width: 1px;}#sk-container-id-3 div.sk-estimator {font-family: monospace;background-color: #f0f8ff;border: 1px dotted black;border-radius: 0.25em;box-sizing: border-box;margin-bottom: 0.5em;}#sk-container-id-3 div.sk-estimator:hover {background-color: #d4ebff;}#sk-container-id-3 div.sk-parallel-item::after {content: \"\";width: 100%;border-bottom: 1px solid gray;flex-grow: 1;}#sk-container-id-3 div.sk-label:hover label.sk-toggleable__label {background-color: #d4ebff;}#sk-container-id-3 div.sk-serial::before {content: \"\";position: absolute;border-left: 1px solid gray;box-sizing: border-box;top: 0;bottom: 0;left: 50%;z-index: 0;}#sk-container-id-3 div.sk-serial {display: flex;flex-direction: column;align-items: center;background-color: white;padding-right: 0.2em;padding-left: 0.2em;position: relative;}#sk-container-id-3 div.sk-item {position: relative;z-index: 1;}#sk-container-id-3 div.sk-parallel {display: flex;align-items: stretch;justify-content: center;background-color: white;position: relative;}#sk-container-id-3 div.sk-item::before, #sk-container-id-3 div.sk-parallel-item::before {content: \"\";position: absolute;border-left: 1px solid gray;box-sizing: border-box;top: 0;bottom: 0;left: 50%;z-index: -1;}#sk-container-id-3 div.sk-parallel-item {display: flex;flex-direction: column;z-index: 1;position: relative;background-color: white;}#sk-container-id-3 div.sk-parallel-item:first-child::after {align-self: flex-end;width: 50%;}#sk-container-id-3 div.sk-parallel-item:last-child::after {align-self: flex-start;width: 50%;}#sk-container-id-3 div.sk-parallel-item:only-child::after {width: 0;}#sk-container-id-3 div.sk-dashed-wrapped {border: 1px dashed gray;margin: 0 0.4em 0.5em 0.4em;box-sizing: border-box;padding-bottom: 0.4em;background-color: white;}#sk-container-id-3 div.sk-label label {font-family: monospace;font-weight: bold;display: inline-block;line-height: 1.2em;}#sk-container-id-3 div.sk-label-container {text-align: center;}#sk-container-id-3 div.sk-container {/* jupyter's `normalize.less` sets `[hidden] { display: none; }` but bootstrap.min.css set `[hidden] { display: none !important; }` so we also need the `!important` here to be able to override the default hidden behavior on the sphinx rendered scikit-learn.org. See: https://github.com/scikit-learn/scikit-learn/issues/21755 */display: inline-block !important;position: relative;}#sk-container-id-3 div.sk-text-repr-fallback {display: none;}</style><div id=\"sk-container-id-3\" class=\"sk-top-container\"><div class=\"sk-text-repr-fallback\"><pre>RandomForestClassifier(max_depth=6, min_samples_leaf=8, random_state=100)</pre><b>In a Jupyter environment, please rerun this cell to show the HTML representation or trust the notebook. <br />On GitHub, the HTML representation is unable to render, please try loading this page with nbviewer.org.</b></div><div class=\"sk-container\" hidden><div class=\"sk-item\"><div class=\"sk-estimator sk-toggleable\"><input class=\"sk-toggleable__control sk-hidden--visually\" id=\"sk-estimator-id-3\" type=\"checkbox\" checked><label for=\"sk-estimator-id-3\" class=\"sk-toggleable__label sk-toggleable__label-arrow\">RandomForestClassifier</label><div class=\"sk-toggleable__content\"><pre>RandomForestClassifier(max_depth=6, min_samples_leaf=8, random_state=100)</pre></div></div></div></div></div>"
      ],
      "text/plain": [
       "RandomForestClassifier(max_depth=6, min_samples_leaf=8, random_state=100)"
      ]
     },
     "execution_count": 64,
     "metadata": {},
     "output_type": "execute_result"
    }
   ],
   "source": [
    "model_rf_smote=RandomForestClassifier(n_estimators=100, criterion='gini', random_state = 100,max_depth=6, min_samples_leaf=8)\n",
    "model_rf_smote.fit(xr_train1,yr_train1)"
   ]
  },
  {
   "cell_type": "code",
   "execution_count": 65,
   "id": "925a8771",
   "metadata": {
    "execution": {
     "iopub.execute_input": "2023-02-03T23:19:39.200442Z",
     "iopub.status.busy": "2023-02-03T23:19:39.199395Z",
     "iopub.status.idle": "2023-02-03T23:19:39.268380Z",
     "shell.execute_reply": "2023-02-03T23:19:39.267157Z"
    },
    "papermill": {
     "duration": 0.116091,
     "end_time": "2023-02-03T23:19:39.271501",
     "exception": false,
     "start_time": "2023-02-03T23:19:39.155410",
     "status": "completed"
    },
    "tags": []
   },
   "outputs": [
    {
     "name": "stdout",
     "output_type": "stream",
     "text": [
      "0.947103274559194\n",
      "              precision    recall  f1-score   support\n",
      "\n",
      "           0       0.95      0.93      0.94       534\n",
      "           1       0.94      0.96      0.95       657\n",
      "\n",
      "    accuracy                           0.95      1191\n",
      "   macro avg       0.95      0.95      0.95      1191\n",
      "weighted avg       0.95      0.95      0.95      1191\n",
      "\n"
     ]
    }
   ],
   "source": [
    "yr_predict1 = model_rf_smote.predict(xr_test1)\n",
    "model_score_r1 = model_rf_smote.score(xr_test1, yr_test1)\n",
    "print(model_score_r1)\n",
    "print(metrics.classification_report(yr_test1, yr_predict1))"
   ]
  },
  {
   "cell_type": "code",
   "execution_count": 66,
   "id": "443765de",
   "metadata": {
    "execution": {
     "iopub.execute_input": "2023-02-03T23:19:39.357263Z",
     "iopub.status.busy": "2023-02-03T23:19:39.356186Z",
     "iopub.status.idle": "2023-02-03T23:19:39.363266Z",
     "shell.execute_reply": "2023-02-03T23:19:39.361835Z"
    },
    "papermill": {
     "duration": 0.052736,
     "end_time": "2023-02-03T23:19:39.365958",
     "exception": false,
     "start_time": "2023-02-03T23:19:39.313222",
     "status": "completed"
    },
    "tags": []
   },
   "outputs": [
    {
     "name": "stdout",
     "output_type": "stream",
     "text": [
      "[[496  38]\n",
      " [ 25 632]]\n"
     ]
    }
   ],
   "source": [
    "print(metrics.confusion_matrix(yr_test1, yr_predict1))"
   ]
  },
  {
   "cell_type": "markdown",
   "id": "23af3851",
   "metadata": {
    "papermill": {
     "duration": 0.041952,
     "end_time": "2023-02-03T23:19:39.450588",
     "exception": false,
     "start_time": "2023-02-03T23:19:39.408636",
     "status": "completed"
    },
    "tags": []
   },
   "source": [
    "This method gave 93.80% accuracy."
   ]
  },
  {
   "cell_type": "markdown",
   "id": "efa081ab",
   "metadata": {
    "papermill": {
     "duration": 0.041938,
     "end_time": "2023-02-03T23:19:41.002086",
     "exception": false,
     "start_time": "2023-02-03T23:19:40.960148",
     "status": "completed"
    },
    "tags": []
   },
   "source": [
    "# # **Logistic Regression**"
   ]
  },
  {
   "cell_type": "code",
   "execution_count": 67,
   "id": "782cbfea",
   "metadata": {
    "execution": {
     "iopub.execute_input": "2023-02-03T23:19:41.089052Z",
     "iopub.status.busy": "2023-02-03T23:19:41.088258Z",
     "iopub.status.idle": "2023-02-03T23:19:41.095334Z",
     "shell.execute_reply": "2023-02-03T23:19:41.094497Z"
    },
    "papermill": {
     "duration": 0.053276,
     "end_time": "2023-02-03T23:19:41.097822",
     "exception": false,
     "start_time": "2023-02-03T23:19:41.044546",
     "status": "completed"
    },
    "tags": []
   },
   "outputs": [],
   "source": [
    "xr_train3,xr_test3,yr_train3,yr_test3=train_test_split(X_resampled, y_resampled,test_size=0.2)"
   ]
  },
  {
   "cell_type": "code",
   "execution_count": 68,
   "id": "60b7e9c0",
   "metadata": {
    "execution": {
     "iopub.execute_input": "2023-02-03T23:19:41.185657Z",
     "iopub.status.busy": "2023-02-03T23:19:41.185017Z",
     "iopub.status.idle": "2023-02-03T23:19:41.377935Z",
     "shell.execute_reply": "2023-02-03T23:19:41.376251Z"
    },
    "papermill": {
     "duration": 0.243042,
     "end_time": "2023-02-03T23:19:41.383708",
     "exception": false,
     "start_time": "2023-02-03T23:19:41.140666",
     "status": "completed"
    },
    "tags": []
   },
   "outputs": [
    {
     "name": "stderr",
     "output_type": "stream",
     "text": [
      "C:\\python 3.10\\lib\\site-packages\\sklearn\\linear_model\\_logistic.py:458: ConvergenceWarning: lbfgs failed to converge (status=1):\n",
      "STOP: TOTAL NO. of ITERATIONS REACHED LIMIT.\n",
      "\n",
      "Increase the number of iterations (max_iter) or scale the data as shown in:\n",
      "    https://scikit-learn.org/stable/modules/preprocessing.html\n",
      "Please also refer to the documentation for alternative solver options:\n",
      "    https://scikit-learn.org/stable/modules/linear_model.html#logistic-regression\n",
      "  n_iter_i = _check_optimize_result(\n"
     ]
    },
    {
     "data": {
      "text/html": [
       "<style>#sk-container-id-4 {color: black;background-color: white;}#sk-container-id-4 pre{padding: 0;}#sk-container-id-4 div.sk-toggleable {background-color: white;}#sk-container-id-4 label.sk-toggleable__label {cursor: pointer;display: block;width: 100%;margin-bottom: 0;padding: 0.3em;box-sizing: border-box;text-align: center;}#sk-container-id-4 label.sk-toggleable__label-arrow:before {content: \"▸\";float: left;margin-right: 0.25em;color: #696969;}#sk-container-id-4 label.sk-toggleable__label-arrow:hover:before {color: black;}#sk-container-id-4 div.sk-estimator:hover label.sk-toggleable__label-arrow:before {color: black;}#sk-container-id-4 div.sk-toggleable__content {max-height: 0;max-width: 0;overflow: hidden;text-align: left;background-color: #f0f8ff;}#sk-container-id-4 div.sk-toggleable__content pre {margin: 0.2em;color: black;border-radius: 0.25em;background-color: #f0f8ff;}#sk-container-id-4 input.sk-toggleable__control:checked~div.sk-toggleable__content {max-height: 200px;max-width: 100%;overflow: auto;}#sk-container-id-4 input.sk-toggleable__control:checked~label.sk-toggleable__label-arrow:before {content: \"▾\";}#sk-container-id-4 div.sk-estimator input.sk-toggleable__control:checked~label.sk-toggleable__label {background-color: #d4ebff;}#sk-container-id-4 div.sk-label input.sk-toggleable__control:checked~label.sk-toggleable__label {background-color: #d4ebff;}#sk-container-id-4 input.sk-hidden--visually {border: 0;clip: rect(1px 1px 1px 1px);clip: rect(1px, 1px, 1px, 1px);height: 1px;margin: -1px;overflow: hidden;padding: 0;position: absolute;width: 1px;}#sk-container-id-4 div.sk-estimator {font-family: monospace;background-color: #f0f8ff;border: 1px dotted black;border-radius: 0.25em;box-sizing: border-box;margin-bottom: 0.5em;}#sk-container-id-4 div.sk-estimator:hover {background-color: #d4ebff;}#sk-container-id-4 div.sk-parallel-item::after {content: \"\";width: 100%;border-bottom: 1px solid gray;flex-grow: 1;}#sk-container-id-4 div.sk-label:hover label.sk-toggleable__label {background-color: #d4ebff;}#sk-container-id-4 div.sk-serial::before {content: \"\";position: absolute;border-left: 1px solid gray;box-sizing: border-box;top: 0;bottom: 0;left: 50%;z-index: 0;}#sk-container-id-4 div.sk-serial {display: flex;flex-direction: column;align-items: center;background-color: white;padding-right: 0.2em;padding-left: 0.2em;position: relative;}#sk-container-id-4 div.sk-item {position: relative;z-index: 1;}#sk-container-id-4 div.sk-parallel {display: flex;align-items: stretch;justify-content: center;background-color: white;position: relative;}#sk-container-id-4 div.sk-item::before, #sk-container-id-4 div.sk-parallel-item::before {content: \"\";position: absolute;border-left: 1px solid gray;box-sizing: border-box;top: 0;bottom: 0;left: 50%;z-index: -1;}#sk-container-id-4 div.sk-parallel-item {display: flex;flex-direction: column;z-index: 1;position: relative;background-color: white;}#sk-container-id-4 div.sk-parallel-item:first-child::after {align-self: flex-end;width: 50%;}#sk-container-id-4 div.sk-parallel-item:last-child::after {align-self: flex-start;width: 50%;}#sk-container-id-4 div.sk-parallel-item:only-child::after {width: 0;}#sk-container-id-4 div.sk-dashed-wrapped {border: 1px dashed gray;margin: 0 0.4em 0.5em 0.4em;box-sizing: border-box;padding-bottom: 0.4em;background-color: white;}#sk-container-id-4 div.sk-label label {font-family: monospace;font-weight: bold;display: inline-block;line-height: 1.2em;}#sk-container-id-4 div.sk-label-container {text-align: center;}#sk-container-id-4 div.sk-container {/* jupyter's `normalize.less` sets `[hidden] { display: none; }` but bootstrap.min.css set `[hidden] { display: none !important; }` so we also need the `!important` here to be able to override the default hidden behavior on the sphinx rendered scikit-learn.org. See: https://github.com/scikit-learn/scikit-learn/issues/21755 */display: inline-block !important;position: relative;}#sk-container-id-4 div.sk-text-repr-fallback {display: none;}</style><div id=\"sk-container-id-4\" class=\"sk-top-container\"><div class=\"sk-text-repr-fallback\"><pre>LogisticRegression(random_state=100)</pre><b>In a Jupyter environment, please rerun this cell to show the HTML representation or trust the notebook. <br />On GitHub, the HTML representation is unable to render, please try loading this page with nbviewer.org.</b></div><div class=\"sk-container\" hidden><div class=\"sk-item\"><div class=\"sk-estimator sk-toggleable\"><input class=\"sk-toggleable__control sk-hidden--visually\" id=\"sk-estimator-id-4\" type=\"checkbox\" checked><label for=\"sk-estimator-id-4\" class=\"sk-toggleable__label sk-toggleable__label-arrow\">LogisticRegression</label><div class=\"sk-toggleable__content\"><pre>LogisticRegression(random_state=100)</pre></div></div></div></div></div>"
      ],
      "text/plain": [
       "LogisticRegression(random_state=100)"
      ]
     },
     "execution_count": 68,
     "metadata": {},
     "output_type": "execute_result"
    }
   ],
   "source": [
    "model_lr_smote=LogisticRegression( random_state = 100)\n",
    "model_lr_smote.fit(xr_train3,yr_train3)"
   ]
  },
  {
   "cell_type": "code",
   "execution_count": 69,
   "id": "24189673",
   "metadata": {
    "execution": {
     "iopub.execute_input": "2023-02-03T23:19:41.537122Z",
     "iopub.status.busy": "2023-02-03T23:19:41.536664Z",
     "iopub.status.idle": "2023-02-03T23:19:41.546449Z",
     "shell.execute_reply": "2023-02-03T23:19:41.544797Z"
    },
    "papermill": {
     "duration": 0.05965,
     "end_time": "2023-02-03T23:19:41.550811",
     "exception": false,
     "start_time": "2023-02-03T23:19:41.491161",
     "status": "completed"
    },
    "tags": []
   },
   "outputs": [],
   "source": [
    "yr_predict3 = model_lr_smote.predict(xr_test3)"
   ]
  },
  {
   "cell_type": "code",
   "execution_count": 70,
   "id": "f34b06c4",
   "metadata": {
    "execution": {
     "iopub.execute_input": "2023-02-03T23:19:41.707981Z",
     "iopub.status.busy": "2023-02-03T23:19:41.707566Z",
     "iopub.status.idle": "2023-02-03T23:19:41.717909Z",
     "shell.execute_reply": "2023-02-03T23:19:41.716226Z"
    },
    "papermill": {
     "duration": 0.059994,
     "end_time": "2023-02-03T23:19:41.722105",
     "exception": false,
     "start_time": "2023-02-03T23:19:41.662111",
     "status": "completed"
    },
    "tags": []
   },
   "outputs": [],
   "source": [
    "model_score_r3 = model_lr_smote.score(xr_test3, yr_test3)"
   ]
  },
  {
   "cell_type": "code",
   "execution_count": 71,
   "id": "ba9ddfcf",
   "metadata": {
    "execution": {
     "iopub.execute_input": "2023-02-03T23:19:41.879523Z",
     "iopub.status.busy": "2023-02-03T23:19:41.879124Z",
     "iopub.status.idle": "2023-02-03T23:19:41.891463Z",
     "shell.execute_reply": "2023-02-03T23:19:41.890154Z"
    },
    "papermill": {
     "duration": 0.059735,
     "end_time": "2023-02-03T23:19:41.894761",
     "exception": false,
     "start_time": "2023-02-03T23:19:41.835026",
     "status": "completed"
    },
    "tags": []
   },
   "outputs": [
    {
     "name": "stdout",
     "output_type": "stream",
     "text": [
      "0.906801007556675\n",
      "              precision    recall  f1-score   support\n",
      "\n",
      "           0       0.88      0.91      0.90       532\n",
      "           1       0.93      0.90      0.91       659\n",
      "\n",
      "    accuracy                           0.91      1191\n",
      "   macro avg       0.91      0.91      0.91      1191\n",
      "weighted avg       0.91      0.91      0.91      1191\n",
      "\n"
     ]
    }
   ],
   "source": [
    "print(model_score_r3)\n",
    "print(metrics.classification_report(yr_test3, yr_predict3))"
   ]
  },
  {
   "cell_type": "code",
   "execution_count": 72,
   "id": "6929fea6",
   "metadata": {
    "execution": {
     "iopub.execute_input": "2023-02-03T23:19:41.985774Z",
     "iopub.status.busy": "2023-02-03T23:19:41.984578Z",
     "iopub.status.idle": "2023-02-03T23:19:41.991798Z",
     "shell.execute_reply": "2023-02-03T23:19:41.990465Z"
    },
    "papermill": {
     "duration": 0.054604,
     "end_time": "2023-02-03T23:19:41.994934",
     "exception": false,
     "start_time": "2023-02-03T23:19:41.940330",
     "status": "completed"
    },
    "tags": []
   },
   "outputs": [
    {
     "name": "stdout",
     "output_type": "stream",
     "text": [
      "[[485  47]\n",
      " [ 64 595]]\n"
     ]
    }
   ],
   "source": [
    "print(metrics.confusion_matrix(yr_test3, yr_predict3))"
   ]
  },
  {
   "cell_type": "markdown",
   "id": "401f9be3",
   "metadata": {},
   "source": [
    "This method gives 91.54% accuracy."
   ]
  }
 ],
 "metadata": {
  "kernelspec": {
   "display_name": "Python 3 (ipykernel)",
   "language": "python",
   "name": "python3"
  },
  "language_info": {
   "codemirror_mode": {
    "name": "ipython",
    "version": 3
   },
   "file_extension": ".py",
   "mimetype": "text/x-python",
   "name": "python",
   "nbconvert_exporter": "python",
   "pygments_lexer": "ipython3",
   "version": "3.10.6"
  },
  "papermill": {
   "default_parameters": {},
   "duration": 92.743259,
   "end_time": "2023-02-03T23:20:46.279546",
   "environment_variables": {},
   "exception": null,
   "input_path": "__notebook__.ipynb",
   "output_path": "__notebook__.ipynb",
   "parameters": {},
   "start_time": "2023-02-03T23:19:13.536287",
   "version": "2.3.4"
  }
 },
 "nbformat": 4,
 "nbformat_minor": 5
}
